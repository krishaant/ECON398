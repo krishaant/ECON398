{
 "cells": [
  {
   "cell_type": "code",
   "execution_count": 28,
   "metadata": {
    "vscode": {
     "languageId": "r"
    }
   },
   "outputs": [],
   "source": [
    "library(haven)\n",
    "library(stargazer)\n",
    "library(dplyr)\n",
    "library(infer)\n",
    "library(ggplot2)\n",
    "\n"
   ]
  },
  {
   "cell_type": "code",
   "execution_count": 4,
   "metadata": {
    "vscode": {
     "languageId": "r"
    }
   },
   "outputs": [],
   "source": [
    "# reading data \n",
    "\n",
    "data <- read_dta(\"/Users/krishaantpathmanathan/Downloads/ECON 398/cen_ind_2021_pumf_v2.dta 3\")"
   ]
  },
  {
   "cell_type": "code",
   "execution_count": 9,
   "metadata": {
    "vscode": {
     "languageId": "r"
    }
   },
   "outputs": [
    {
     "name": "stdout",
     "output_type": "stream",
     "text": [
      "\n",
      "=================================================\n",
      "                         Dependent variable:     \n",
      "                    -----------------------------\n",
      "                                CFInc            \n",
      "-------------------------------------------------\n",
      "genstat                       0.411***           \n",
      "                               (0.006)           \n",
      "                                                 \n",
      "Constant                      20.798***          \n",
      "                               (0.021)           \n",
      "                                                 \n",
      "-------------------------------------------------\n",
      "Observations                   980,868           \n",
      "R2                              0.004            \n",
      "Adjusted R2                     0.004            \n",
      "Residual Std. Error      8.944 (df = 980866)     \n",
      "F Statistic         4,277.340*** (df = 1; 980866)\n",
      "=================================================\n",
      "Note:                 *p<0.1; **p<0.05; ***p<0.01\n"
     ]
    }
   ],
   "source": [
    "# simple regression 1 - CFInc (Income) based on Gentstat (First Gen / Second Gen Canadian)\n",
    "\n",
    "\n",
    "reg_1 <-  lm(CFInc ~ genstat, data = data)\n",
    "\n",
    "stargazer(reg_1, type = \"text\")\n"
   ]
  },
  {
   "cell_type": "code",
   "execution_count": 14,
   "metadata": {
    "vscode": {
     "languageId": "r"
    }
   },
   "outputs": [
    {
     "name": "stdout",
     "output_type": "stream",
     "text": [
      "\n",
      "=================================================\n",
      "                         Dependent variable:     \n",
      "                    -----------------------------\n",
      "                                CFInc            \n",
      "-------------------------------------------------\n",
      "genstat                       0.395***           \n",
      "                               (0.006)           \n",
      "                                                 \n",
      "Gender                        0.481***           \n",
      "                               (0.018)           \n",
      "                                                 \n",
      "agegrp                        -0.142***          \n",
      "                               (0.001)           \n",
      "                                                 \n",
      "Constant                      21.790***          \n",
      "                               (0.037)           \n",
      "                                                 \n",
      "-------------------------------------------------\n",
      "Observations                   980,868           \n",
      "R2                              0.018            \n",
      "Adjusted R2                     0.018            \n",
      "Residual Std. Error      8.882 (df = 980864)     \n",
      "F Statistic         6,071.070*** (df = 3; 980864)\n",
      "=================================================\n",
      "Note:                 *p<0.1; **p<0.05; ***p<0.01\n"
     ]
    }
   ],
   "source": [
    "# simple regression 2 - adding covariates for Gender and agegrp \n",
    "\n",
    "reg_2 <-  lm(CFInc ~ genstat + Gender + agegrp, data = data)\n",
    "\n",
    "stargazer(reg_2, type = \"text\")\n"
   ]
  },
  {
   "cell_type": "code",
   "execution_count": 18,
   "metadata": {
    "vscode": {
     "languageId": "r"
    }
   },
   "outputs": [
    {
     "name": "stdout",
     "output_type": "stream",
     "text": [
      "\n",
      "==================================================\n",
      "                         Dependent variable:      \n",
      "                    ------------------------------\n",
      "                                CFInc             \n",
      "--------------------------------------------------\n",
      "genstat                        0.430***           \n",
      "                               (0.006)            \n",
      "                                                  \n",
      "Gender                         0.371***           \n",
      "                               (0.017)            \n",
      "                                                  \n",
      "agegrp                        -0.094***           \n",
      "                               (0.001)            \n",
      "                                                  \n",
      "hdgree                         0.274***           \n",
      "                               (0.001)            \n",
      "                                                  \n",
      "lfact                         -0.271***           \n",
      "                               (0.001)            \n",
      "                                                  \n",
      "Constant                      21.333***           \n",
      "                               (0.039)            \n",
      "                                                  \n",
      "--------------------------------------------------\n",
      "Observations                   980,868            \n",
      "R2                              0.081             \n",
      "Adjusted R2                     0.081             \n",
      "Residual Std. Error      8.594 (df = 980862)      \n",
      "F Statistic         17,254.280*** (df = 5; 980862)\n",
      "==================================================\n",
      "Note:                  *p<0.1; **p<0.05; ***p<0.01\n"
     ]
    }
   ],
   "source": [
    "# simple regression 3 - adding covariates for hdgree (education level) and lfact (labour force participation)\n",
    "\n",
    "reg_3 <-  lm(CFInc ~ genstat + Gender + agegrp + hdgree + lfact, data = data)\n",
    "\n",
    "stargazer(reg_3, type = \"text\")\n"
   ]
  },
  {
   "cell_type": "code",
   "execution_count": 20,
   "metadata": {
    "vscode": {
     "languageId": "r"
    }
   },
   "outputs": [
    {
     "name": "stdout",
     "output_type": "stream",
     "text": [
      "\n",
      "==================================================\n",
      "                         Dependent variable:      \n",
      "                    ------------------------------\n",
      "                                CFInc             \n",
      "--------------------------------------------------\n",
      "genstat                        0.461***           \n",
      "                               (0.006)            \n",
      "                                                  \n",
      "Gender                         0.371***           \n",
      "                               (0.017)            \n",
      "                                                  \n",
      "agegrp                        -0.094***           \n",
      "                               (0.001)            \n",
      "                                                  \n",
      "hdgree                         0.274***           \n",
      "                               (0.001)            \n",
      "                                                  \n",
      "lfact                         -0.270***           \n",
      "                               (0.001)            \n",
      "                                                  \n",
      "pr                             0.026***           \n",
      "                               (0.001)            \n",
      "                                                  \n",
      "Constant                      20.292***           \n",
      "                               (0.047)            \n",
      "                                                  \n",
      "--------------------------------------------------\n",
      "Observations                   980,868            \n",
      "R2                              0.082             \n",
      "Adjusted R2                     0.082             \n",
      "Residual Std. Error      8.587 (df = 980861)      \n",
      "F Statistic         14,645.080*** (df = 6; 980861)\n",
      "==================================================\n",
      "Note:                  *p<0.1; **p<0.05; ***p<0.01\n"
     ]
    }
   ],
   "source": [
    "# simple regression 4 - by pr (province)\n",
    "\n",
    "reg_4 <-  lm(CFInc ~ genstat + Gender + agegrp + hdgree + lfact + pr, data = data)\n",
    "\n",
    "stargazer(reg_4, type = \"text\")\n",
    "\n"
   ]
  },
  {
   "cell_type": "code",
   "execution_count": 30,
   "metadata": {
    "vscode": {
     "languageId": "r"
    }
   },
   "outputs": [
    {
     "name": "stderr",
     "output_type": "stream",
     "text": [
      "Warning message:\n",
      "“\u001b[1m\u001b[22mContinuous \u001b[32mx\u001b[39m aesthetic\n",
      "\u001b[36mℹ\u001b[39m did you forget `aes(group = ...)`?”\n",
      "Warning message:\n",
      "“\u001b[1m\u001b[22mThe following aesthetics were dropped during statistical transformation:\n",
      "\u001b[32mcolour\u001b[39m.\n",
      "\u001b[36mℹ\u001b[39m This can happen when ggplot fails to infer the correct grouping structure in\n",
      "  the data.\n",
      "\u001b[36mℹ\u001b[39m Did you forget to specify a `group` aesthetic or to convert a numerical\n",
      "  variable into a factor?”\n"
     ]
    },
    {
     "data": {
      "image/png": "[encoded data removed]",
      "text/plain": [
       "plot without title"
      ]
     },
     "metadata": {
      "image/png": {
       "height": 420,
       "width": 420
      }
     },
     "output_type": "display_data"
    }
   ],
   "source": [
    "# some useful ? visualisations \n",
    "\n",
    "data$predicted <- predict(reg_4)\n",
    "ggplot(data, aes(x = genstat, y = predicted, color = pr)) +\n",
    "  geom_boxplot() +\n",
    "  labs(title = \"Predicted Income by Generation Status and Province\",\n",
    "       x = \"Generation Status\", y = \"Predicted Income\") +\n",
    "  theme_minimal()\n"
   ]
  },
  {
   "cell_type": "code",
   "execution_count": 33,
   "metadata": {
    "vscode": {
     "languageId": "r"
    }
   },
   "outputs": [
    {
     "name": "stdout",
     "output_type": "stream",
     "text": [
      "\n",
      "==================================================\n",
      "                         Dependent variable:      \n",
      "                    ------------------------------\n",
      "                                CFInc             \n",
      "--------------------------------------------------\n",
      "genstat                        0.389***           \n",
      "                               (0.007)            \n",
      "                                                  \n",
      "hdgree                         0.283***           \n",
      "                               (0.002)            \n",
      "                                                  \n",
      "lfact                         -0.295***           \n",
      "                               (0.002)            \n",
      "                                                  \n",
      "pr                             0.026***           \n",
      "                               (0.001)            \n",
      "                                                  \n",
      "Gender                         0.368***           \n",
      "                               (0.017)            \n",
      "                                                  \n",
      "agegrp                        -0.093***           \n",
      "                               (0.001)            \n",
      "                                                  \n",
      "genstat:hdgree                -0.003***           \n",
      "                               (0.001)            \n",
      "                                                  \n",
      "genstat:lfact                  0.008***           \n",
      "                               (0.001)            \n",
      "                                                  \n",
      "Constant                      20.513***           \n",
      "                               (0.048)            \n",
      "                                                  \n",
      "--------------------------------------------------\n",
      "Observations                   980,868            \n",
      "R2                              0.083             \n",
      "Adjusted R2                     0.083             \n",
      "Residual Std. Error      8.585 (df = 980859)      \n",
      "F Statistic         11,070.260*** (df = 8; 980859)\n",
      "==================================================\n",
      "Note:                  *p<0.1; **p<0.05; ***p<0.01\n"
     ]
    }
   ],
   "source": [
    "# checking for interaction effects \n",
    "\n",
    "reg_interaction <- lm(CFInc ~ genstat * hdgree + genstat * lfact + pr + Gender + agegrp, data = data)\n",
    "\n",
    "\n",
    "stargazer(reg_interaction, type = \"text\")\n"
   ]
  },
  {
   "cell_type": "code",
   "execution_count": null,
   "metadata": {
    "vscode": {
     "languageId": "r"
    }
   },
   "outputs": [],
   "source": []
  }
 ],
 "metadata": {
  "kernelspec": {
   "display_name": "R",
   "language": "R",
   "name": "ir"
  },
  "language_info": {
   "codemirror_mode": "r",
   "file_extension": ".r",
   "mimetype": "text/x-r-source",
   "name": "R",
   "pygments_lexer": "r",
   "version": "4.4.2"
  }
 },
 "nbformat": 4,
 "nbformat_minor": 2
}
