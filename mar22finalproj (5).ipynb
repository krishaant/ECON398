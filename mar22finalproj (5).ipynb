{
 "cells": [
  {
   "cell_type": "code",
   "execution_count": 1,
   "metadata": {},
   "outputs": [
    {
     "name": "stderr",
     "output_type": "stream",
     "text": [
      "also installing the dependencies ‘commonmark’, ‘xfun’, ‘V8’, ‘litedown’, ‘reactR’, ‘bigD’, ‘juicyjuice’, ‘markdown’, ‘reactable’, ‘cards’, ‘gt’\n",
      "\n",
      "\n",
      "Updating HTML index of packages in '.Library'\n",
      "\n",
      "Making 'packages.html' ...\n",
      " done\n",
      "\n"
     ]
    }
   ],
   "source": [
    "install.packages(\"gtsummary\")"
   ]
  },
  {
   "cell_type": "code",
   "execution_count": 2,
   "metadata": {},
   "outputs": [
    {
     "name": "stderr",
     "output_type": "stream",
     "text": [
      "Updating HTML index of packages in '.Library'\n",
      "\n",
      "Making 'packages.html' ...\n",
      " done\n",
      "\n"
     ]
    }
   ],
   "source": [
    "install.packages(\"gt\")\n"
   ]
  },
  {
   "cell_type": "code",
   "execution_count": 22,
   "metadata": {},
   "outputs": [
    {
     "name": "stderr",
     "output_type": "stream",
     "text": [
      "Updating HTML index of packages in '.Library'\n",
      "\n",
      "Making 'packages.html' ...\n",
      " done\n",
      "\n"
     ]
    }
   ],
   "source": [
    "install.packages(\"skimr\")"
   ]
  },
  {
   "cell_type": "code",
   "execution_count": 6,
   "metadata": {
    "vscode": {
     "languageId": "r"
    }
   },
   "outputs": [
    {
     "ename": "ERROR",
     "evalue": "Error in library(kableExtra): there is no package called ‘kableExtra’\n",
     "output_type": "error",
     "traceback": [
      "Error in library(kableExtra): there is no package called ‘kableExtra’\nTraceback:\n",
      "1. stop(packageNotFoundError(package, lib.loc, sys.call()))"
     ]
    }
   ],
   "source": [
    "library(haven)\n",
    "library(stargazer)\n",
    "library(dplyr)\n",
    "library(infer)\n",
    "library(ggplot2)\n",
    "library(broom)\n",
    "library(knitr)\n",
    "library(kableExtra)\n",
    "library(readr)\n",
    "library(gtsummary)\n",
    "library(gt)"
   ]
  },
  {
   "cell_type": "code",
   "execution_count": 14,
   "metadata": {},
   "outputs": [],
   "source": [
    "library(gt)\n",
    "library(gtsummary)"
   ]
  },
  {
   "cell_type": "code",
   "execution_count": 7,
   "metadata": {},
   "outputs": [],
   "source": [
    "data <- read_dta(\"./cen_ind_2021_pumf_v2.dta\")"
   ]
  },
  {
   "cell_type": "code",
   "execution_count": 8,
   "metadata": {},
   "outputs": [],
   "source": [
    "#removes NA rows\n",
    "data <- data[data$CFInc != 88, ]\n",
    "\n",
    "data <- data[data$agegrp != 88, ]\n",
    "\n",
    "data <- data[data$genstat != 88, ]\n",
    "\n",
    "data <- data[data$hdgree != 88, ]\n",
    "data <- data[data$hdgree != 99, ]\n",
    "\n",
    "data <- data[data$lfact != 88, ]\n",
    "data <- data[data$lfact != 99, ]\n",
    "\n",
    "data <- data[data$NOC21 != 88, ]\n",
    "data <- data[data$NOC21 != 99, ]\n",
    "\n",
    "data <- na.omit(data)\n"
   ]
  },
  {
   "cell_type": "code",
   "execution_count": 9,
   "metadata": {},
   "outputs": [],
   "source": [
    "data <- data %>%\n",
    "  mutate(first_gen = ifelse(genstat == 1, 1, 0))\n",
    "\n",
    "data <- data %>%\n",
    "  mutate(sec_gen = ifelse(genstat %in% c(\"2\", \"3\"), 1, 0))\n",
    " \n",
    "data <- data %>%\n",
    "  mutate(third_gen = ifelse(genstat >= 4, 1, 0))\n"
   ]
  },
  {
   "cell_type": "code",
   "execution_count": null,
   "metadata": {},
   "outputs": [],
   "source": [
    "colnames(data)\n"
   ]
  },
  {
   "cell_type": "code",
   "execution_count": 10,
   "metadata": {},
   "outputs": [],
   "source": [
    "#making dummy for indivuals age 12-20\n",
    "data <- data %>%\n",
    "  mutate(agegrp_dummy = ifelse(agegrp %in% c(\"5\", \"6\", \"7\"), 1, 0))\n",
    "\n",
    "#dummy for bachelors degree to simplify \n",
    "data <- data %>%\n",
    "  mutate(bachelors_degree = ifelse(hdgree %in% c(9), 1, 0))"
   ]
  },
  {
   "cell_type": "code",
   "execution_count": null,
   "metadata": {},
   "outputs": [],
   "source": [
    "summary(data[, c(\"CFInc\", \"bachelors_degree\", \"genstat\", \"first_gen\", \n",
    "                 \"sec_gen\", \"third_gen\", \"Gender\", \"agegrp\", \"hdgree\", \n",
    "                 \"NOC21\", \"pr\", \"lfact\")])\n"
   ]
  },
  {
   "cell_type": "code",
   "execution_count": 18,
   "metadata": {},
   "outputs": [],
   "source": [
    "library(haven)"
   ]
  },
  {
   "cell_type": "code",
   "execution_count": 19,
   "metadata": {},
   "outputs": [],
   "source": [
    "\n",
    "data_clean <- data %>%\n",
    "  mutate(across(c(CFInc, hdgree, genstat, agegrp, Gender, NOC21, lfact), haven::as_factor))\n"
   ]
  },
  {
   "cell_type": "code",
   "execution_count": 20,
   "metadata": {},
   "outputs": [],
   "source": [
    "\n",
    "my_table <- data_clean %>%\n",
    "  select(CFInc, hdgree, genstat, agegrp, Gender, NOC21, lfact) %>%\n",
    "  tbl_summary()\n",
    "\n",
    "# Convert to gt object\n",
    "gt_table <- as_gt(my_table)\n",
    "\n",
    "# Save to HTML\n",
    "gtsave(gt_table, \"table_output.html\")\n"
   ]
  },
  {
   "cell_type": "code",
   "execution_count": 24,
   "metadata": {},
   "outputs": [
    {
     "name": "stdout",
     "output_type": "stream",
     "text": [
      "── Data Summary ────────────────────────\n",
      "                           Values    \n",
      "Name                       Piped data\n",
      "Number of rows             537314    \n",
      "Number of columns          4         \n",
      "_______________________              \n",
      "Column type frequency:               \n",
      "  factor                   4         \n",
      "________________________             \n",
      "Group variables            None      \n",
      "\n",
      "── Variable type: factor ───────────────────────────────────────────────────────\n",
      "  skim_variable n_missing complete_rate ordered n_unique\n",
      "\u001b[90m1\u001b[39m agegrp                0             1 FALSE         16\n",
      "\u001b[90m2\u001b[39m Gender                0             1 FALSE          2\n",
      "\u001b[90m3\u001b[39m CFInc                 0             1 FALSE         33\n",
      "\u001b[90m4\u001b[39m hdgree                0             1 FALSE         13\n",
      "  top_counts                                      \n",
      "\u001b[90m1\u001b[39m 35 : 58134, 30 : 58133, 25 : 55496, 40 : 55375  \n",
      "\u001b[90m2\u001b[39m Man: 279012, Wom: 258302                        \n",
      "\u001b[90m3\u001b[39m $15: 45892, $25: 40964, $20: 39095, $17: 33293  \n",
      "\u001b[90m4\u001b[39m Hig: 136834, Bac: 112178, Pro: 53692, No : 52171\n"
     ]
    },
    {
     "ename": "ERROR",
     "evalue": "Error in is.null(text_repr) || nchar(text_repr) == 0L: 'length = 7' in coercion to 'logical(1)'\n",
     "output_type": "error",
     "traceback": [
      "Error in is.null(text_repr) || nchar(text_repr) == 0L: 'length = 7' in coercion to 'logical(1)'\nTraceback:\n",
      "1. prepare_mimebundle_kernel(obj, .self$handle_display_error)",
      "2. .handleSimpleError(function (cnd) \n . {\n .     watcher$capture_plot_and_output()\n .     cnd <- sanitize_call(cnd)\n .     watcher$push(cnd)\n .     switch(on_error, continue = invokeRestart(\"eval_continue\"), \n .         stop = invokeRestart(\"eval_stop\"), error = NULL)\n . }, \"'length = 7' in coercion to 'logical(1)'\", base::quote(is.null(text_repr) || \n .     nchar(text_repr) == 0L))"
     ]
    }
   ],
   "source": [
    "library(skimr)\n",
    "\n",
    "data_clean %>%\n",
    "  select(agegrp, Gender, CFInc, hdgree) %>%\n",
    "  skim()\n"
   ]
  },
  {
   "cell_type": "code",
   "execution_count": null,
   "metadata": {
    "jupyter": {
     "source_hidden": true
    },
    "vscode": {
     "languageId": "r"
    }
   },
   "outputs": [],
   "source": [
    "# simple regression 1 - CFInc (Income) based on Gentstat (First Gen / Second Gen Canadian)\n",
    "\n",
    "\n",
    "reg_1 <-  lm(CFInc ~ genstat, data = data)\n",
    "\n",
    "stargazer(reg_1, type = \"text\")\n"
   ]
  },
  {
   "cell_type": "code",
   "execution_count": null,
   "metadata": {
    "jupyter": {
     "source_hidden": true
    },
    "vscode": {
     "languageId": "r"
    }
   },
   "outputs": [],
   "source": [
    "# simple regression 2 - adding covariates for Gender and agegrp \n",
    "\n",
    "reg_2 <-  lm(CFInc ~ genstat + Gender + agegrp, data = data)\n",
    "\n",
    "stargazer(reg_2, type = \"text\")\n"
   ]
  },
  {
   "cell_type": "code",
   "execution_count": null,
   "metadata": {
    "jupyter": {
     "source_hidden": true
    },
    "vscode": {
     "languageId": "r"
    }
   },
   "outputs": [],
   "source": [
    "# simple regression 3 - adding covariates for hdgree (education level) and lfact (labour force participation)\n",
    "\n",
    "reg_3 <-  lm(CFInc ~ genstat + Gender + agegrp + hdgree + lfact, data = data)\n",
    "\n",
    "stargazer(reg_3, type = \"text\")\n"
   ]
  },
  {
   "cell_type": "code",
   "execution_count": null,
   "metadata": {
    "jupyter": {
     "source_hidden": true
    },
    "scrolled": true,
    "vscode": {
     "languageId": "r"
    }
   },
   "outputs": [],
   "source": [
    "# simple regression 4 - by pr (province)\n",
    "\n",
    "reg_4 <-  lm(CFInc ~ genstat + Gender + agegrp + hdgree + lfact + pr, data = data)\n",
    "\n",
    "stargazer(reg_4, type = \"text\")\n"
   ]
  },
  {
   "cell_type": "code",
   "execution_count": null,
   "metadata": {
    "jupyter": {
     "source_hidden": true
    }
   },
   "outputs": [],
   "source": [
    "reg_5 <-  lm(CFInc ~ genstat + Gender + agegrp + hdgree + lfact + pr, data = data)\n",
    "\n",
    "stargazer(reg_4, type = \"text\")"
   ]
  },
  {
   "cell_type": "code",
   "execution_count": null,
   "metadata": {
    "jupyter": {
     "source_hidden": true
    },
    "vscode": {
     "languageId": "r"
    }
   },
   "outputs": [],
   "source": [
    "# checking for interaction effects \n",
    "\n",
    "reg_interaction <- lm(CFInc ~ genstat * hdgree + pr + Gender + agegrp + genstat * lfact, data = data)\n",
    "\n",
    "\n",
    "stargazer(reg_interaction, type = \"text\")\n"
   ]
  },
  {
   "cell_type": "code",
   "execution_count": null,
   "metadata": {
    "jupyter": {
     "source_hidden": true
    }
   },
   "outputs": [],
   "source": [
    "# more expierementing \n",
    "\n",
    "reg_interaction <- lm(CFInc ~ genstat * hdgree + pr + Gender + agegrp + genstat * lfact + hdgree * agegrp + hdgree * genstat, data = data)\n",
    "\n",
    "\n",
    "stargazer(reg_interaction, type = \"text\")"
   ]
  },
  {
   "cell_type": "code",
   "execution_count": null,
   "metadata": {
    "jupyter": {
     "source_hidden": true
    },
    "scrolled": true
   },
   "outputs": [],
   "source": [
    "# more expierementing \n",
    "\n",
    "reg_interaction <- lm(CFInc ~ genstat * hdgree + pr + Gender + agegrp + hdgree * genstat, data = data)\n",
    "\n",
    "\n",
    "stargazer(reg_interaction, type = \"text\")"
   ]
  },
  {
   "cell_type": "code",
   "execution_count": null,
   "metadata": {
    "jupyter": {
     "source_hidden": true
    },
    "scrolled": true
   },
   "outputs": [],
   "source": [
    "# Basic regressions\n",
    "model1 <- lm(CFInc ~ genstat, data = data)\n",
    "model2 <- lm(CFInc ~ genstat + Gender, data = data)\n",
    "model3 <- lm(CFInc ~ genstat + Gender + agegrp, data = data)\n",
    "model4 <- lm(CFInc ~ genstat + Gender + agegrp + hdgree, data = data)\n",
    "model5 <- lm(CFInc ~ genstat * hdgree + pr + Gender + agegrp + genstat * lfact, data = data)\n",
    "\n",
    "# Stargazer Table Output\n",
    "stargazer(model1, model2, model3, model4, model5,\n",
    "          type = \"html\", \n",
    "          title = \"Income on Generational Status\",\n",
    "          dep.var.labels = \"Dependent Variable: CFInc\",\n",
    "          out = \"income_table5.html\")\n",
    "\n"
   ]
  },
  {
   "cell_type": "code",
   "execution_count": null,
   "metadata": {
    "scrolled": true
   },
   "outputs": [],
   "source": [
    "# Basic regressions 2\n",
    "model1 <- lm(CFInc ~ genstat, data = data)\n",
    "model2 <- lm(CFInc ~ genstat + Gender + agegrp, data = data)\n",
    "model3 <- lm(CFInc ~ genstat + Gender + agegrp + hdgree, data = data)\n",
    "model4 <- lm(CFInc ~ genstat + Gender + agegrp + hdgree + NOC21, data = data)\n",
    "model5 <- lm(CFInc ~ genstat + Gender + agegrp + hdgree + NOC21 + pr + genstat * lfact, data = data)\n",
    "\n",
    "# Stargazer Table Output\n",
    "stargazer(model1, model2, model3, model4,model5,\n",
    "          type = \"html\", \n",
    "          title = \"Income on Generational Status\",\n",
    "          dep.var.labels = \"Dependent Variable: CFInc\",\n",
    "          out = \"income_table12.html\")\n",
    "\n"
   ]
  },
  {
   "cell_type": "code",
   "execution_count": null,
   "metadata": {
    "jupyter": {
     "source_hidden": true
    },
    "scrolled": true
   },
   "outputs": [],
   "source": [
    "#degree status on genstat \n",
    "# should be careful, meaning of hdgree is problematic \n",
    "model1.1 <- lm(bachelors_degree ~ genstat, data = data)\n",
    "model2.1 <- lm(bachelors_degree ~ genstat + Gender, data = data)\n",
    "model3.1 <- lm(bachelors_degree ~ genstat + Gender + agegrp, data = data)\n",
    "model4.1 <- lm(bachelors_degree ~ genstat + Gender + agegrp + lfact*agegrp_dummy, data = data)\n",
    "\n",
    "# Stargazer Table Output\n",
    "stargazer(model1.1, model2.1, model3.1, model4.1, \n",
    "          type = \"html\", \n",
    "          title = \"Degree on Generational Status\",\n",
    "          dep.var.labels = \"Dependent Variable: bachelors_degree\",\n",
    "          out = \"degree_table4.html\")\n",
    "\n"
   ]
  },
  {
   "cell_type": "code",
   "execution_count": null,
   "metadata": {
    "jupyter": {
     "source_hidden": true
    }
   },
   "outputs": [],
   "source": [
    "#very rough test if holding a bachelors degree is influenced by working ages 11-19\n",
    "extra1=lm(bachelors_degree ~ lfact*agegrp_dummy, data = data)\n",
    "summary(extra1)\n"
   ]
  },
  {
   "cell_type": "code",
   "execution_count": null,
   "metadata": {},
   "outputs": [],
   "source": [
    "# sees income effect for first gen immegratns only \n",
    "# Basic regressions 2\n",
    "model1 <- lm(CFInc ~ first_gen, data = data)\n",
    "model2 <- lm(CFInc ~ first_gen + Gender + agegrp, data = data)\n",
    "model3 <- lm(CFInc ~ first_gen + Gender + agegrp + hdgree, data = data)\n",
    "model4 <- lm(CFInc ~ first_gen + Gender + agegrp + hdgree + NOC21, data = data)\n",
    "model5 <- lm(CFInc ~ first_gen + Gender + agegrp + hdgree + NOC21 + pr + genstat * lfact, data = data)\n",
    "\n",
    "# Stargazer Table Output\n",
    "stargazer(model1, model2, model3, model4,model5,\n",
    "        type = \"text\", \n",
    "          title = \"Income on first Generational Status\",\n",
    "          dep.var.labels = \"Dependent Variable: CFInc\")\n"
   ]
  },
  {
   "cell_type": "code",
   "execution_count": null,
   "metadata": {
    "scrolled": true
   },
   "outputs": [],
   "source": [
    "# income for second gen immegrants only\n",
    "model1 <- lm(CFInc ~ sec_gen, data = data)\n",
    "model2 <- lm(CFInc ~ sec_gen + Gender + agegrp, data = data)\n",
    "model3 <- lm(CFInc ~ sec_gen + Gender + agegrp + hdgree, data = data)\n",
    "model4 <- lm(CFInc ~ sec_gen + Gender + agegrp + hdgree + NOC21, data = data)\n",
    "model5 <- lm(CFInc ~ sec_gen + Gender + agegrp + hdgree + NOC21 + pr + genstat * lfact, data = data)\n",
    "\n",
    "# Stargazer Table Output\n",
    "stargazer(model1, model2, model3, model4,model5,\n",
    "        type = \"text\", \n",
    "          title = \"Income on Second Generational Status\",\n",
    "          dep.var.labels = \"Dependent Variable: CFInc\")"
   ]
  },
  {
   "cell_type": "code",
   "execution_count": null,
   "metadata": {},
   "outputs": [],
   "source": [
    "# income for third gen immegrants only\n",
    "model1 <- lm(CFInc ~ third_gen, data = data)\n",
    "model2 <- lm(CFInc ~ third_gen + Gender + agegrp, data = data)\n",
    "model3 <- lm(CFInc ~ third_gen + Gender + agegrp + hdgree, data = data)\n",
    "model4 <- lm(CFInc ~ third_gen + Gender + agegrp + hdgree + NOC21, data = data)\n",
    "model5 <- lm(CFInc ~ third_gen + Gender + agegrp + hdgree + NOC21 + pr + genstat * lfact, data = data)\n",
    "\n",
    "# Stargazer Table Output\n",
    "stargazer(model1, model2, model3, model4,model5,\n",
    "        type = \"text\", \n",
    "          title = \"Income on Third+ Generational Status\",\n",
    "          dep.var.labels = \"Dependent Variable: CFInc\")"
   ]
  },
  {
   "cell_type": "code",
   "execution_count": null,
   "metadata": {
    "jupyter": {
     "source_hidden": true
    }
   },
   "outputs": [],
   "source": [
    "mod_A <- lm(CFInc ~ first_gen + Gender + agegrp + hdgree, data = data)\n",
    "mod_B <- lm(CFInc ~ first_gen + Gender + agegrp + hdgree, data = data)\n",
    "mod_C <- lm(CFInc ~ first_gen + Gender + agegrp + hdgree, data = data)\n"
   ]
  },
  {
   "cell_type": "code",
   "execution_count": null,
   "metadata": {},
   "outputs": [],
   "source": [
    "#dummy for in labour force\n",
    "data <- data %>%\n",
    "  mutate(lfact_dummy = ifelse(lfact %in% c(11,12,13,14), 1, 0))\n",
    "\n"
   ]
  },
  {
   "cell_type": "code",
   "execution_count": null,
   "metadata": {
    "jupyter": {
     "source_hidden": true
    }
   },
   "outputs": [],
   "source": [
    "#degree status on genstat \n",
    "# should be careful, meaning of hdgree is problematic \n",
    "model1 <- lm(bachelors_degree ~ third_gen, data = data)\n",
    "model2 <- lm(bachelors_degree ~ third_gen + Gender, data = data)\n",
    "model3 <- lm(bachelors_degree ~ third_gen + Gender + agegrp, data = data)\n",
    "model4 <- lm(bachelors_degree ~ third_gen + Gender + agegrp + employed_dummy*agegrp_dummy, data = data)\n",
    "\n",
    "# Stargazer Table Output\n",
    "stargazer(model1, model2, model3, model4, \n",
    "          type = \"text\", \n",
    "          title = \"Degree on Third Generational Status\",\n",
    "          dep.var.labels = \"Dependent Variable: bachelors_degree\",\n",
    "          out = \"degree_table4.html\")\n"
   ]
  },
  {
   "cell_type": "code",
   "execution_count": null,
   "metadata": {
    "jupyter": {
     "source_hidden": true
    },
    "scrolled": true
   },
   "outputs": [],
   "source": [
    "#degree status on genstat \n",
    "# should be careful, meaning of hdgree is problematic \n",
    "model1 <- lm(bachelors_degree ~ first_gen, data = data)\n",
    "model2 <- lm(bachelors_degree ~ first_gen + Gender, data = data)\n",
    "model3 <- lm(bachelors_degree ~ first_gen + Gender + agegrp, data = data)\n",
    "model4 <- lm(bachelors_degree ~ first_gen + Gender + agegrp + lfact*agegrp_dummy, data = data)\n",
    "\n",
    "# Stargazer Table Output\n",
    "stargazer(model1, model2, model3, model4, \n",
    "          type = \"text\", \n",
    "          title = \"Degree on First Generational Status\",\n",
    "          dep.var.labels = \"Dependent Variable: bachelors_degree\",\n",
    "          out = \"degree_table4.html\")\n"
   ]
  },
  {
   "cell_type": "code",
   "execution_count": null,
   "metadata": {
    "jupyter": {
     "source_hidden": true
    }
   },
   "outputs": [],
   "source": [
    "#Plots of income distrabution for first seocnd and third gen immegrants overlapping \n",
    "fitted_A <- predict(mod_A)\n",
    "fitted_B <- predict(mod_B)\n",
    "fitted_C <- predict(mod_C)\n",
    "\n",
    "# Get residual SD\n",
    "sigma_A <- summary(mod_A)$sigma\n",
    "sigma_B <- summary(mod_B)$sigma\n",
    "sigma_C <- summary(mod_C)$sigma\n",
    "\n",
    "# Simulate predicted outcomes around the fitted values\n",
    "set.seed(123)\n",
    "sim_A <- rnorm(length(fitted_A), mean = fitted_A, sd = sigma_A)\n",
    "sim_B <- rnorm(length(fitted_B), mean = fitted_B, sd = sigma_B)\n",
    "sim_C <- rnorm(length(fitted_C), mean = fitted_C, sd = sigma_C)\n",
    "\n",
    "# Combine for plotting\n",
    "df_plot <- data.frame(\n",
    "  outcome = c(sim_A, sim_B, sim_C),\n",
    "  group = factor(c(\n",
    "    rep(\"A\", length(sim_A)),\n",
    "    rep(\"B\", length(sim_B)),\n",
    "    rep(\"C\", length(sim_C))\n",
    "  ))\n",
    ")\n",
    "\n",
    "# Plot\n",
    "ggplot(df_plot, aes(x = outcome, fill = group)) +\n",
    "  geom_density(alpha = 0.5) +\n",
    "  labs(title = \"Predicted Income Distrabution by Generational Immigrant Status\",\n",
    "       x = \"Simulated Outcome\", y = \"Density\") +\n",
    "  theme_minimal()\n"
   ]
  },
  {
   "cell_type": "code",
   "execution_count": null,
   "metadata": {
    "jupyter": {
     "source_hidden": true
    },
    "scrolled": true
   },
   "outputs": [],
   "source": [
    "#degree status on genstat \n",
    "# should be careful, meaning of hdgree is problematic \n",
    "model1 <- lm(bachelors_degree ~ sec_gen, data = data)\n",
    "model2 <- lm(bachelors_degree ~ sec_gen + Gender, data = data)\n",
    "model3 <- lm(bachelors_degree ~ sec_gen + Gender + agegrp, data = data)\n",
    "model4 <- lm(bachelors_degree ~ sec_gen + Gender + agegrp + lfact*agegrp_dummy, data = data)\n",
    "\n",
    "# Stargazer Table Output\n",
    "stargazer(model1, model2, model3, model4, \n",
    "          type = \"text\", \n",
    "          title = \"Degree on First Second Generational Status\",\n",
    "          dep.var.labels = \"Dependent Variable: bachelors_degree\",\n",
    "          out = \"degree_table4.html\")\n"
   ]
  },
  {
   "cell_type": "code",
   "execution_count": null,
   "metadata": {},
   "outputs": [],
   "source": [
    "#degree status on genstat \n",
    "# should be careful, meaning of hdgree is problematic \n",
    "model1 <- lm(bachelors_degree ~ genstat, data = data)\n",
    "model2 <- lm(bachelors_degree ~ genstat + Gender, data = data)\n",
    "model3 <- lm(bachelors_degree ~ genstat + Gender + agegrp, data = data)\n",
    "model4 <- lm(bachelors_degree ~ genstat + Gender + agegrp + lfact_dummy*agegrp_dummy, data = data)\n",
    "\n",
    "# Stargazer Table Output\n",
    "stargazer(model1, model2, model3, model4, \n",
    "          type = \"html\", \n",
    "          title = \"Bachelors Degree on Generational Status\",\n",
    "          dep.var.labels = \"Dependent Variable: bachelors_degree\",\n",
    "          out = \"degree_table4.html\")\n"
   ]
  },
  {
   "cell_type": "code",
   "execution_count": null,
   "metadata": {},
   "outputs": [],
   "source": []
  }
 ],
 "metadata": {
  "kernelspec": {
   "display_name": "R",
   "language": "R",
   "name": "ir"
  },
  "language_info": {
   "codemirror_mode": "r",
   "file_extension": ".r",
   "mimetype": "text/x-r-source",
   "name": "R",
   "pygments_lexer": "r",
   "version": "4.3.3"
  }
 },
 "nbformat": 4,
 "nbformat_minor": 4
}
