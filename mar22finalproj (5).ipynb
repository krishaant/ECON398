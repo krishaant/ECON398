{
 "cells": [
  {
   "cell_type": "code",
   "execution_count": 7,
   "metadata": {
    "vscode": {
     "languageId": "r"
    }
   },
   "outputs": [
    {
     "name": "stderr",
     "output_type": "stream",
     "text": [
      "Updating HTML index of packages in '.Library'\n",
      "\n",
      "Making 'packages.html' ...\n",
      " done\n",
      "\n"
     ]
    }
   ],
   "source": [
    "install.packages(\"gt\")"
   ]
  },
  {
   "cell_type": "code",
   "execution_count": 5,
   "metadata": {
    "vscode": {
     "languageId": "r"
    }
   },
   "outputs": [
    {
     "name": "stderr",
     "output_type": "stream",
     "text": [
      "Updating HTML index of packages in '.Library'\n",
      "\n",
      "Making 'packages.html' ...\n",
      " done\n",
      "\n"
     ]
    }
   ],
   "source": [
    "install.packages(\"readr\")\n"
   ]
  },
  {
   "cell_type": "code",
   "execution_count": 6,
   "metadata": {
    "vscode": {
     "languageId": "r"
    }
   },
   "outputs": [
    {
     "name": "stderr",
     "output_type": "stream",
     "text": [
      "Updating HTML index of packages in '.Library'\n",
      "\n",
      "Making 'packages.html' ...\n",
      " done\n",
      "\n"
     ]
    }
   ],
   "source": [
    "install.packages(\"kableExtra\")"
   ]
  },
  {
   "cell_type": "code",
   "execution_count": 8,
   "metadata": {
    "vscode": {
     "languageId": "r"
    }
   },
   "outputs": [
    {
     "name": "stderr",
     "output_type": "stream",
     "text": [
      "\n",
      "Attaching package: ‘kableExtra’\n",
      "\n",
      "\n",
      "The following object is masked from ‘package:dplyr’:\n",
      "\n",
      "    group_rows\n",
      "\n",
      "\n"
     ]
    }
   ],
   "source": [
    "library(haven)\n",
    "library(stargazer)\n",
    "library(dplyr)\n",
    "library(infer)\n",
    "library(ggplot2)\n",
    "library(broom)\n",
    "library(knitr)\n",
    "library(kableExtra)\n",
    "library(readr)\n",
    "library(gtsummary)\n",
    "library(gt)"
   ]
  },
  {
   "cell_type": "code",
   "execution_count": 9,
   "metadata": {
    "vscode": {
     "languageId": "r"
    }
   },
   "outputs": [],
   "source": [
    "library(gt)\n",
    "library(gtsummary)"
   ]
  },
  {
   "cell_type": "code",
   "execution_count": 101,
   "metadata": {
    "vscode": {
     "languageId": "r"
    }
   },
   "outputs": [],
   "source": [
    "data <- read_dta(\"/Users/krishaantpathmanathan/Downloads/ECON 398/cen_ind_2021_pumf_v2.dta 3\")\n"
   ]
  },
  {
   "cell_type": "code",
   "execution_count": 102,
   "metadata": {
    "vscode": {
     "languageId": "r"
    }
   },
   "outputs": [],
   "source": [
    "#removes NA rows\n",
    "data <- data[data$CFInc != 88, ]\n",
    "\n",
    "data <- data[data$agegrp != 88, ]\n",
    "\n",
    "data <- data[data$genstat != 88, ]\n",
    "\n",
    "data <- data[data$hdgree != 88, ]\n",
    "data <- data[data$hdgree != 99, ]\n",
    "\n",
    "data <- data[data$lfact != 88, ]\n",
    "data <- data[data$lfact != 99, ]\n",
    "\n",
    "data <- data[data$NOC21 != 88, ]\n",
    "data <- data[data$NOC21 != 99, ]\n",
    "\n",
    "data <- na.omit(data)\n"
   ]
  },
  {
   "cell_type": "code",
   "execution_count": 103,
   "metadata": {
    "vscode": {
     "languageId": "r"
    }
   },
   "outputs": [],
   "source": [
    "data <- data %>%\n",
    "  mutate(first_gen = ifelse(genstat == 1, 1, 0))\n",
    "\n",
    "data <- data %>%\n",
    "  mutate(sec_gen = ifelse(genstat %in% c(\"2\", \"3\"), 1, 0))\n",
    " \n",
    "data <- data %>%\n",
    "  mutate(third_gen = ifelse(genstat >= 4, 1, 0))\n"
   ]
  },
  {
   "cell_type": "code",
   "execution_count": 104,
   "metadata": {
    "vscode": {
     "languageId": "r"
    }
   },
   "outputs": [
    {
     "data": {
      "text/html": [
       "<style>\n",
       ".list-inline {list-style: none; margin:0; padding: 0}\n",
       ".list-inline>li {display: inline-block}\n",
       ".list-inline>li:not(:last-child)::after {content: \"\\00b7\"; padding: 0 .5ex}\n",
       "</style>\n",
       "<ol class=list-inline><li>'ppsort'</li><li>'aboid'</li><li>'agegrp'</li><li>'ageimm'</li><li>'attsch'</li><li>'bfnmemb'</li><li>'bedrm'</li><li>'CFInc'</li><li>'CFInc_AT'</li><li>'cfstat'</li><li>'chdbn'</li><li>'CIP2021'</li><li>'CIP2021_STEM_SUM'</li><li>'cma'</li><li>'condo'</li><li>'COVID_ERB'</li><li>'cow'</li><li>'cqppb'</li><li>'CapGn'</li><li>'CfSize'</li><li>'ChldC'</li><li>'CitOth'</li><li>'Citizen'</li><li>'dist'</li><li>'dpgrsum'</li><li>'dtype'</li><li>'EFDecile'</li><li>'EFInc'</li><li>'EFInc_AT'</li><li>'eicbn'</li><li>'ethder'</li><li>'EfDIMBM_2018'</li><li>'EfSize'</li><li>'EmpIn'</li><li>'fol'</li><li>'fptwk'</li><li>'Gender'</li><li>'genstat'</li><li>'GovtI'</li><li>'GTRfs'</li><li>'HCORENEED_IND'</li><li>'hdgree'</li><li>'HHInc'</li><li>'HHInc_AT'</li><li>'hhmrkinc'</li><li>'hhsize'</li><li>'hhtype'</li><li>'hlmosten'</li><li>'hlmostfr'</li><li>'hlmostno'</li><li>'hlregen'</li><li>'hlregfr'</li><li>'hlregno'</li><li>'IMMCAT5'</li><li>'immstat'</li><li>'IncTax'</li><li>'Invst'</li><li>'jobperm'</li><li>'kol'</li><li>'lfact'</li><li>'LICO_BT'</li><li>'LICO_AT'</li><li>'liprogtype'</li><li>'LI_ELIG_OML_U18'</li><li>'locstud'</li><li>'LOC_ST_RES'</li><li>'lstwrk'</li><li>'lwmosten'</li><li>'lwmostfr'</li><li>'lwmostno'</li><li>'lwregen'</li><li>'lwregfr'</li><li>'lwregno'</li><li>'LoLIMA'</li><li>'LoLIMB'</li><li>'LOMBM_2018'</li><li>'mode'</li><li>'MTNEn'</li><li>'MTNFr'</li><li>'mtnno'</li><li>'marsth'</li><li>'Mob1'</li><li>'Mob5'</li><li>'MrkInc'</li><li>'naics'</li><li>'NOC21'</li><li>'nol'</li><li>'nos'</li><li>'oasgi'</li><li>'OtInc'</li><li>'PKID25'</li><li>'PKID0_1'</li><li>'PKID15_24'</li><li>'PKID2_5'</li><li>'PKID6_14'</li><li>'pkids'</li><li>'pob'</li><li>'POBPAR1'</li><li>'POBPAR2'</li><li>'powst'</li><li>'pr'</li><li>'PR1'</li><li>'PR5'</li><li>'presmortg'</li><li>'prihm'</li><li>'pwdur'</li><li>'pwleave'</li><li>'pwocc'</li><li>'pwpr'</li><li>'regind'</li><li>'relig'</li><li>'repair'</li><li>'room'</li><li>'Retir'</li><li>'shelco'</li><li>'ssgrad'</li><li>'subsidy'</li><li>'SempI'</li><li>'tenur'</li><li>'TotInc'</li><li>'TotInc_AT'</li><li>'vismin'</li><li>'Value'</li><li>'wkswrk'</li><li>'wrkact'</li><li>'Wages'</li><li>'yrim'</li><li>'weight'</li><li>'WT1'</li><li>'WT2'</li><li>'WT3'</li><li>'WT4'</li><li>'WT5'</li><li>'WT6'</li><li>'WT7'</li><li>'WT8'</li><li>'WT9'</li><li>'WT10'</li><li>'WT11'</li><li>'WT12'</li><li>'WT13'</li><li>'WT14'</li><li>'WT15'</li><li>'WT16'</li><li>'first_gen'</li><li>'sec_gen'</li><li>'third_gen'</li></ol>\n"
      ],
      "text/latex": [
       "\\begin{enumerate*}\n",
       "\\item 'ppsort'\n",
       "\\item 'aboid'\n",
       "\\item 'agegrp'\n",
       "\\item 'ageimm'\n",
       "\\item 'attsch'\n",
       "\\item 'bfnmemb'\n",
       "\\item 'bedrm'\n",
       "\\item 'CFInc'\n",
       "\\item 'CFInc\\_AT'\n",
       "\\item 'cfstat'\n",
       "\\item 'chdbn'\n",
       "\\item 'CIP2021'\n",
       "\\item 'CIP2021\\_STEM\\_SUM'\n",
       "\\item 'cma'\n",
       "\\item 'condo'\n",
       "\\item 'COVID\\_ERB'\n",
       "\\item 'cow'\n",
       "\\item 'cqppb'\n",
       "\\item 'CapGn'\n",
       "\\item 'CfSize'\n",
       "\\item 'ChldC'\n",
       "\\item 'CitOth'\n",
       "\\item 'Citizen'\n",
       "\\item 'dist'\n",
       "\\item 'dpgrsum'\n",
       "\\item 'dtype'\n",
       "\\item 'EFDecile'\n",
       "\\item 'EFInc'\n",
       "\\item 'EFInc\\_AT'\n",
       "\\item 'eicbn'\n",
       "\\item 'ethder'\n",
       "\\item 'EfDIMBM\\_2018'\n",
       "\\item 'EfSize'\n",
       "\\item 'EmpIn'\n",
       "\\item 'fol'\n",
       "\\item 'fptwk'\n",
       "\\item 'Gender'\n",
       "\\item 'genstat'\n",
       "\\item 'GovtI'\n",
       "\\item 'GTRfs'\n",
       "\\item 'HCORENEED\\_IND'\n",
       "\\item 'hdgree'\n",
       "\\item 'HHInc'\n",
       "\\item 'HHInc\\_AT'\n",
       "\\item 'hhmrkinc'\n",
       "\\item 'hhsize'\n",
       "\\item 'hhtype'\n",
       "\\item 'hlmosten'\n",
       "\\item 'hlmostfr'\n",
       "\\item 'hlmostno'\n",
       "\\item 'hlregen'\n",
       "\\item 'hlregfr'\n",
       "\\item 'hlregno'\n",
       "\\item 'IMMCAT5'\n",
       "\\item 'immstat'\n",
       "\\item 'IncTax'\n",
       "\\item 'Invst'\n",
       "\\item 'jobperm'\n",
       "\\item 'kol'\n",
       "\\item 'lfact'\n",
       "\\item 'LICO\\_BT'\n",
       "\\item 'LICO\\_AT'\n",
       "\\item 'liprogtype'\n",
       "\\item 'LI\\_ELIG\\_OML\\_U18'\n",
       "\\item 'locstud'\n",
       "\\item 'LOC\\_ST\\_RES'\n",
       "\\item 'lstwrk'\n",
       "\\item 'lwmosten'\n",
       "\\item 'lwmostfr'\n",
       "\\item 'lwmostno'\n",
       "\\item 'lwregen'\n",
       "\\item 'lwregfr'\n",
       "\\item 'lwregno'\n",
       "\\item 'LoLIMA'\n",
       "\\item 'LoLIMB'\n",
       "\\item 'LOMBM\\_2018'\n",
       "\\item 'mode'\n",
       "\\item 'MTNEn'\n",
       "\\item 'MTNFr'\n",
       "\\item 'mtnno'\n",
       "\\item 'marsth'\n",
       "\\item 'Mob1'\n",
       "\\item 'Mob5'\n",
       "\\item 'MrkInc'\n",
       "\\item 'naics'\n",
       "\\item 'NOC21'\n",
       "\\item 'nol'\n",
       "\\item 'nos'\n",
       "\\item 'oasgi'\n",
       "\\item 'OtInc'\n",
       "\\item 'PKID25'\n",
       "\\item 'PKID0\\_1'\n",
       "\\item 'PKID15\\_24'\n",
       "\\item 'PKID2\\_5'\n",
       "\\item 'PKID6\\_14'\n",
       "\\item 'pkids'\n",
       "\\item 'pob'\n",
       "\\item 'POBPAR1'\n",
       "\\item 'POBPAR2'\n",
       "\\item 'powst'\n",
       "\\item 'pr'\n",
       "\\item 'PR1'\n",
       "\\item 'PR5'\n",
       "\\item 'presmortg'\n",
       "\\item 'prihm'\n",
       "\\item 'pwdur'\n",
       "\\item 'pwleave'\n",
       "\\item 'pwocc'\n",
       "\\item 'pwpr'\n",
       "\\item 'regind'\n",
       "\\item 'relig'\n",
       "\\item 'repair'\n",
       "\\item 'room'\n",
       "\\item 'Retir'\n",
       "\\item 'shelco'\n",
       "\\item 'ssgrad'\n",
       "\\item 'subsidy'\n",
       "\\item 'SempI'\n",
       "\\item 'tenur'\n",
       "\\item 'TotInc'\n",
       "\\item 'TotInc\\_AT'\n",
       "\\item 'vismin'\n",
       "\\item 'Value'\n",
       "\\item 'wkswrk'\n",
       "\\item 'wrkact'\n",
       "\\item 'Wages'\n",
       "\\item 'yrim'\n",
       "\\item 'weight'\n",
       "\\item 'WT1'\n",
       "\\item 'WT2'\n",
       "\\item 'WT3'\n",
       "\\item 'WT4'\n",
       "\\item 'WT5'\n",
       "\\item 'WT6'\n",
       "\\item 'WT7'\n",
       "\\item 'WT8'\n",
       "\\item 'WT9'\n",
       "\\item 'WT10'\n",
       "\\item 'WT11'\n",
       "\\item 'WT12'\n",
       "\\item 'WT13'\n",
       "\\item 'WT14'\n",
       "\\item 'WT15'\n",
       "\\item 'WT16'\n",
       "\\item 'first\\_gen'\n",
       "\\item 'sec\\_gen'\n",
       "\\item 'third\\_gen'\n",
       "\\end{enumerate*}\n"
      ],
      "text/markdown": [
       "1. 'ppsort'\n",
       "2. 'aboid'\n",
       "3. 'agegrp'\n",
       "4. 'ageimm'\n",
       "5. 'attsch'\n",
       "6. 'bfnmemb'\n",
       "7. 'bedrm'\n",
       "8. 'CFInc'\n",
       "9. 'CFInc_AT'\n",
       "10. 'cfstat'\n",
       "11. 'chdbn'\n",
       "12. 'CIP2021'\n",
       "13. 'CIP2021_STEM_SUM'\n",
       "14. 'cma'\n",
       "15. 'condo'\n",
       "16. 'COVID_ERB'\n",
       "17. 'cow'\n",
       "18. 'cqppb'\n",
       "19. 'CapGn'\n",
       "20. 'CfSize'\n",
       "21. 'ChldC'\n",
       "22. 'CitOth'\n",
       "23. 'Citizen'\n",
       "24. 'dist'\n",
       "25. 'dpgrsum'\n",
       "26. 'dtype'\n",
       "27. 'EFDecile'\n",
       "28. 'EFInc'\n",
       "29. 'EFInc_AT'\n",
       "30. 'eicbn'\n",
       "31. 'ethder'\n",
       "32. 'EfDIMBM_2018'\n",
       "33. 'EfSize'\n",
       "34. 'EmpIn'\n",
       "35. 'fol'\n",
       "36. 'fptwk'\n",
       "37. 'Gender'\n",
       "38. 'genstat'\n",
       "39. 'GovtI'\n",
       "40. 'GTRfs'\n",
       "41. 'HCORENEED_IND'\n",
       "42. 'hdgree'\n",
       "43. 'HHInc'\n",
       "44. 'HHInc_AT'\n",
       "45. 'hhmrkinc'\n",
       "46. 'hhsize'\n",
       "47. 'hhtype'\n",
       "48. 'hlmosten'\n",
       "49. 'hlmostfr'\n",
       "50. 'hlmostno'\n",
       "51. 'hlregen'\n",
       "52. 'hlregfr'\n",
       "53. 'hlregno'\n",
       "54. 'IMMCAT5'\n",
       "55. 'immstat'\n",
       "56. 'IncTax'\n",
       "57. 'Invst'\n",
       "58. 'jobperm'\n",
       "59. 'kol'\n",
       "60. 'lfact'\n",
       "61. 'LICO_BT'\n",
       "62. 'LICO_AT'\n",
       "63. 'liprogtype'\n",
       "64. 'LI_ELIG_OML_U18'\n",
       "65. 'locstud'\n",
       "66. 'LOC_ST_RES'\n",
       "67. 'lstwrk'\n",
       "68. 'lwmosten'\n",
       "69. 'lwmostfr'\n",
       "70. 'lwmostno'\n",
       "71. 'lwregen'\n",
       "72. 'lwregfr'\n",
       "73. 'lwregno'\n",
       "74. 'LoLIMA'\n",
       "75. 'LoLIMB'\n",
       "76. 'LOMBM_2018'\n",
       "77. 'mode'\n",
       "78. 'MTNEn'\n",
       "79. 'MTNFr'\n",
       "80. 'mtnno'\n",
       "81. 'marsth'\n",
       "82. 'Mob1'\n",
       "83. 'Mob5'\n",
       "84. 'MrkInc'\n",
       "85. 'naics'\n",
       "86. 'NOC21'\n",
       "87. 'nol'\n",
       "88. 'nos'\n",
       "89. 'oasgi'\n",
       "90. 'OtInc'\n",
       "91. 'PKID25'\n",
       "92. 'PKID0_1'\n",
       "93. 'PKID15_24'\n",
       "94. 'PKID2_5'\n",
       "95. 'PKID6_14'\n",
       "96. 'pkids'\n",
       "97. 'pob'\n",
       "98. 'POBPAR1'\n",
       "99. 'POBPAR2'\n",
       "100. 'powst'\n",
       "101. 'pr'\n",
       "102. 'PR1'\n",
       "103. 'PR5'\n",
       "104. 'presmortg'\n",
       "105. 'prihm'\n",
       "106. 'pwdur'\n",
       "107. 'pwleave'\n",
       "108. 'pwocc'\n",
       "109. 'pwpr'\n",
       "110. 'regind'\n",
       "111. 'relig'\n",
       "112. 'repair'\n",
       "113. 'room'\n",
       "114. 'Retir'\n",
       "115. 'shelco'\n",
       "116. 'ssgrad'\n",
       "117. 'subsidy'\n",
       "118. 'SempI'\n",
       "119. 'tenur'\n",
       "120. 'TotInc'\n",
       "121. 'TotInc_AT'\n",
       "122. 'vismin'\n",
       "123. 'Value'\n",
       "124. 'wkswrk'\n",
       "125. 'wrkact'\n",
       "126. 'Wages'\n",
       "127. 'yrim'\n",
       "128. 'weight'\n",
       "129. 'WT1'\n",
       "130. 'WT2'\n",
       "131. 'WT3'\n",
       "132. 'WT4'\n",
       "133. 'WT5'\n",
       "134. 'WT6'\n",
       "135. 'WT7'\n",
       "136. 'WT8'\n",
       "137. 'WT9'\n",
       "138. 'WT10'\n",
       "139. 'WT11'\n",
       "140. 'WT12'\n",
       "141. 'WT13'\n",
       "142. 'WT14'\n",
       "143. 'WT15'\n",
       "144. 'WT16'\n",
       "145. 'first_gen'\n",
       "146. 'sec_gen'\n",
       "147. 'third_gen'\n",
       "\n",
       "\n"
      ],
      "text/plain": [
       "  [1] \"ppsort\"           \"aboid\"            \"agegrp\"          \n",
       "  [4] \"ageimm\"           \"attsch\"           \"bfnmemb\"         \n",
       "  [7] \"bedrm\"            \"CFInc\"            \"CFInc_AT\"        \n",
       " [10] \"cfstat\"           \"chdbn\"            \"CIP2021\"         \n",
       " [13] \"CIP2021_STEM_SUM\" \"cma\"              \"condo\"           \n",
       " [16] \"COVID_ERB\"        \"cow\"              \"cqppb\"           \n",
       " [19] \"CapGn\"            \"CfSize\"           \"ChldC\"           \n",
       " [22] \"CitOth\"           \"Citizen\"          \"dist\"            \n",
       " [25] \"dpgrsum\"          \"dtype\"            \"EFDecile\"        \n",
       " [28] \"EFInc\"            \"EFInc_AT\"         \"eicbn\"           \n",
       " [31] \"ethder\"           \"EfDIMBM_2018\"     \"EfSize\"          \n",
       " [34] \"EmpIn\"            \"fol\"              \"fptwk\"           \n",
       " [37] \"Gender\"           \"genstat\"          \"GovtI\"           \n",
       " [40] \"GTRfs\"            \"HCORENEED_IND\"    \"hdgree\"          \n",
       " [43] \"HHInc\"            \"HHInc_AT\"         \"hhmrkinc\"        \n",
       " [46] \"hhsize\"           \"hhtype\"           \"hlmosten\"        \n",
       " [49] \"hlmostfr\"         \"hlmostno\"         \"hlregen\"         \n",
       " [52] \"hlregfr\"          \"hlregno\"          \"IMMCAT5\"         \n",
       " [55] \"immstat\"          \"IncTax\"           \"Invst\"           \n",
       " [58] \"jobperm\"          \"kol\"              \"lfact\"           \n",
       " [61] \"LICO_BT\"          \"LICO_AT\"          \"liprogtype\"      \n",
       " [64] \"LI_ELIG_OML_U18\"  \"locstud\"          \"LOC_ST_RES\"      \n",
       " [67] \"lstwrk\"           \"lwmosten\"         \"lwmostfr\"        \n",
       " [70] \"lwmostno\"         \"lwregen\"          \"lwregfr\"         \n",
       " [73] \"lwregno\"          \"LoLIMA\"           \"LoLIMB\"          \n",
       " [76] \"LOMBM_2018\"       \"mode\"             \"MTNEn\"           \n",
       " [79] \"MTNFr\"            \"mtnno\"            \"marsth\"          \n",
       " [82] \"Mob1\"             \"Mob5\"             \"MrkInc\"          \n",
       " [85] \"naics\"            \"NOC21\"            \"nol\"             \n",
       " [88] \"nos\"              \"oasgi\"            \"OtInc\"           \n",
       " [91] \"PKID25\"           \"PKID0_1\"          \"PKID15_24\"       \n",
       " [94] \"PKID2_5\"          \"PKID6_14\"         \"pkids\"           \n",
       " [97] \"pob\"              \"POBPAR1\"          \"POBPAR2\"         \n",
       "[100] \"powst\"            \"pr\"               \"PR1\"             \n",
       "[103] \"PR5\"              \"presmortg\"        \"prihm\"           \n",
       "[106] \"pwdur\"            \"pwleave\"          \"pwocc\"           \n",
       "[109] \"pwpr\"             \"regind\"           \"relig\"           \n",
       "[112] \"repair\"           \"room\"             \"Retir\"           \n",
       "[115] \"shelco\"           \"ssgrad\"           \"subsidy\"         \n",
       "[118] \"SempI\"            \"tenur\"            \"TotInc\"          \n",
       "[121] \"TotInc_AT\"        \"vismin\"           \"Value\"           \n",
       "[124] \"wkswrk\"           \"wrkact\"           \"Wages\"           \n",
       "[127] \"yrim\"             \"weight\"           \"WT1\"             \n",
       "[130] \"WT2\"              \"WT3\"              \"WT4\"             \n",
       "[133] \"WT5\"              \"WT6\"              \"WT7\"             \n",
       "[136] \"WT8\"              \"WT9\"              \"WT10\"            \n",
       "[139] \"WT11\"             \"WT12\"             \"WT13\"            \n",
       "[142] \"WT14\"             \"WT15\"             \"WT16\"            \n",
       "[145] \"first_gen\"        \"sec_gen\"          \"third_gen\"       "
      ]
     },
     "metadata": {},
     "output_type": "display_data"
    }
   ],
   "source": [
    "colnames(data)\n"
   ]
  },
  {
   "cell_type": "code",
   "execution_count": 105,
   "metadata": {
    "vscode": {
     "languageId": "r"
    }
   },
   "outputs": [],
   "source": [
    "#making dummy for indivuals age 12-20\n",
    "data <- data %>%\n",
    "  mutate(agegrp_dummy = ifelse(agegrp %in% c(\"5\", \"6\", \"7\"), 1, 0))\n",
    "\n",
    "#dummy for bachelors degree to simplify \n",
    "data <- data %>%\n",
    "  mutate(bachelors_degree = ifelse(hdgree %in% c(9), 1, 0))"
   ]
  },
  {
   "cell_type": "code",
   "execution_count": 106,
   "metadata": {
    "vscode": {
     "languageId": "r"
    }
   },
   "outputs": [
    {
     "data": {
      "text/plain": [
       "     CFInc       bachelors_degree    genstat        first_gen     \n",
       " Min.   : 1.00   Min.   :0.0000   Min.   :1.000   Min.   :0.0000  \n",
       " 1st Qu.:18.00   1st Qu.:0.0000   1st Qu.:1.000   1st Qu.:0.0000  \n",
       " Median :25.00   Median :0.0000   Median :4.000   Median :0.0000  \n",
       " Mean   :23.42   Mean   :0.2088   Mean   :3.021   Mean   :0.2706  \n",
       " 3rd Qu.:30.00   3rd Qu.:0.0000   3rd Qu.:4.000   3rd Qu.:1.0000  \n",
       " Max.   :33.00   Max.   :1.0000   Max.   :8.000   Max.   :1.0000  \n",
       "    sec_gen         third_gen          Gender          agegrp       hdgree     \n",
       " Min.   :0.0000   Min.   :0.0000   Min.   :1.000   Min.   : 6   Min.   : 1.00  \n",
       " 1st Qu.:0.0000   1st Qu.:0.0000   1st Qu.:1.000   1st Qu.:10   1st Qu.: 2.00  \n",
       " Median :0.0000   Median :1.0000   Median :2.000   Median :12   Median : 6.00  \n",
       " Mean   :0.1546   Mean   :0.5748   Mean   :1.519   Mean   :12   Mean   : 5.59  \n",
       " 3rd Qu.:0.0000   3rd Qu.:1.0000   3rd Qu.:2.000   3rd Qu.:14   3rd Qu.: 9.00  \n",
       " Max.   :1.0000   Max.   :1.0000   Max.   :2.000   Max.   :21   Max.   :13.00  \n",
       "     NOC21             pr            lfact       \n",
       " Min.   : 1.00   Min.   :10.00   Min.   : 1.000  \n",
       " 1st Qu.: 6.00   1st Qu.:24.00   1st Qu.: 1.000  \n",
       " Median :13.00   Median :35.00   Median : 1.000  \n",
       " Mean   :13.38   Mean   :36.68   Mean   : 2.307  \n",
       " 3rd Qu.:20.00   3rd Qu.:48.00   3rd Qu.: 1.000  \n",
       " Max.   :26.00   Max.   :70.00   Max.   :12.000  "
      ]
     },
     "metadata": {},
     "output_type": "display_data"
    }
   ],
   "source": [
    "summary(data[, c(\"CFInc\", \"bachelors_degree\", \"genstat\", \"first_gen\", \n",
    "                 \"sec_gen\", \"third_gen\", \"Gender\", \"agegrp\", \"hdgree\", \n",
    "                 \"NOC21\", \"pr\", \"lfact\")])\n"
   ]
  },
  {
   "cell_type": "code",
   "execution_count": 107,
   "metadata": {
    "vscode": {
     "languageId": "r"
    }
   },
   "outputs": [],
   "source": [
    "library(haven)"
   ]
  },
  {
   "cell_type": "code",
   "execution_count": 108,
   "metadata": {
    "vscode": {
     "languageId": "r"
    }
   },
   "outputs": [],
   "source": [
    "\n",
    "data_clean <- data %>%\n",
    "  mutate(across(c(CFInc, hdgree, genstat, agegrp, Gender, NOC21, lfact), haven::as_factor))\n"
   ]
  },
  {
   "cell_type": "code",
   "execution_count": 53,
   "metadata": {
    "vscode": {
     "languageId": "r"
    }
   },
   "outputs": [
    {
     "name": "stderr",
     "output_type": "stream",
     "text": [
      "Updating HTML index of packages in '.Library'\n",
      "\n",
      "Making 'packages.html' ...\n",
      " done\n",
      "\n"
     ]
    }
   ],
   "source": [
    "install.packages(\"xfun\")\n"
   ]
  },
  {
   "cell_type": "code",
   "execution_count": 60,
   "metadata": {
    "vscode": {
     "languageId": "r"
    }
   },
   "outputs": [
    {
     "name": "stderr",
     "output_type": "stream",
     "text": [
      "Updating HTML index of packages in '.Library'\n",
      "\n",
      "Making 'packages.html' ...\n",
      " done\n",
      "\n"
     ]
    }
   ],
   "source": [
    "install.packages(\"skimr\")"
   ]
  },
  {
   "cell_type": "code",
   "execution_count": 76,
   "metadata": {
    "vscode": {
     "languageId": "r"
    }
   },
   "outputs": [
    {
     "name": "stdout",
     "output_type": "stream",
     "text": [
      "Unique values of genstat:\n",
      "<labelled<double>[5]>: Generation status: Detailed\n",
      "[1] 1 3 4 2 8\n",
      "\n",
      "Labels:\n",
      " value\n",
      "     1\n",
      "     2\n",
      "     3\n",
      "     4\n",
      "     8\n",
      "                                                                                                      label\n",
      "                                                           First generation, respondent born outside Canada\n",
      "                             Second generation, respondent born in Canada, both parents born outside Canada\n",
      " Second generation, respondent born in Canada, one parent born outside Canada and one parent born in Canada\n",
      "                           Third generation or more, respondent born in Canada, both parents born in Canada\n",
      "                                                                                              Not available\n",
      "\n",
      "Frequency of genstat values:\n",
      "\n",
      "     1      2      3      4      8 \n",
      "145390  46765  36304 298837  10018 \n",
      "\n",
      "=== Basic Summary Table ===\n",
      "     CFInc          genstat          hdgree          Gender          agegrp  \n",
      " Min.   : 1.00   Min.   :1.000   Min.   : 1.00   Min.   :1.000   Min.   : 6  \n",
      " 1st Qu.:18.00   1st Qu.:1.000   1st Qu.: 2.00   1st Qu.:1.000   1st Qu.:10  \n",
      " Median :25.00   Median :4.000   Median : 6.00   Median :2.000   Median :12  \n",
      " Mean   :23.42   Mean   :3.021   Mean   : 5.59   Mean   :1.519   Mean   :12  \n",
      " 3rd Qu.:30.00   3rd Qu.:4.000   3rd Qu.: 9.00   3rd Qu.:2.000   3rd Qu.:14  \n",
      " Max.   :33.00   Max.   :8.000   Max.   :13.00   Max.   :2.000   Max.   :21  \n",
      "\n",
      "=== Frequency Tables ===\n",
      "\n",
      "Generation Status:\n",
      "\n",
      "     1      2      3      4      8 \n",
      "145390  46765  36304 298837  10018 \n",
      "\n",
      "Income Levels:\n",
      "\n",
      "    1     2     3     4     5     6     7     8     9    10    11    12    13 \n",
      " 3638  1286   943  1689  1401  2529  2169  3729  8550 10189 11518 12290 13304 \n",
      "   14    15    16    17    18    19    20    21    22    23    24    25    26 \n",
      "13991 14369 14910 15434 15741 15946 15887 16006 16497 16127 15904 30881 29156 \n",
      "   27    28    29    30    31    32    33 \n",
      "27004 24400 22582 45892 33293 39095 40964 \n",
      "\n",
      "Education Levels:\n",
      "\n",
      "     1      2      3      4      5      6      7      8      9     10     11 \n",
      " 52171 136834  27479  22889  16756  53692  41720  16697 112178  10604   4070 \n",
      "    12     13 \n",
      " 36986   5238 \n",
      "\n",
      "=== Mean Income by Generation ===\n",
      "       1        2        3        4        8 \n",
      "22.21148 25.10320 24.37651 23.70853 21.23847 \n",
      "\n",
      "=== Proportion with Bachelor's Degree by Generation ===\n",
      "       1        2        3        4        8 \n",
      "27.51083 26.11141 22.29782 16.57827 23.27810 \n",
      "\n",
      "=== gtsummary Table (as data frame) ===\n",
      "                                                                                           **Characteristic**\n",
      "1                                                       Income: Total income of census family for all persons\n",
      "2                                                                                                Under $2,000\n",
      "3                                                                                            $2,000 to $4,999\n",
      "4                                                                                            $5,000 to $6,999\n",
      "5                                                                                            $7,000 to $9,999\n",
      "6                                                                                          $10,000 to $11,999\n",
      "7                                                                                          $12,000 to $14,999\n",
      "8                                                                                          $15,000 to $16,999\n",
      "9                                                                                          $17,000 to $19,999\n",
      "10                                                                                         $20,000 to $24,999\n",
      "11                                                                                         $25,000 to $29,999\n",
      "12                                                                                         $30,000 to $34,999\n",
      "13                                                                                         $35,000 to $39,999\n",
      "14                                                                                         $40,000 to $44,999\n",
      "15                                                                                         $45,000 to $49,999\n",
      "16                                                                                         $50,000 to $54,999\n",
      "17                                                                                         $55,000 to $59,999\n",
      "18                                                                                         $60,000 to $64,999\n",
      "19                                                                                         $65,000 to $69,999\n",
      "20                                                                                         $70,000 to $74,999\n",
      "21                                                                                         $75,000 to $79,999\n",
      "22                                                                                         $80,000 to $84,999\n",
      "23                                                                                         $85,000 to $89,999\n",
      "24                                                                                         $90,000 to $94,999\n",
      "25                                                                                         $95,000 to $99,999\n",
      "26                                                                                       $100,000 to $109,999\n",
      "27                                                                                       $110,000 to $119,999\n",
      "28                                                                                       $120,000 to $129,999\n",
      "29                                                                                       $130,000 to $139,999\n",
      "30                                                                                       $140,000 to $149,999\n",
      "31                                                                                       $150,000 to $174,999\n",
      "32                                                                                       $175,000 to $199,999\n",
      "33                                                                                       $200,000 to $249,999\n",
      "34                                                                                          $250,000 and over\n",
      "35                                                                                              Not available\n",
      "36                                                                                Generation status: Detailed\n",
      "37                                                           First generation, respondent born outside Canada\n",
      "38                             Second generation, respondent born in Canada, both parents born outside Canada\n",
      "39 Second generation, respondent born in Canada, one parent born outside Canada and one parent born in Canada\n",
      "40                           Third generation or more, respondent born in Canada, both parents born in Canada\n",
      "41                                                                                              Not available\n",
      "42                                                          Education: Highest certificate, diploma or degree\n",
      "43                                                                          No certificate, diploma or degree\n",
      "44                                                 High (secondary) school diploma or equivalency certificate\n",
      "45                                                           Non-apprenticeship trades certificate or diploma\n",
      "46                                                                                 Apprenticeship certificate\n",
      "47 Program of 3 months to less than 1 year (College, CEGEP and other non-university certificates or diplomas)\n",
      "48                 Program of 1 to 2 years (College, CEGEP and other non-university certificates or diplomas)\n",
      "49            Program of more than 2 years (College, CEGEP and other non-university certificates or diplomas)\n",
      "50                                                     University certificate or diploma below bachelor level\n",
      "51                                                                                          Bachelor's degree\n",
      "52                                                     University certificate or diploma above bachelor level\n",
      "53                                            Degree in medicine, dentistry, veterinary medicine or optometry\n",
      "54                                                                                            Master's degree\n",
      "55                                                                                           Earned doctorate\n",
      "56                                                                                              Not available\n",
      "57                                                                                             Not applicable\n",
      "58                                                                                  Gender of person (binary)\n",
      "59                                                                                                     Woman+\n",
      "60                                                                                                       Man+\n",
      "61                                                                                                        Age\n",
      "62                                                                                               0 to 4 years\n",
      "63                                                                                               5 to 6 years\n",
      "64                                                                                               7 to 9 years\n",
      "65                                                                                             10 to 11 years\n",
      "66                                                                                             12 to 14 years\n",
      "67                                                                                             15 to 17 years\n",
      "68                                                                                             18 to 19 years\n",
      "69                                                                                             20 to 24 years\n",
      "70                                                                                             25 to 29 years\n",
      "71                                                                                             30 to 34 years\n",
      "72                                                                                             35 to 39 years\n",
      "73                                                                                             40 to 44 years\n",
      "74                                                                                             45 to 49 years\n",
      "75                                                                                             50 to 54 years\n",
      "76                                                                                             55 to 59 years\n",
      "77                                                                                             60 to 64 years\n",
      "78                                                                                             65 to 69 years\n",
      "79                                                                                             70 to 74 years\n",
      "80                                                                                             75 to 79 years\n",
      "81                                                                                             80 to 84 years\n",
      "82                                                                                          85 years and over\n",
      "83                                                                                              Not available\n",
      "   **N = 537,314**\n",
      "1             <NA>\n",
      "2     3,638 (0.7%)\n",
      "3     1,286 (0.2%)\n",
      "4       943 (0.2%)\n",
      "5     1,689 (0.3%)\n",
      "6     1,401 (0.3%)\n",
      "7     2,529 (0.5%)\n",
      "8     2,169 (0.4%)\n",
      "9     3,729 (0.7%)\n",
      "10    8,550 (1.6%)\n",
      "11   10,189 (1.9%)\n",
      "12   11,518 (2.1%)\n",
      "13   12,290 (2.3%)\n",
      "14   13,304 (2.5%)\n",
      "15   13,991 (2.6%)\n",
      "16   14,369 (2.7%)\n",
      "17   14,910 (2.8%)\n",
      "18   15,434 (2.9%)\n",
      "19   15,741 (2.9%)\n",
      "20   15,946 (3.0%)\n",
      "21   15,887 (3.0%)\n",
      "22   16,006 (3.0%)\n",
      "23   16,497 (3.1%)\n",
      "24   16,127 (3.0%)\n",
      "25   15,904 (3.0%)\n",
      "26   30,881 (5.7%)\n",
      "27   29,156 (5.4%)\n",
      "28   27,004 (5.0%)\n",
      "29   24,400 (4.5%)\n",
      "30   22,582 (4.2%)\n",
      "31   45,892 (8.5%)\n",
      "32   33,293 (6.2%)\n",
      "33   39,095 (7.3%)\n",
      "34   40,964 (7.6%)\n",
      "35          0 (0%)\n",
      "36            <NA>\n",
      "37   145,390 (27%)\n",
      "38   46,765 (8.7%)\n",
      "39   36,304 (6.8%)\n",
      "40   298,837 (56%)\n",
      "41   10,018 (1.9%)\n",
      "42            <NA>\n",
      "43   52,171 (9.7%)\n",
      "44   136,834 (25%)\n",
      "45   27,479 (5.1%)\n",
      "46   22,889 (4.3%)\n",
      "47   16,756 (3.1%)\n",
      "48  53,692 (10.0%)\n",
      "49   41,720 (7.8%)\n",
      "50   16,697 (3.1%)\n",
      "51   112,178 (21%)\n",
      "52   10,604 (2.0%)\n",
      "53    4,070 (0.8%)\n",
      "54   36,986 (6.9%)\n",
      "55    5,238 (1.0%)\n",
      "56          0 (0%)\n",
      "57          0 (0%)\n",
      "58            <NA>\n",
      "59   258,302 (48%)\n",
      "60   279,012 (52%)\n",
      "61            <NA>\n",
      "62          0 (0%)\n",
      "63          0 (0%)\n",
      "64          0 (0%)\n",
      "65          0 (0%)\n",
      "66          0 (0%)\n",
      "67   12,296 (2.3%)\n",
      "68   14,745 (2.7%)\n",
      "69   47,045 (8.8%)\n",
      "70    55,496 (10%)\n",
      "71    58,133 (11%)\n",
      "72    58,134 (11%)\n",
      "73    55,375 (10%)\n",
      "74   52,698 (9.8%)\n",
      "75   52,712 (9.8%)\n",
      "76    54,721 (10%)\n",
      "77   41,874 (7.8%)\n",
      "78   21,094 (3.9%)\n",
      "79    8,761 (1.6%)\n",
      "80    3,180 (0.6%)\n",
      "81      833 (0.2%)\n",
      "82     217 (<0.1%)\n",
      "83          0 (0%)\n",
      "\n",
      "=== Summary Statistics Data Frame ===\n",
      "             Variable     Value\n",
      "1         Sample Size 537314.00\n",
      "2         Mean Income     23.42\n",
      "3            % Female     51.90\n",
      "4 % Bachelor's Degree     20.90\n",
      "5         % First Gen     27.10\n",
      "6        % Second Gen     15.50\n",
      "7        % Third+ Gen     57.50\n",
      "\n",
      "=== Cross-tabulation: Generation by Education ===\n",
      "   \n",
      "        1     2     3     4     5     6     7     8     9    10    11    12\n",
      "  1 11533 29129  4752  3105  3282 10839  9442  6761 39998  4396  1754 17725\n",
      "  2  2915 12670  1300  1437  1254  4880  4023  1252 12211  1019   509  2916\n",
      "  3  2960 10030  1206  1514  1246  4209  2679   873  8095   667   223  2293\n",
      "  4 33977 82813 19837 16506 10651 32819 24858  7452 49542  4284  1431 13027\n",
      "  8   786  2192   384   327   323   945   718   359  2332   238   153  1025\n",
      "   \n",
      "       13\n",
      "  1  2674\n",
      "  2   379\n",
      "  3   309\n",
      "  4  1640\n",
      "  8   236\n",
      "\n",
      "=== Cross-tabulation: Generation by Gender ===\n",
      "   \n",
      "         1      2\n",
      "  1  69115  76275\n",
      "  2  22682  24083\n",
      "  3  17700  18604\n",
      "  4 143774 155063\n",
      "  8   5031   4987\n",
      "\n",
      "Files saved: summary_statistics.csv and full_summary_output.txt\n"
     ]
    }
   ],
   "source": [
    "library(haven) # USED CHAT GPT FOR THIS \n",
    "library(dplyr)\n",
    "library(gtsummary)\n",
    "\n",
    "# Read and clean data\n",
    "data <- read_dta(\"/Users/krishaantpathmanathan/Downloads/ECON 398/cen_ind_2021_pumf_v2.dta 3\")\n",
    "\n",
    "# Remove NA rows\n",
    "data <- data[data$CFInc != 88, ]\n",
    "data <- data[data$agegrp != 88, ]\n",
    "data <- data[data$genstat != 88, ]\n",
    "data <- data[data$hdgree != 88, ]\n",
    "data <- data[data$hdgree != 99, ]\n",
    "data <- data[data$lfact != 88, ]\n",
    "data <- data[data$lfact != 99, ]\n",
    "data <- data[data$NOC21 != 88, ]\n",
    "data <- data[data$NOC21 != 99, ]\n",
    "data <- na.omit(data)\n",
    "\n",
    "# Create dummy variables\n",
    "data <- data %>%\n",
    "  mutate(first_gen = ifelse(genstat == 1, 1, 0),\n",
    "         sec_gen = ifelse(genstat %in% c(2, 3), 1, 0),\n",
    "         third_gen = ifelse(genstat >= 4, 1, 0),\n",
    "         bachelors_degree = ifelse(hdgree == 9, 1, 0))\n",
    "\n",
    "# Convert to factors\n",
    "data_clean <- data %>%\n",
    "  mutate(across(c(CFInc, hdgree, genstat, agegrp, Gender, NOC21, lfact), haven::as_factor))\n",
    "\n",
    "# Check the unique values of genstat to ensure we understand the data\n",
    "cat(\"Unique values of genstat:\\n\")\n",
    "print(unique(data$genstat))\n",
    "cat(\"\\nFrequency of genstat values:\\n\")\n",
    "print(table(data$genstat))\n",
    "\n",
    "# Basic summary for all data\n",
    "cat(\"\\n=== Basic Summary Table ===\\n\")\n",
    "all_data_summary <- summary(data[c(\"CFInc\", \"genstat\", \"hdgree\", \"Gender\", \"agegrp\")])\n",
    "print(all_data_summary)\n",
    "\n",
    "# Create simple frequency tables\n",
    "cat(\"\\n=== Frequency Tables ===\\n\")\n",
    "cat(\"\\nGeneration Status:\\n\")\n",
    "print(table(data$genstat))\n",
    "\n",
    "cat(\"\\nIncome Levels:\\n\")\n",
    "print(table(data$CFInc))\n",
    "\n",
    "cat(\"\\nEducation Levels:\\n\")\n",
    "print(table(data$hdgree))\n",
    "\n",
    "# Generate means by generation\n",
    "cat(\"\\n=== Mean Income by Generation ===\\n\")\n",
    "income_by_gen <- tapply(data$CFInc, data$genstat, mean, na.rm = TRUE)\n",
    "print(income_by_gen)\n",
    "\n",
    "# Proportion with bachelor's degree by generation\n",
    "cat(\"\\n=== Proportion with Bachelor's Degree by Generation ===\\n\")\n",
    "edu_by_gen <- tapply(data$bachelors_degree, data$genstat, mean, na.rm = TRUE) * 100\n",
    "print(edu_by_gen)\n",
    "\n",
    "# Create simple summary using gtsummary with error handling\n",
    "tryCatch({\n",
    "  simple_summary <- data_clean %>%\n",
    "    select(CFInc, genstat, hdgree, Gender, agegrp) %>%\n",
    "    tbl_summary()\n",
    "  cat(\"\\n=== gtsummary Table (as data frame) ===\\n\")\n",
    "  print(as.data.frame(simple_summary))\n",
    "}, error = function(e) {\n",
    "  cat(\"\\nError creating gtsummary table:\", e$message, \"\\n\")\n",
    "})\n",
    "\n",
    "# Create a simple data frame with key statistics\n",
    "summary_df <- data.frame(\n",
    "  Variable = c(\"Sample Size\", \"Mean Income\", \"% Female\", \"% Bachelor's Degree\", \"% First Gen\", \"% Second Gen\", \"% Third+ Gen\"),\n",
    "  Value = c(\n",
    "    nrow(data),\n",
    "    round(mean(data$CFInc, na.rm = TRUE), 2),\n",
    "    round(mean(data$Gender == 2, na.rm = TRUE) * 100, 1),\n",
    "    round(mean(data$bachelors_degree, na.rm = TRUE) * 100, 1),\n",
    "    round(mean(data$first_gen, na.rm = TRUE) * 100, 1),\n",
    "    round(mean(data$sec_gen, na.rm = TRUE) * 100, 1),\n",
    "    round(mean(data$third_gen, na.rm = TRUE) * 100, 1)\n",
    "  )\n",
    ")\n",
    "\n",
    "# Display the summary data frame\n",
    "cat(\"\\n=== Summary Statistics Data Frame ===\\n\")\n",
    "print(summary_df)\n",
    "\n",
    "# Save as CSV\n",
    "write.csv(summary_df, \"summary_statistics.csv\", row.names = FALSE)\n",
    "\n",
    "# Create cross-tabulations\n",
    "cat(\"\\n=== Cross-tabulation: Generation by Education ===\\n\")\n",
    "gen_edu_table <- table(data$genstat, data$hdgree)\n",
    "print(gen_edu_table)\n",
    "\n",
    "cat(\"\\n=== Cross-tabulation: Generation by Gender ===\\n\")\n",
    "gen_gender_table <- table(data$genstat, data$Gender)\n",
    "print(gen_gender_table)\n",
    "\n",
    "# Save everything to a text file\n",
    "sink(\"full_summary_output.txt\")\n",
    "cat(\"=== Data Summary Statistics ===\\n\\n\")\n",
    "cat(\"Sample size: \", nrow(data), \"\\n\\n\")\n",
    "\n",
    "cat(\"Unique values of genstat:\\n\")\n",
    "print(unique(data$genstat))\n",
    "\n",
    "cat(\"\\n\\nFrequency of genstat values:\\n\")\n",
    "print(table(data$genstat))\n",
    "\n",
    "cat(\"\\n\\nMean Income by Generation:\\n\")\n",
    "print(income_by_gen)\n",
    "\n",
    "cat(\"\\n\\nProportion with Bachelor's Degree by Generation:\\n\")\n",
    "print(edu_by_gen)\n",
    "\n",
    "cat(\"\\n\\nSummary Data Frame:\\n\")\n",
    "print(summary_df)\n",
    "\n",
    "cat(\"\\n\\nCross-tabulation: Generation by Education:\\n\")\n",
    "print(gen_edu_table)\n",
    "\n",
    "cat(\"\\n\\nCross-tabulation: Generation by Gender:\\n\")\n",
    "print(gen_gender_table)\n",
    "sink()\n",
    "\n",
    "cat(\"\\nFiles saved: summary_statistics.csv and full_summary_output.txt\\n\")\n"
   ]
  },
  {
   "cell_type": "code",
   "execution_count": 78,
   "metadata": {
    "vscode": {
     "languageId": "r"
    }
   },
   "outputs": [
    {
     "name": "stdout",
     "output_type": "stream",
     "text": [
      "\u001b[90m# A tibble: 3 × 8\u001b[39m\n",
      "  genstat_label      n mean_income median_income sd_income pct_bachelors\n",
      "  \u001b[3m\u001b[90m<fct>\u001b[39m\u001b[23m          \u001b[3m\u001b[90m<int>\u001b[39m\u001b[23m       \u001b[3m\u001b[90m<dbl>\u001b[39m\u001b[23m         \u001b[3m\u001b[90m<dbl>\u001b[39m\u001b[23m     \u001b[3m\u001b[90m<dbl>\u001b[39m\u001b[23m         \u001b[3m\u001b[90m<dbl>\u001b[39m\u001b[23m\n",
      "\u001b[90m1\u001b[39m First         \u001b[4m1\u001b[24m\u001b[4m4\u001b[24m\u001b[4m5\u001b[24m390        22.2            24      8.13          27.5\n",
      "\u001b[90m2\u001b[39m Second         \u001b[4m8\u001b[24m\u001b[4m3\u001b[24m069        24.8            27      7.35          24.4\n",
      "\u001b[90m3\u001b[39m Third+        \u001b[4m3\u001b[24m\u001b[4m0\u001b[24m\u001b[4m8\u001b[24m855        23.6            25      7.49          16.8\n",
      "\u001b[90m# ℹ 2 more variables: mean_age_group <dbl>, pct_female <dbl>\u001b[39m\n"
     ]
    }
   ],
   "source": [
    "library(ggplot2) # USED CHAT GPT FOR THIS \n",
    "library(dplyr)\n",
    "library(patchwork)\n",
    "library(forcats)\n",
    "library(haven)\n",
    "\n",
    "# Read and clean data\n",
    "data <- read_dta(\"/Users/krishaantpathmanathan/Downloads/ECON 398/cen_ind_2021_pumf_v2.dta 3\")\n",
    "\n",
    "# Remove NA rows\n",
    "data <- data[data$CFInc != 88, ]\n",
    "data <- data[data$agegrp != 88, ]\n",
    "data <- data[data$genstat != 88, ]\n",
    "data <- data[data$hdgree != 88, ]\n",
    "data <- data[data$hdgree != 99, ]\n",
    "data <- data[data$lfact != 88, ]\n",
    "data <- data[data$lfact != 99, ]\n",
    "data <- data[data$NOC21 != 88, ]\n",
    "data <- data[data$NOC21 != 99, ]\n",
    "data <- na.omit(data)\n",
    "\n",
    "# Create dummy variables\n",
    "data <- data %>%\n",
    "  mutate(\n",
    "    first_gen = ifelse(genstat == 1, 1, 0),\n",
    "    sec_gen = ifelse(genstat %in% c(2, 3), 1, 0),\n",
    "    third_gen = ifelse(genstat >= 4, 1, 0),\n",
    "    bachelors_degree = ifelse(hdgree == 9, 1, 0)\n",
    "  )\n",
    "\n",
    "# Prepare the visualization dataset\n",
    "df <- data %>%\n",
    "  mutate(\n",
    "    genstat_label = case_when(\n",
    "      genstat == 1 ~ \"First\",\n",
    "      genstat %in% c(2, 3) ~ \"Second\",\n",
    "      genstat >= 4 ~ \"Third+\",\n",
    "      TRUE ~ NA_character_\n",
    "    ),\n",
    "    genstat_label = factor(genstat_label, levels = c(\"First\", \"Second\", \"Third+\")),\n",
    "    \n",
    "    age_group_label = case_when(\n",
    "      agegrp == 6 ~ \"18-24\",\n",
    "      agegrp == 7 ~ \"25-29\",\n",
    "      agegrp == 8 ~ \"30-34\",\n",
    "      agegrp == 9 ~ \"35-39\",\n",
    "      agegrp == 10 ~ \"40-44\",\n",
    "      agegrp == 11 ~ \"45-49\",\n",
    "      agegrp == 12 ~ \"50-54\",\n",
    "      agegrp == 13 ~ \"55-59\",\n",
    "      agegrp == 14 ~ \"60-64\",\n",
    "      agegrp >= 15 ~ \"65+\",\n",
    "      TRUE ~ as.character(agegrp)\n",
    "    ),\n",
    "    age_group_label = factor(age_group_label, levels = c(\"18-24\", \"25-29\", \"30-34\", \"35-39\", \n",
    "                                                         \"40-44\", \"45-49\", \"50-54\", \"55-59\", \n",
    "                                                         \"60-64\", \"65+\")),\n",
    "    \n",
    "    region_label = case_when(\n",
    "      pr == 10 ~ \"NL\",\n",
    "      pr == 11 ~ \"PE\",\n",
    "      pr == 12 ~ \"NS\",\n",
    "      pr == 13 ~ \"NB\",\n",
    "      pr == 24 ~ \"QC\",\n",
    "      pr == 35 ~ \"ON\",\n",
    "      pr == 46 ~ \"MB\",\n",
    "      pr == 47 ~ \"SK\",\n",
    "      pr == 48 ~ \"AB\",\n",
    "      pr == 59 ~ \"BC\",\n",
    "      pr == 60 ~ \"YT\",\n",
    "      pr == 61 ~ \"NT\",\n",
    "      pr == 62 ~ \"NU\",\n",
    "      TRUE ~ as.character(pr)\n",
    "    ),\n",
    "    \n",
    "    gender_label = factor(Gender, labels = c(\"Male\", \"Female\")),\n",
    "    \n",
    "    education_label = factor(hdgree, labels = c(\n",
    "      \"No certificate\",\n",
    "      \"High school\",\n",
    "      \"Trades certificate\",\n",
    "      \"College diploma\",\n",
    "      \"University below bachelor\",\n",
    "      \"Bachelor's degree\",\n",
    "      \"Graduate degree\"\n",
    "    )[1:length(unique(hdgree))])\n",
    "  )\n",
    "\n",
    "# Set a clean theme for all plots\n",
    "theme_set(theme_minimal() + \n",
    "          theme(plot.title = element_text(face = \"bold\", size = 12),\n",
    "                axis.text.x = element_text(angle = 45, hjust = 1)))\n",
    "\n",
    "# Plot 1: Income by Generation with mean overlay\n",
    "p1 <- ggplot(df, aes(x = genstat_label, y = CFInc)) +\n",
    "  geom_boxplot(fill = \"lightblue\", alpha = 0.7, outlier.alpha = 0.1) +\n",
    "  stat_summary(fun = mean, geom = \"point\", shape = 23, size = 3, fill = \"red\") +\n",
    "  labs(title = \"Income Distribution by Generation\",\n",
    "       x = \"Generation\",\n",
    "       y = \"Income Level\",\n",
    "       caption = \"Red diamonds indicate mean values\") +\n",
    "  theme(axis.text.x = element_text(angle = 0, hjust = 0.5))\n",
    "\n",
    "# Plot 2: Education Distribution by Generation\n",
    "p2 <- df %>%\n",
    "  count(genstat_label, education_label) %>%\n",
    "  group_by(genstat_label) %>%\n",
    "  mutate(pct = n / sum(n)) %>%\n",
    "  ggplot(aes(x = education_label, y = pct, fill = genstat_label)) +\n",
    "  geom_bar(stat = \"identity\", position = \"dodge\") +\n",
    "  scale_y_continuous(labels = scales::percent) +\n",
    "  labs(title = \"Education Levels by Generation\",\n",
    "       x = \"Education Level\",\n",
    "       y = \"Percentage\",\n",
    "       fill = \"Generation\") +\n",
    "  theme(axis.text.x = element_text(angle = 45, hjust = 1))\n",
    "\n",
    "# Plot 3: Income by Age Group and Generation\n",
    "p3 <- ggplot(df, aes(x = age_group_label, y = CFInc, fill = genstat_label)) +\n",
    "  geom_boxplot(alpha = 0.7, outlier.alpha = 0.1) +\n",
    "  labs(title = \"Income by Age Group and Generation\",\n",
    "       x = \"Age Group\",\n",
    "       y = \"Income Level\",\n",
    "       fill = \"Generation\") +\n",
    "  theme(axis.text.x = element_text(angle = 45, hjust = 1))\n",
    "\n",
    "# Plot 4: Average Income by Region (with error bars)\n",
    "p4 <- df %>%\n",
    "  group_by(region_label) %>%\n",
    "  summarise(\n",
    "    mean_income = mean(CFInc, na.rm = TRUE),\n",
    "    se_income = sd(CFInc, na.rm = TRUE) / sqrt(n()),\n",
    "    n = n()\n",
    "  ) %>%\n",
    "  ggplot(aes(x = fct_reorder(region_label, mean_income), y = mean_income)) +\n",
    "  geom_col(fill = \"steelblue\") +\n",
    "  geom_errorbar(aes(ymin = mean_income - 1.96*se_income, \n",
    "                    ymax = mean_income + 1.96*se_income), \n",
    "                width = 0.2) +\n",
    "  labs(title = \"Average Income by Province\",\n",
    "       subtitle = \"Error bars show 95% confidence intervals\",\n",
    "       x = \"Province\",\n",
    "       y = \"Average Income Level\") +\n",
    "  theme(axis.text.x = element_text(angle = 45, hjust = 1))\n",
    "\n",
    "# Plot 5: Income by Gender and Generation\n",
    "p5 <- ggplot(df, aes(x = gender_label, y = CFInc, fill = genstat_label)) +\n",
    "  geom_boxplot(alpha = 0.7, outlier.alpha = 0.1) +\n",
    "  labs(title = \"Income by Gender and Generation\",\n",
    "       x = \"Gender\",\n",
    "       y = \"Income Level\",\n",
    "       fill = \"Generation\") +\n",
    "  theme(axis.text.x = element_text(angle = 0, hjust = 0.5))\n",
    "\n",
    "# Plot 6: Bachelor's Degree Attainment by Generation\n",
    "p6 <- df %>%\n",
    "  group_by(genstat_label) %>%\n",
    "  summarise(\n",
    "    pct_bachelors = mean(bachelors_degree) * 100,\n",
    "    n = n()\n",
    "  ) %>%\n",
    "  ggplot(aes(x = genstat_label, y = pct_bachelors, fill = genstat_label)) +\n",
    "  geom_col(show.legend = FALSE) +\n",
    "  geom_text(aes(label = sprintf(\"%.1f%%\", pct_bachelors)), \n",
    "            vjust = -0.5, size = 3) +\n",
    "  scale_y_continuous(labels = scales::percent_format(scale = 1)) +\n",
    "  labs(title = \"Bachelor's Degree Attainment by Generation\",\n",
    "       x = \"Generation\",\n",
    "       y = \"Percentage\") +\n",
    "  theme(axis.text.x = element_text(angle = 0, hjust = 0.5))\n",
    "\n",
    "# Plot 7: Income by Education Level and Generation\n",
    "p7 <- ggplot(df, aes(x = education_label, y = CFInc, fill = genstat_label)) +\n",
    "  geom_boxplot(alpha = 0.7, outlier.alpha = 0.1) +\n",
    "  labs(title = \"Income by Education Level and Generation\",\n",
    "       x = \"Education Level\",\n",
    "       y = \"Income Level\",\n",
    "       fill = \"Generation\") +\n",
    "  theme(axis.text.x = element_text(angle = 45, hjust = 1))\n",
    "\n",
    "# Plot 8: Sample Sizes by Generation\n",
    "p8 <- df %>%\n",
    "  count(genstat_label) %>%\n",
    "  ggplot(aes(x = genstat_label, y = n, fill = genstat_label)) +\n",
    "  geom_col(show.legend = FALSE) +\n",
    "  geom_text(aes(label = scales::comma(n)), vjust = -0.5, size = 3) +\n",
    "  labs(title = \"Sample Size by Generation\",\n",
    "       x = \"Generation\",\n",
    "       y = \"Number of Respondents\") +\n",
    "  theme(axis.text.x = element_text(angle = 0, hjust = 0.5))\n",
    "\n",
    "# Create 2x4 layout using patchwork\n",
    "layout_1 <- (p1 | p2) / (p3 | p4) / (p5 | p6) / (p7 | p8)\n",
    "\n",
    "# Save the combined plot\n",
    "ggsave(\"regression_visualizations.png\", layout_1, width = 16, height = 18, dpi = 300)\n",
    "\n",
    "# Create additional diagnostic plots for regression analysis\n",
    "\n",
    "# Plot 9: Mean Income with Confidence Intervals by Generation\n",
    "p9 <- df %>%\n",
    "  group_by(genstat_label) %>%\n",
    "  summarise(\n",
    "    mean_income = mean(CFInc, na.rm = TRUE),\n",
    "    se_income = sd(CFInc, na.rm = TRUE) / sqrt(n()),\n",
    "    n = n()\n",
    "  ) %>%\n",
    "  ggplot(aes(x = genstat_label, y = mean_income)) +\n",
    "  geom_point(size = 4) +\n",
    "  geom_errorbar(aes(ymin = mean_income - 1.96*se_income, \n",
    "                    ymax = mean_income + 1.96*se_income), \n",
    "                width = 0.2) +\n",
    "  labs(title = \"Mean Income by Generation with 95% CI\",\n",
    "       x = \"Generation\",\n",
    "       y = \"Mean Income Level\") +\n",
    "  theme(axis.text.x = element_text(angle = 0, hjust = 0.5))\n",
    "\n",
    "# Plot 10: Predicted vs Actual Values from Regression\n",
    "# First run a simple regression\n",
    "mod <- lm(CFInc ~ genstat + Gender + agegrp + hdgree, data = df)\n",
    "df$predicted <- predict(mod)\n",
    "\n",
    "p10 <- ggplot(df, aes(x = predicted, y = CFInc)) +\n",
    "  geom_point(alpha = 0.1, color = \"blue\") +\n",
    "  geom_abline(intercept = 0, slope = 1, color = \"red\", linetype = \"dashed\") +\n",
    "  labs(title = \"Regression: Predicted vs Actual Income\",\n",
    "       x = \"Predicted Income\",\n",
    "       y = \"Actual Income\")\n",
    "\n",
    "# Create additional focused visualizations\n",
    "layout_2 <- (p9 | p10)\n",
    "ggsave(\"regression_diagnostics.png\", layout_2, width = 12, height = 6, dpi = 300)\n",
    "\n",
    "# Save individual plots for flexibility\n",
    "plots <- list(p1, p2, p3, p4, p5, p6, p7, p8, p9, p10)\n",
    "names(plots) <- c(\"income_by_generation\", \"education_by_generation\", \n",
    "                  \"income_by_age_gen\", \"income_by_province\", \n",
    "                  \"income_by_gender_gen\", \"bachelors_by_generation\",\n",
    "                  \"income_by_education_gen\", \"sample_sizes\",\n",
    "                  \"mean_income_ci\", \"predicted_vs_actual\")\n",
    "\n",
    "for(i in seq_along(plots)) {\n",
    "  ggsave(paste0(\"plot_\", names(plots)[i], \".png\"), \n",
    "         plots[[i]], width = 8, height = 6, dpi = 300)\n",
    "}\n",
    "\n",
    "# Create summary table for key findings\n",
    "summary_findings <- df %>%\n",
    "  group_by(genstat_label) %>%\n",
    "  summarise(\n",
    "    n = n(),\n",
    "    mean_income = mean(CFInc, na.rm = TRUE),\n",
    "    median_income = median(CFInc, na.rm = TRUE),\n",
    "    sd_income = sd(CFInc, na.rm = TRUE),\n",
    "    pct_bachelors = mean(bachelors_degree) * 100,\n",
    "    mean_age_group = mean(agegrp, na.rm = TRUE),\n",
    "    pct_female = mean(Gender == 2) * 100\n",
    "  )\n",
    "\n",
    "write.csv(summary_findings, \"generation_summary_findings.csv\", row.names = FALSE)\n",
    "print(summary_findings)"
   ]
  },
  {
   "cell_type": "code",
   "execution_count": null,
   "metadata": {
    "vscode": {
     "languageId": "r"
    }
   },
   "outputs": [],
   "source": [
    "\n"
   ]
  },
  {
   "cell_type": "code",
   "execution_count": 80,
   "metadata": {
    "jupyter": {
     "source_hidden": true
    },
    "vscode": {
     "languageId": "r"
    }
   },
   "outputs": [
    {
     "name": "stdout",
     "output_type": "stream",
     "text": [
      "\n",
      "===============================================\n",
      "                        Dependent variable:    \n",
      "                    ---------------------------\n",
      "                               CFInc           \n",
      "-----------------------------------------------\n",
      "genstat                      0.212***          \n",
      "                              (0.007)          \n",
      "                                               \n",
      "Constant                     22.783***         \n",
      "                              (0.024)          \n",
      "                                               \n",
      "-----------------------------------------------\n",
      "Observations                  537,314          \n",
      "R2                             0.002           \n",
      "Adjusted R2                    0.002           \n",
      "Residual Std. Error     7.684 (df = 537312)    \n",
      "F Statistic         896.123*** (df = 1; 537312)\n",
      "===============================================\n",
      "Note:               *p<0.1; **p<0.05; ***p<0.01\n"
     ]
    }
   ],
   "source": [
    "# simple regression 1 - CFInc (Income) based on Gentstat (First Gen / Second Gen Canadian)\n",
    "\n",
    "\n",
    "reg_1 <-  lm(CFInc ~ genstat, data = data)\n",
    "\n",
    "stargazer(reg_1, type = \"text\")\n"
   ]
  },
  {
   "cell_type": "code",
   "execution_count": 81,
   "metadata": {
    "jupyter": {
     "source_hidden": true
    },
    "vscode": {
     "languageId": "r"
    }
   },
   "outputs": [
    {
     "name": "stdout",
     "output_type": "stream",
     "text": [
      "\n",
      "===============================================\n",
      "                        Dependent variable:    \n",
      "                    ---------------------------\n",
      "                               CFInc           \n",
      "-----------------------------------------------\n",
      "genstat                      0.215***          \n",
      "                              (0.007)          \n",
      "                                               \n",
      "Gender                       0.055***          \n",
      "                              (0.021)          \n",
      "                                               \n",
      "agegrp                       0.090***          \n",
      "                              (0.003)          \n",
      "                                               \n",
      "Constant                     21.607***         \n",
      "                              (0.058)          \n",
      "                                               \n",
      "-----------------------------------------------\n",
      "Observations                  537,314          \n",
      "R2                             0.003           \n",
      "Adjusted R2                    0.003           \n",
      "Residual Std. Error     7.680 (df = 537310)    \n",
      "F Statistic         526.025*** (df = 3; 537310)\n",
      "===============================================\n",
      "Note:               *p<0.1; **p<0.05; ***p<0.01\n"
     ]
    }
   ],
   "source": [
    "# simple regression 2 - adding covariates for Gender and agegrp \n",
    "\n",
    "reg_2 <-  lm(CFInc ~ genstat + Gender + agegrp, data = data)\n",
    "\n",
    "stargazer(reg_2, type = \"text\")\n"
   ]
  },
  {
   "cell_type": "code",
   "execution_count": 82,
   "metadata": {
    "jupyter": {
     "source_hidden": true
    },
    "vscode": {
     "languageId": "r"
    }
   },
   "outputs": [
    {
     "name": "stdout",
     "output_type": "stream",
     "text": [
      "\n",
      "=================================================\n",
      "                         Dependent variable:     \n",
      "                    -----------------------------\n",
      "                                CFInc            \n",
      "-------------------------------------------------\n",
      "genstat                       0.365***           \n",
      "                               (0.007)           \n",
      "                                                 \n",
      "Gender                        0.301***           \n",
      "                               (0.021)           \n",
      "                                                 \n",
      "agegrp                        0.065***           \n",
      "                               (0.003)           \n",
      "                                                 \n",
      "hdgree                        0.365***           \n",
      "                               (0.003)           \n",
      "                                                 \n",
      "lfact                         -0.222***          \n",
      "                               (0.003)           \n",
      "                                                 \n",
      "Constant                      19.559***          \n",
      "                               (0.061)           \n",
      "                                                 \n",
      "-------------------------------------------------\n",
      "Observations                   537,314           \n",
      "R2                              0.042            \n",
      "Adjusted R2                     0.042            \n",
      "Residual Std. Error      7.527 (df = 537308)     \n",
      "F Statistic         4,734.528*** (df = 5; 537308)\n",
      "=================================================\n",
      "Note:                 *p<0.1; **p<0.05; ***p<0.01\n"
     ]
    }
   ],
   "source": [
    "# simple regression 3 - adding covariates for hdgree (education level) and lfact (labour force participation)\n",
    "\n",
    "reg_3 <-  lm(CFInc ~ genstat + Gender + agegrp + hdgree + lfact, data = data)\n",
    "\n",
    "stargazer(reg_3, type = \"text\")\n"
   ]
  },
  {
   "cell_type": "code",
   "execution_count": 83,
   "metadata": {
    "jupyter": {
     "source_hidden": true
    },
    "scrolled": true,
    "vscode": {
     "languageId": "r"
    }
   },
   "outputs": [
    {
     "name": "stdout",
     "output_type": "stream",
     "text": [
      "\n",
      "=================================================\n",
      "                         Dependent variable:     \n",
      "                    -----------------------------\n",
      "                                CFInc            \n",
      "-------------------------------------------------\n",
      "genstat                       0.386***           \n",
      "                               (0.007)           \n",
      "                                                 \n",
      "Gender                        0.302***           \n",
      "                               (0.021)           \n",
      "                                                 \n",
      "agegrp                        0.065***           \n",
      "                               (0.003)           \n",
      "                                                 \n",
      "hdgree                        0.366***           \n",
      "                               (0.003)           \n",
      "                                                 \n",
      "lfact                         -0.221***          \n",
      "                               (0.003)           \n",
      "                                                 \n",
      "pr                            0.018***           \n",
      "                               (0.001)           \n",
      "                                                 \n",
      "Constant                      18.828***          \n",
      "                               (0.069)           \n",
      "                                                 \n",
      "-------------------------------------------------\n",
      "Observations                   537,314           \n",
      "R2                              0.043            \n",
      "Adjusted R2                     0.043            \n",
      "Residual Std. Error      7.523 (df = 537307)     \n",
      "F Statistic         4,032.805*** (df = 6; 537307)\n",
      "=================================================\n",
      "Note:                 *p<0.1; **p<0.05; ***p<0.01\n"
     ]
    }
   ],
   "source": [
    "# simple regression 4 - by pr (province)\n",
    "\n",
    "reg_4 <-  lm(CFInc ~ genstat + Gender + agegrp + hdgree + lfact + pr, data = data)\n",
    "\n",
    "stargazer(reg_4, type = \"text\")\n"
   ]
  },
  {
   "cell_type": "code",
   "execution_count": 84,
   "metadata": {
    "jupyter": {
     "source_hidden": true
    },
    "vscode": {
     "languageId": "r"
    }
   },
   "outputs": [
    {
     "name": "stdout",
     "output_type": "stream",
     "text": [
      "\n",
      "=================================================\n",
      "                         Dependent variable:     \n",
      "                    -----------------------------\n",
      "                                CFInc            \n",
      "-------------------------------------------------\n",
      "genstat                       0.386***           \n",
      "                               (0.007)           \n",
      "                                                 \n",
      "Gender                        0.302***           \n",
      "                               (0.021)           \n",
      "                                                 \n",
      "agegrp                        0.065***           \n",
      "                               (0.003)           \n",
      "                                                 \n",
      "hdgree                        0.366***           \n",
      "                               (0.003)           \n",
      "                                                 \n",
      "lfact                         -0.221***          \n",
      "                               (0.003)           \n",
      "                                                 \n",
      "pr                            0.018***           \n",
      "                               (0.001)           \n",
      "                                                 \n",
      "Constant                      18.828***          \n",
      "                               (0.069)           \n",
      "                                                 \n",
      "-------------------------------------------------\n",
      "Observations                   537,314           \n",
      "R2                              0.043            \n",
      "Adjusted R2                     0.043            \n",
      "Residual Std. Error      7.523 (df = 537307)     \n",
      "F Statistic         4,032.805*** (df = 6; 537307)\n",
      "=================================================\n",
      "Note:                 *p<0.1; **p<0.05; ***p<0.01\n"
     ]
    }
   ],
   "source": [
    "reg_5 <-  lm(CFInc ~ genstat + Gender + agegrp + hdgree + lfact + pr, data = data)\n",
    "\n",
    "stargazer(reg_4, type = \"text\")"
   ]
  },
  {
   "cell_type": "code",
   "execution_count": 85,
   "metadata": {
    "jupyter": {
     "source_hidden": true
    },
    "vscode": {
     "languageId": "r"
    }
   },
   "outputs": [
    {
     "name": "stdout",
     "output_type": "stream",
     "text": [
      "\n",
      "=================================================\n",
      "                         Dependent variable:     \n",
      "                    -----------------------------\n",
      "                                CFInc            \n",
      "-------------------------------------------------\n",
      "genstat                         0.013            \n",
      "                               (0.015)           \n",
      "                                                 \n",
      "hdgree                        0.210***           \n",
      "                               (0.006)           \n",
      "                                                 \n",
      "pr                            0.018***           \n",
      "                               (0.001)           \n",
      "                                                 \n",
      "Gender                        0.322***           \n",
      "                               (0.021)           \n",
      "                                                 \n",
      "agegrp                        0.061***           \n",
      "                               (0.003)           \n",
      "                                                 \n",
      "lfact                         -0.279***          \n",
      "                               (0.007)           \n",
      "                                                 \n",
      "genstat:hdgree                0.054***           \n",
      "                               (0.002)           \n",
      "                                                 \n",
      "genstat:lfact                 0.019***           \n",
      "                               (0.002)           \n",
      "                                                 \n",
      "Constant                      19.989***          \n",
      "                               (0.081)           \n",
      "                                                 \n",
      "-------------------------------------------------\n",
      "Observations                   537,314           \n",
      "R2                              0.045            \n",
      "Adjusted R2                     0.045            \n",
      "Residual Std. Error      7.518 (df = 537305)     \n",
      "F Statistic         3,130.270*** (df = 8; 537305)\n",
      "=================================================\n",
      "Note:                 *p<0.1; **p<0.05; ***p<0.01\n"
     ]
    }
   ],
   "source": [
    "# checking for interaction effects \n",
    "\n",
    "reg_interaction <- lm(CFInc ~ genstat * hdgree + pr + Gender + agegrp + genstat * lfact, data = data)\n",
    "\n",
    "\n",
    "stargazer(reg_interaction, type = \"text\")\n"
   ]
  },
  {
   "cell_type": "code",
   "execution_count": 86,
   "metadata": {
    "jupyter": {
     "source_hidden": true
    },
    "vscode": {
     "languageId": "r"
    }
   },
   "outputs": [
    {
     "name": "stdout",
     "output_type": "stream",
     "text": [
      "\n",
      "=================================================\n",
      "                         Dependent variable:     \n",
      "                    -----------------------------\n",
      "                                CFInc            \n",
      "-------------------------------------------------\n",
      "genstat                        -0.017            \n",
      "                               (0.015)           \n",
      "                                                 \n",
      "hdgree                        -0.928***          \n",
      "                               (0.013)           \n",
      "                                                 \n",
      "pr                            0.016***           \n",
      "                               (0.001)           \n",
      "                                                 \n",
      "Gender                        0.238***           \n",
      "                               (0.021)           \n",
      "                                                 \n",
      "agegrp                        -0.376***          \n",
      "                               (0.006)           \n",
      "                                                 \n",
      "lfact                         -0.295***          \n",
      "                               (0.007)           \n",
      "                                                 \n",
      "genstat:hdgree                0.056***           \n",
      "                               (0.002)           \n",
      "                                                 \n",
      "genstat:lfact                 0.018***           \n",
      "                               (0.002)           \n",
      "                                                 \n",
      "hdgree:agegrp                 0.094***           \n",
      "                               (0.001)           \n",
      "                                                 \n",
      "Constant                      25.542***          \n",
      "                               (0.099)           \n",
      "                                                 \n",
      "-------------------------------------------------\n",
      "Observations                   537,314           \n",
      "R2                              0.061            \n",
      "Adjusted R2                     0.061            \n",
      "Residual Std. Error      7.454 (df = 537304)     \n",
      "F Statistic         3,852.071*** (df = 9; 537304)\n",
      "=================================================\n",
      "Note:                 *p<0.1; **p<0.05; ***p<0.01\n"
     ]
    }
   ],
   "source": [
    "# more expierementing \n",
    "\n",
    "reg_interaction <- lm(CFInc ~ genstat * hdgree + pr + Gender + agegrp + genstat * lfact + hdgree * agegrp + hdgree * genstat, data = data)\n",
    "\n",
    "\n",
    "stargazer(reg_interaction, type = \"text\")"
   ]
  },
  {
   "cell_type": "code",
   "execution_count": 87,
   "metadata": {
    "jupyter": {
     "source_hidden": true
    },
    "scrolled": true,
    "vscode": {
     "languageId": "r"
    }
   },
   "outputs": [
    {
     "name": "stdout",
     "output_type": "stream",
     "text": [
      "\n",
      "=================================================\n",
      "                         Dependent variable:     \n",
      "                    -----------------------------\n",
      "                                CFInc            \n",
      "-------------------------------------------------\n",
      "genstat                       0.070***           \n",
      "                               (0.014)           \n",
      "                                                 \n",
      "hdgree                        0.239***           \n",
      "                               (0.006)           \n",
      "                                                 \n",
      "pr                            0.018***           \n",
      "                               (0.001)           \n",
      "                                                 \n",
      "Gender                        0.376***           \n",
      "                               (0.021)           \n",
      "                                                 \n",
      "agegrp                        0.062***           \n",
      "                               (0.003)           \n",
      "                                                 \n",
      "genstat:hdgree                0.053***           \n",
      "                               (0.002)           \n",
      "                                                 \n",
      "Constant                      19.054***          \n",
      "                               (0.078)           \n",
      "                                                 \n",
      "-------------------------------------------------\n",
      "Observations                   537,314           \n",
      "R2                              0.036            \n",
      "Adjusted R2                     0.036            \n",
      "Residual Std. Error      7.551 (df = 537307)     \n",
      "F Statistic         3,361.760*** (df = 6; 537307)\n",
      "=================================================\n",
      "Note:                 *p<0.1; **p<0.05; ***p<0.01\n"
     ]
    }
   ],
   "source": [
    "# more expierementing \n",
    "\n",
    "reg_interaction <- lm(CFInc ~ genstat * hdgree + pr + Gender + agegrp + hdgree * genstat, data = data)\n",
    "\n",
    "\n",
    "stargazer(reg_interaction, type = \"text\")"
   ]
  },
  {
   "cell_type": "code",
   "execution_count": 88,
   "metadata": {
    "jupyter": {
     "source_hidden": true
    },
    "scrolled": true,
    "vscode": {
     "languageId": "r"
    }
   },
   "outputs": [
    {
     "name": "stdout",
     "output_type": "stream",
     "text": [
      "\n",
      "<table style=\"text-align:center\"><caption><strong>Income on Generational Status</strong></caption>\n",
      "<tr><td colspan=\"6\" style=\"border-bottom: 1px solid black\"></td></tr><tr><td style=\"text-align:left\"></td><td colspan=\"5\"><em>Dependent variable:</em></td></tr>\n",
      "<tr><td></td><td colspan=\"5\" style=\"border-bottom: 1px solid black\"></td></tr>\n",
      "<tr><td style=\"text-align:left\"></td><td colspan=\"5\">Dependent Variable: CFInc</td></tr>\n",
      "<tr><td style=\"text-align:left\"></td><td>(1)</td><td>(2)</td><td>(3)</td><td>(4)</td><td>(5)</td></tr>\n",
      "<tr><td colspan=\"6\" style=\"border-bottom: 1px solid black\"></td></tr><tr><td style=\"text-align:left\">genstat</td><td>0.212<sup>***</sup></td><td>0.212<sup>***</sup></td><td>0.215<sup>***</sup></td><td>0.371<sup>***</sup></td><td>0.013</td></tr>\n",
      "<tr><td style=\"text-align:left\"></td><td>(0.007)</td><td>(0.007)</td><td>(0.007)</td><td>(0.007)</td><td>(0.015)</td></tr>\n",
      "<tr><td style=\"text-align:left\"></td><td></td><td></td><td></td><td></td><td></td></tr>\n",
      "<tr><td style=\"text-align:left\">Gender</td><td></td><td>0.067<sup>***</sup></td><td>0.055<sup>***</sup></td><td>0.354<sup>***</sup></td><td>0.322<sup>***</sup></td></tr>\n",
      "<tr><td style=\"text-align:left\"></td><td></td><td>(0.021)</td><td>(0.021)</td><td>(0.021)</td><td>(0.021)</td></tr>\n",
      "<tr><td style=\"text-align:left\"></td><td></td><td></td><td></td><td></td><td></td></tr>\n",
      "<tr><td style=\"text-align:left\">agegrp</td><td></td><td></td><td>0.090<sup>***</sup></td><td>0.065<sup>***</sup></td><td>0.061<sup>***</sup></td></tr>\n",
      "<tr><td style=\"text-align:left\"></td><td></td><td></td><td>(0.003)</td><td>(0.003)</td><td>(0.003)</td></tr>\n",
      "<tr><td style=\"text-align:left\"></td><td></td><td></td><td></td><td></td><td></td></tr>\n",
      "<tr><td style=\"text-align:left\">lfact</td><td></td><td></td><td></td><td></td><td>-0.279<sup>***</sup></td></tr>\n",
      "<tr><td style=\"text-align:left\"></td><td></td><td></td><td></td><td></td><td>(0.007)</td></tr>\n",
      "<tr><td style=\"text-align:left\"></td><td></td><td></td><td></td><td></td><td></td></tr>\n",
      "<tr><td style=\"text-align:left\">genstat:hdgree</td><td></td><td></td><td></td><td></td><td>0.054<sup>***</sup></td></tr>\n",
      "<tr><td style=\"text-align:left\"></td><td></td><td></td><td></td><td></td><td>(0.002)</td></tr>\n",
      "<tr><td style=\"text-align:left\"></td><td></td><td></td><td></td><td></td><td></td></tr>\n",
      "<tr><td style=\"text-align:left\">genstat:lfact</td><td></td><td></td><td></td><td></td><td>0.019<sup>***</sup></td></tr>\n",
      "<tr><td style=\"text-align:left\"></td><td></td><td></td><td></td><td></td><td>(0.002)</td></tr>\n",
      "<tr><td style=\"text-align:left\"></td><td></td><td></td><td></td><td></td><td></td></tr>\n",
      "<tr><td style=\"text-align:left\">hdgree</td><td></td><td></td><td></td><td>0.391<sup>***</sup></td><td>0.210<sup>***</sup></td></tr>\n",
      "<tr><td style=\"text-align:left\"></td><td></td><td></td><td></td><td>(0.003)</td><td>(0.006)</td></tr>\n",
      "<tr><td style=\"text-align:left\"></td><td></td><td></td><td></td><td></td><td></td></tr>\n",
      "<tr><td style=\"text-align:left\">pr</td><td></td><td></td><td></td><td></td><td>0.018<sup>***</sup></td></tr>\n",
      "<tr><td style=\"text-align:left\"></td><td></td><td></td><td></td><td></td><td>(0.001)</td></tr>\n",
      "<tr><td style=\"text-align:left\"></td><td></td><td></td><td></td><td></td><td></td></tr>\n",
      "<tr><td style=\"text-align:left\">Constant</td><td>22.783<sup>***</sup></td><td>22.681<sup>***</sup></td><td>21.607<sup>***</sup></td><td>18.804<sup>***</sup></td><td>19.989<sup>***</sup></td></tr>\n",
      "<tr><td style=\"text-align:left\"></td><td>(0.024)</td><td>(0.040)</td><td>(0.058)</td><td>(0.061)</td><td>(0.081)</td></tr>\n",
      "<tr><td style=\"text-align:left\"></td><td></td><td></td><td></td><td></td><td></td></tr>\n",
      "<tr><td colspan=\"6\" style=\"border-bottom: 1px solid black\"></td></tr><tr><td style=\"text-align:left\">Observations</td><td>537,314</td><td>537,314</td><td>537,314</td><td>537,314</td><td>537,314</td></tr>\n",
      "<tr><td style=\"text-align:left\">R<sup>2</sup></td><td>0.002</td><td>0.002</td><td>0.003</td><td>0.034</td><td>0.045</td></tr>\n",
      "<tr><td style=\"text-align:left\">Adjusted R<sup>2</sup></td><td>0.002</td><td>0.002</td><td>0.003</td><td>0.034</td><td>0.045</td></tr>\n",
      "<tr><td style=\"text-align:left\">Residual Std. Error</td><td>7.684 (df = 537312)</td><td>7.684 (df = 537311)</td><td>7.680 (df = 537310)</td><td>7.559 (df = 537309)</td><td>7.518 (df = 537305)</td></tr>\n",
      "<tr><td style=\"text-align:left\">F Statistic</td><td>896.123<sup>***</sup> (df = 1; 537312)</td><td>453.161<sup>***</sup> (df = 2; 537311)</td><td>526.025<sup>***</sup> (df = 3; 537310)</td><td>4,711.064<sup>***</sup> (df = 4; 537309)</td><td>3,130.270<sup>***</sup> (df = 8; 537305)</td></tr>\n",
      "<tr><td colspan=\"6\" style=\"border-bottom: 1px solid black\"></td></tr><tr><td style=\"text-align:left\"><em>Note:</em></td><td colspan=\"5\" style=\"text-align:right\"><sup>*</sup>p<0.1; <sup>**</sup>p<0.05; <sup>***</sup>p<0.01</td></tr>\n",
      "</table>\n"
     ]
    }
   ],
   "source": [
    "# Basic regressions\n",
    "model1 <- lm(CFInc ~ genstat, data = data)\n",
    "model2 <- lm(CFInc ~ genstat + Gender, data = data)\n",
    "model3 <- lm(CFInc ~ genstat + Gender + agegrp, data = data)\n",
    "model4 <- lm(CFInc ~ genstat + Gender + agegrp + hdgree, data = data)\n",
    "model5 <- lm(CFInc ~ genstat * hdgree + pr + Gender + agegrp + genstat * lfact, data = data)\n",
    "\n",
    "# Stargazer Table Output\n",
    "stargazer(model1, model2, model3, model4, model5,\n",
    "          type = \"html\", \n",
    "          title = \"Income on Generational Status\",\n",
    "          dep.var.labels = \"Dependent Variable: CFInc\",\n",
    "          out = \"income_table5.html\")\n",
    "\n"
   ]
  },
  {
   "cell_type": "code",
   "execution_count": 89,
   "metadata": {
    "scrolled": true,
    "vscode": {
     "languageId": "r"
    }
   },
   "outputs": [
    {
     "name": "stdout",
     "output_type": "stream",
     "text": [
      "\n",
      "<table style=\"text-align:center\"><caption><strong>Income on Generational Status</strong></caption>\n",
      "<tr><td colspan=\"6\" style=\"border-bottom: 1px solid black\"></td></tr><tr><td style=\"text-align:left\"></td><td colspan=\"5\"><em>Dependent variable:</em></td></tr>\n",
      "<tr><td></td><td colspan=\"5\" style=\"border-bottom: 1px solid black\"></td></tr>\n",
      "<tr><td style=\"text-align:left\"></td><td colspan=\"5\">Dependent Variable: CFInc</td></tr>\n",
      "<tr><td style=\"text-align:left\"></td><td>(1)</td><td>(2)</td><td>(3)</td><td>(4)</td><td>(5)</td></tr>\n",
      "<tr><td colspan=\"6\" style=\"border-bottom: 1px solid black\"></td></tr><tr><td style=\"text-align:left\">genstat</td><td>0.212<sup>***</sup></td><td>0.215<sup>***</sup></td><td>0.371<sup>***</sup></td><td>0.348<sup>***</sup></td><td>0.333<sup>***</sup></td></tr>\n",
      "<tr><td style=\"text-align:left\"></td><td>(0.007)</td><td>(0.007)</td><td>(0.007)</td><td>(0.007)</td><td>(0.009)</td></tr>\n",
      "<tr><td style=\"text-align:left\"></td><td></td><td></td><td></td><td></td><td></td></tr>\n",
      "<tr><td style=\"text-align:left\">Gender</td><td></td><td>0.055<sup>***</sup></td><td>0.354<sup>***</sup></td><td>0.684<sup>***</sup></td><td>0.618<sup>***</sup></td></tr>\n",
      "<tr><td style=\"text-align:left\"></td><td></td><td>(0.021)</td><td>(0.021)</td><td>(0.021)</td><td>(0.021)</td></tr>\n",
      "<tr><td style=\"text-align:left\"></td><td></td><td></td><td></td><td></td><td></td></tr>\n",
      "<tr><td style=\"text-align:left\">agegrp</td><td></td><td>0.090<sup>***</sup></td><td>0.065<sup>***</sup></td><td>0.029<sup>***</sup></td><td>0.031<sup>***</sup></td></tr>\n",
      "<tr><td style=\"text-align:left\"></td><td></td><td>(0.003)</td><td>(0.003)</td><td>(0.003)</td><td>(0.003)</td></tr>\n",
      "<tr><td style=\"text-align:left\"></td><td></td><td></td><td></td><td></td><td></td></tr>\n",
      "<tr><td style=\"text-align:left\">hdgree</td><td></td><td></td><td>0.391<sup>***</sup></td><td>0.279<sup>***</sup></td><td>0.262<sup>***</sup></td></tr>\n",
      "<tr><td style=\"text-align:left\"></td><td></td><td></td><td>(0.003)</td><td>(0.003)</td><td>(0.003)</td></tr>\n",
      "<tr><td style=\"text-align:left\"></td><td></td><td></td><td></td><td></td><td></td></tr>\n",
      "<tr><td style=\"text-align:left\">NOC21</td><td></td><td></td><td></td><td>-0.138<sup>***</sup></td><td>-0.131<sup>***</sup></td></tr>\n",
      "<tr><td style=\"text-align:left\"></td><td></td><td></td><td></td><td>(0.001)</td><td>(0.001)</td></tr>\n",
      "<tr><td style=\"text-align:left\"></td><td></td><td></td><td></td><td></td><td></td></tr>\n",
      "<tr><td style=\"text-align:left\">pr</td><td></td><td></td><td></td><td></td><td>0.017<sup>***</sup></td></tr>\n",
      "<tr><td style=\"text-align:left\"></td><td></td><td></td><td></td><td></td><td>(0.001)</td></tr>\n",
      "<tr><td style=\"text-align:left\"></td><td></td><td></td><td></td><td></td><td></td></tr>\n",
      "<tr><td style=\"text-align:left\">lfact</td><td></td><td></td><td></td><td></td><td>-0.241<sup>***</sup></td></tr>\n",
      "<tr><td style=\"text-align:left\"></td><td></td><td></td><td></td><td></td><td>(0.007)</td></tr>\n",
      "<tr><td style=\"text-align:left\"></td><td></td><td></td><td></td><td></td><td></td></tr>\n",
      "<tr><td style=\"text-align:left\">genstat:lfact</td><td></td><td></td><td></td><td></td><td>0.014<sup>***</sup></td></tr>\n",
      "<tr><td style=\"text-align:left\"></td><td></td><td></td><td></td><td></td><td>(0.002)</td></tr>\n",
      "<tr><td style=\"text-align:left\"></td><td></td><td></td><td></td><td></td><td></td></tr>\n",
      "<tr><td style=\"text-align:left\">Constant</td><td>22.783<sup>***</sup></td><td>21.607<sup>***</sup></td><td>18.804<sup>***</sup></td><td>21.279<sup>***</sup></td><td>21.241<sup>***</sup></td></tr>\n",
      "<tr><td style=\"text-align:left\"></td><td>(0.024)</td><td>(0.058)</td><td>(0.061)</td><td>(0.066)</td><td>(0.075)</td></tr>\n",
      "<tr><td style=\"text-align:left\"></td><td></td><td></td><td></td><td></td><td></td></tr>\n",
      "<tr><td colspan=\"6\" style=\"border-bottom: 1px solid black\"></td></tr><tr><td style=\"text-align:left\">Observations</td><td>537,314</td><td>537,314</td><td>537,314</td><td>537,314</td><td>537,314</td></tr>\n",
      "<tr><td style=\"text-align:left\">R<sup>2</sup></td><td>0.002</td><td>0.003</td><td>0.034</td><td>0.050</td><td>0.057</td></tr>\n",
      "<tr><td style=\"text-align:left\">Adjusted R<sup>2</sup></td><td>0.002</td><td>0.003</td><td>0.034</td><td>0.050</td><td>0.057</td></tr>\n",
      "<tr><td style=\"text-align:left\">Residual Std. Error</td><td>7.684 (df = 537312)</td><td>7.680 (df = 537310)</td><td>7.559 (df = 537309)</td><td>7.498 (df = 537308)</td><td>7.467 (df = 537305)</td></tr>\n",
      "<tr><td style=\"text-align:left\">F Statistic</td><td>896.123<sup>***</sup> (df = 1; 537312)</td><td>526.025<sup>***</sup> (df = 3; 537310)</td><td>4,711.064<sup>***</sup> (df = 4; 537309)</td><td>5,614.918<sup>***</sup> (df = 5; 537308)</td><td>4,082.105<sup>***</sup> (df = 8; 537305)</td></tr>\n",
      "<tr><td colspan=\"6\" style=\"border-bottom: 1px solid black\"></td></tr><tr><td style=\"text-align:left\"><em>Note:</em></td><td colspan=\"5\" style=\"text-align:right\"><sup>*</sup>p<0.1; <sup>**</sup>p<0.05; <sup>***</sup>p<0.01</td></tr>\n",
      "</table>\n"
     ]
    }
   ],
   "source": [
    "# Basic regressions 2\n",
    "model1 <- lm(CFInc ~ genstat, data = data)\n",
    "model2 <- lm(CFInc ~ genstat + Gender + agegrp, data = data)\n",
    "model3 <- lm(CFInc ~ genstat + Gender + agegrp + hdgree, data = data)\n",
    "model4 <- lm(CFInc ~ genstat + Gender + agegrp + hdgree + NOC21, data = data)\n",
    "model5 <- lm(CFInc ~ genstat + Gender + agegrp + hdgree + NOC21 + pr + genstat * lfact, data = data)\n",
    "\n",
    "# Stargazer Table Output\n",
    "stargazer(model1, model2, model3, model4,model5,\n",
    "          type = \"html\", \n",
    "          title = \"Income on Generational Status\",\n",
    "          dep.var.labels = \"Dependent Variable: CFInc\",\n",
    "          out = \"income_table12.html\")\n",
    "\n"
   ]
  },
  {
   "cell_type": "code",
   "execution_count": 109,
   "metadata": {
    "jupyter": {
     "source_hidden": true
    },
    "scrolled": true,
    "vscode": {
     "languageId": "r"
    }
   },
   "outputs": [
    {
     "name": "stdout",
     "output_type": "stream",
     "text": [
      "\n",
      "<table style=\"text-align:center\"><caption><strong>Degree on Generational Status</strong></caption>\n",
      "<tr><td colspan=\"5\" style=\"border-bottom: 1px solid black\"></td></tr><tr><td style=\"text-align:left\"></td><td colspan=\"4\"><em>Dependent variable:</em></td></tr>\n",
      "<tr><td></td><td colspan=\"4\" style=\"border-bottom: 1px solid black\"></td></tr>\n",
      "<tr><td style=\"text-align:left\"></td><td colspan=\"4\">Dependent Variable: bachelors</td></tr>\n",
      "<tr><td style=\"text-align:left\"></td><td>(1)</td><td>(2)</td><td>(3)</td><td>(4)</td></tr>\n",
      "<tr><td colspan=\"5\" style=\"border-bottom: 1px solid black\"></td></tr><tr><td style=\"text-align:left\">genstat</td><td>-0.028<sup>***</sup></td><td>-0.028<sup>***</sup></td><td>-0.029<sup>***</sup></td><td>-0.026<sup>***</sup></td></tr>\n",
      "<tr><td style=\"text-align:left\"></td><td>(0.0004)</td><td>(0.0004)</td><td>(0.0004)</td><td>(0.0004)</td></tr>\n",
      "<tr><td style=\"text-align:left\"></td><td></td><td></td><td></td><td></td></tr>\n",
      "<tr><td style=\"text-align:left\">Gender</td><td></td><td>-0.060<sup>***</sup></td><td>-0.060<sup>***</sup></td><td>-0.060<sup>***</sup></td></tr>\n",
      "<tr><td style=\"text-align:left\"></td><td></td><td>(0.001)</td><td>(0.001)</td><td>(0.001)</td></tr>\n",
      "<tr><td style=\"text-align:left\"></td><td></td><td></td><td></td><td></td></tr>\n",
      "<tr><td style=\"text-align:left\">agegrp</td><td></td><td></td><td>-0.004<sup>***</sup></td><td>-0.012<sup>***</sup></td></tr>\n",
      "<tr><td style=\"text-align:left\"></td><td></td><td></td><td>(0.0002)</td><td>(0.0002)</td></tr>\n",
      "<tr><td style=\"text-align:left\"></td><td></td><td></td><td></td><td></td></tr>\n",
      "<tr><td style=\"text-align:left\">lfact</td><td></td><td></td><td></td><td>-0.005<sup>***</sup></td></tr>\n",
      "<tr><td style=\"text-align:left\"></td><td></td><td></td><td></td><td>(0.0002)</td></tr>\n",
      "<tr><td style=\"text-align:left\"></td><td></td><td></td><td></td><td></td></tr>\n",
      "<tr><td style=\"text-align:left\">agegrp_dummy</td><td></td><td></td><td></td><td>-0.291<sup>***</sup></td></tr>\n",
      "<tr><td style=\"text-align:left\"></td><td></td><td></td><td></td><td>(0.004)</td></tr>\n",
      "<tr><td style=\"text-align:left\"></td><td></td><td></td><td></td><td></td></tr>\n",
      "<tr><td style=\"text-align:left\">lfact:agegrp_dummy</td><td></td><td></td><td></td><td>0.005<sup>***</sup></td></tr>\n",
      "<tr><td style=\"text-align:left\"></td><td></td><td></td><td></td><td>(0.001)</td></tr>\n",
      "<tr><td style=\"text-align:left\"></td><td></td><td></td><td></td><td></td></tr>\n",
      "<tr><td style=\"text-align:left\">Constant</td><td>0.294<sup>***</sup></td><td>0.386<sup>***</sup></td><td>0.437<sup>***</sup></td><td>0.555<sup>***</sup></td></tr>\n",
      "<tr><td style=\"text-align:left\"></td><td>(0.001)</td><td>(0.002)</td><td>(0.003)</td><td>(0.003)</td></tr>\n",
      "<tr><td style=\"text-align:left\"></td><td></td><td></td><td></td><td></td></tr>\n",
      "<tr><td colspan=\"5\" style=\"border-bottom: 1px solid black\"></td></tr><tr><td style=\"text-align:left\">Observations</td><td>537,314</td><td>537,314</td><td>537,314</td><td>537,314</td></tr>\n",
      "<tr><td style=\"text-align:left\">R<sup>2</sup></td><td>0.011</td><td>0.016</td><td>0.017</td><td>0.038</td></tr>\n",
      "<tr><td style=\"text-align:left\">Adjusted R<sup>2</sup></td><td>0.011</td><td>0.016</td><td>0.017</td><td>0.038</td></tr>\n",
      "<tr><td style=\"text-align:left\">Residual Std. Error</td><td>0.404 (df = 537312)</td><td>0.403 (df = 537311)</td><td>0.403 (df = 537310)</td><td>0.399 (df = 537307)</td></tr>\n",
      "<tr><td style=\"text-align:left\">F Statistic</td><td>5,791.188<sup>***</sup> (df = 1; 537312)</td><td>4,408.899<sup>***</sup> (df = 2; 537311)</td><td>3,123.186<sup>***</sup> (df = 3; 537310)</td><td>3,497.837<sup>***</sup> (df = 6; 537307)</td></tr>\n",
      "<tr><td colspan=\"5\" style=\"border-bottom: 1px solid black\"></td></tr><tr><td style=\"text-align:left\"><em>Note:</em></td><td colspan=\"4\" style=\"text-align:right\"><sup>*</sup>p<0.1; <sup>**</sup>p<0.05; <sup>***</sup>p<0.01</td></tr>\n",
      "</table>\n"
     ]
    }
   ],
   "source": [
    "#degree status on genstat \n",
    "# should be careful, meaning of hdgree is problematic \n",
    "model1.1 <- lm(bachelors_degree ~ genstat, data = data)\n",
    "model2.1 <- lm(bachelors_degree ~ genstat + Gender, data = data)\n",
    "model3.1 <- lm(bachelors_degree ~ genstat + Gender + agegrp, data = data)\n",
    "model4.1 <- lm(bachelors_degree ~ genstat + Gender + agegrp + lfact*agegrp_dummy, data = data)\n",
    "\n",
    "# Stargazer Table Output\n",
    "stargazer(model1.1, model2.1, model3.1, model4.1, \n",
    "          type = \"html\", \n",
    "          title = \"Degree on Generational Status\",\n",
    "          dep.var.labels = \"Dependent Variable: bachelors_degree\",\n",
    "          out = \"degree_table4.html\")\n",
    "\n"
   ]
  },
  {
   "cell_type": "code",
   "execution_count": 110,
   "metadata": {
    "jupyter": {
     "source_hidden": true
    },
    "vscode": {
     "languageId": "r"
    }
   },
   "outputs": [
    {
     "data": {
      "text/plain": [
       "\n",
       "Call:\n",
       "lm(formula = bachelors_degree ~ lfact * agegrp_dummy, data = data)\n",
       "\n",
       "Residuals:\n",
       "     Min       1Q   Median       3Q      Max \n",
       "-0.22692 -0.22692 -0.22692 -0.00186  0.99827 \n",
       "\n",
       "Coefficients:\n",
       "                     Estimate Std. Error t value Pr(>|t|)    \n",
       "(Intercept)         0.2328939  0.0006958  334.72   <2e-16 ***\n",
       "lfact              -0.0059729  0.0001848  -32.33   <2e-16 ***\n",
       "agegrp_dummy       -0.2311728  0.0034096  -67.80   <2e-16 ***\n",
       "lfact:agegrp_dummy  0.0059854  0.0005576   10.73   <2e-16 ***\n",
       "---\n",
       "Signif. codes:  0 ‘***’ 0.001 ‘**’ 0.01 ‘*’ 0.05 ‘.’ 0.1 ‘ ’ 1\n",
       "\n",
       "Residual standard error: 0.4032 on 537310 degrees of freedom\n",
       "Multiple R-squared:  0.01566,\tAdjusted R-squared:  0.01565 \n",
       "F-statistic:  2849 on 3 and 537310 DF,  p-value: < 2.2e-16\n"
      ]
     },
     "metadata": {},
     "output_type": "display_data"
    }
   ],
   "source": [
    "#very rough test if holding a bachelors degree is influenced by working ages 11-19\n",
    "extra1=lm(bachelors_degree ~ lfact*agegrp_dummy, data = data)\n",
    "summary(extra1)\n"
   ]
  },
  {
   "cell_type": "code",
   "execution_count": 92,
   "metadata": {
    "vscode": {
     "languageId": "r"
    }
   },
   "outputs": [
    {
     "name": "stdout",
     "output_type": "stream",
     "text": [
      "\n",
      "Income on first Generational Status\n",
      "=========================================================================================================================================================================\n",
      "                                                                                     Dependent variable:                                                                 \n",
      "                    -----------------------------------------------------------------------------------------------------------------------------------------------------\n",
      "                                                                                  Dependent Variable: CFInc                                                              \n",
      "                                 (1)                           (2)                           (3)                           (4)                           (5)             \n",
      "-------------------------------------------------------------------------------------------------------------------------------------------------------------------------\n",
      "first_gen                     -1.662***                     -1.693***                     -2.302***                     -2.162***                     -3.810***          \n",
      "                               (0.024)                       (0.024)                       (0.023)                       (0.023)                       (0.041)           \n",
      "                                                                                                                                                                         \n",
      "Gender                                                      0.059***                      0.380***                      0.692***                      0.614***           \n",
      "                                                             (0.021)                       (0.021)                       (0.021)                       (0.021)           \n",
      "                                                                                                                                                                         \n",
      "agegrp                                                      0.100***                      0.075***                      0.040***                      0.050***           \n",
      "                                                             (0.003)                       (0.003)                       (0.003)                       (0.003)           \n",
      "                                                                                                                                                                         \n",
      "hdgree                                                                                    0.418***                      0.309***                      0.291***           \n",
      "                                                                                           (0.003)                       (0.003)                       (0.003)           \n",
      "                                                                                                                                                                         \n",
      "NOC21                                                                                                                   -0.132***                     -0.122***          \n",
      "                                                                                                                         (0.001)                       (0.001)           \n",
      "                                                                                                                                                                         \n",
      "pr                                                                                                                                                    0.018***           \n",
      "                                                                                                                                                       (0.001)           \n",
      "                                                                                                                                                                         \n",
      "genstat                                                                                                                                               -0.617***          \n",
      "                                                                                                                                                       (0.013)           \n",
      "                                                                                                                                                                         \n",
      "lfact                                                                                                                                                 -0.257***          \n",
      "                                                                                                                                                       (0.007)           \n",
      "                                                                                                                                                                         \n",
      "genstat:lfact                                                                                                                                         0.018***           \n",
      "                                                                                                                                                       (0.002)           \n",
      "                                                                                                                                                                         \n",
      "Constant                      23.874***                     22.594***                     20.231***                     22.507***                     24.597***          \n",
      "                               (0.012)                       (0.053)                       (0.055)                       (0.060)                       (0.083)           \n",
      "                                                                                                                                                                         \n",
      "-------------------------------------------------------------------------------------------------------------------------------------------------------------------------\n",
      "Observations                   537,314                       537,314                       537,314                       537,314                       537,314           \n",
      "R2                              0.009                         0.011                         0.046                         0.060                         0.072            \n",
      "Adjusted R2                     0.009                         0.011                         0.046                         0.060                         0.072            \n",
      "Residual Std. Error      7.655 (df = 537312)           7.649 (df = 537310)           7.512 (df = 537309)           7.456 (df = 537308)           7.409 (df = 537304)     \n",
      "F Statistic         4,999.735*** (df = 1; 537312) 1,947.822*** (df = 3; 537310) 6,473.984*** (df = 4; 537309) 6,890.761*** (df = 5; 537308) 4,632.144*** (df = 9; 537304)\n",
      "=========================================================================================================================================================================\n",
      "Note:                                                                                                                                         *p<0.1; **p<0.05; ***p<0.01\n"
     ]
    }
   ],
   "source": [
    "# sees income effect for first gen immegratns only \n",
    "# Basic regressions 2\n",
    "model1 <- lm(CFInc ~ first_gen, data = data)\n",
    "model2 <- lm(CFInc ~ first_gen + Gender + agegrp, data = data)\n",
    "model3 <- lm(CFInc ~ first_gen + Gender + agegrp + hdgree, data = data)\n",
    "model4 <- lm(CFInc ~ first_gen + Gender + agegrp + hdgree + NOC21, data = data)\n",
    "model5 <- lm(CFInc ~ first_gen + Gender + agegrp + hdgree + NOC21 + pr + genstat * lfact, data = data)\n",
    "\n",
    "# Stargazer Table Output\n",
    "stargazer(model1, model2, model3, model4,model5,\n",
    "        type = \"text\", \n",
    "          title = \"Income on first Generational Status\",\n",
    "          dep.var.labels = \"Dependent Variable: CFInc\")\n"
   ]
  },
  {
   "cell_type": "code",
   "execution_count": 111,
   "metadata": {
    "scrolled": true,
    "vscode": {
     "languageId": "r"
    }
   },
   "outputs": [
    {
     "name": "stdout",
     "output_type": "stream",
     "text": [
      "\n",
      "Income on Second Generational Status\n",
      "=========================================================================================================================================================================\n",
      "                                                                                     Dependent variable:                                                                 \n",
      "                    -----------------------------------------------------------------------------------------------------------------------------------------------------\n",
      "                                                                                  Dependent Variable: CFInc                                                              \n",
      "                                 (1)                           (2)                           (3)                           (4)                           (5)             \n",
      "-------------------------------------------------------------------------------------------------------------------------------------------------------------------------\n",
      "sec_gen                       1.611***                      1.665***                      1.570***                      1.437***                      1.728***           \n",
      "                               (0.029)                       (0.029)                       (0.029)                       (0.028)                       (0.029)           \n",
      "                                                                                                                                                                         \n",
      "Gender                                                      0.055***                      0.328***                      0.656***                      0.611***           \n",
      "                                                             (0.021)                       (0.021)                       (0.021)                       (0.021)           \n",
      "                                                                                                                                                                         \n",
      "agegrp                                                      0.102***                      0.076***                      0.040***                      0.046***           \n",
      "                                                             (0.003)                       (0.003)                       (0.003)                       (0.003)           \n",
      "                                                                                                                                                                         \n",
      "hdgree                                                                                    0.360***                      0.251***                      0.266***           \n",
      "                                                                                           (0.003)                       (0.003)                       (0.003)           \n",
      "                                                                                                                                                                         \n",
      "NOC21                                                                                                                   -0.137***                     -0.126***          \n",
      "                                                                                                                         (0.001)                       (0.001)           \n",
      "                                                                                                                                                                         \n",
      "pr                                                                                                                                                    0.014***           \n",
      "                                                                                                                                                       (0.001)           \n",
      "                                                                                                                                                                         \n",
      "genstat                                                                                                                                               0.399***           \n",
      "                                                                                                                                                       (0.009)           \n",
      "                                                                                                                                                                         \n",
      "lfact                                                                                                                                                 -0.248***          \n",
      "                                                                                                                                                       (0.007)           \n",
      "                                                                                                                                                                         \n",
      "genstat:lfact                                                                                                                                         0.015***           \n",
      "                                                                                                                                                       (0.002)           \n",
      "                                                                                                                                                                         \n",
      "Constant                      23.175***                     21.864***                     19.756***                     22.161***                     20.636***          \n",
      "                               (0.011)                       (0.053)                       (0.055)                       (0.061)                       (0.076)           \n",
      "                                                                                                                                                                         \n",
      "-------------------------------------------------------------------------------------------------------------------------------------------------------------------------\n",
      "Observations                   537,314                       537,314                       537,314                       537,314                       537,314           \n",
      "R2                              0.006                         0.007                         0.034                         0.050                         0.064            \n",
      "Adjusted R2                     0.006                         0.007                         0.034                         0.050                         0.064            \n",
      "Residual Std. Error      7.669 (df = 537312)           7.663 (df = 537310)           7.558 (df = 537309)           7.497 (df = 537308)           7.442 (df = 537304)     \n",
      "F Statistic         3,098.007*** (df = 1; 537312) 1,320.703*** (df = 3; 537310) 4,778.037*** (df = 4; 537309) 5,634.785*** (df = 5; 537308) 4,056.810*** (df = 9; 537304)\n",
      "=========================================================================================================================================================================\n",
      "Note:                                                                                                                                         *p<0.1; **p<0.05; ***p<0.01\n"
     ]
    }
   ],
   "source": [
    "# income for second gen immegrants only\n",
    "model1 <- lm(CFInc ~ sec_gen, data = data)\n",
    "model2 <- lm(CFInc ~ sec_gen + Gender + agegrp, data = data)\n",
    "model3 <- lm(CFInc ~ sec_gen + Gender + agegrp + hdgree, data = data)\n",
    "model4 <- lm(CFInc ~ sec_gen + Gender + agegrp + hdgree + NOC21, data = data)\n",
    "model5 <- lm(CFInc ~ sec_gen + Gender + agegrp + hdgree + NOC21 + pr + genstat * lfact, data = data)\n",
    "\n",
    "# Stargazer Table Output\n",
    "stargazer(model1, model2, model3, model4,model5,\n",
    "        type = \"text\", \n",
    "          title = \"Income on Second Generational Status\",\n",
    "          dep.var.labels = \"Dependent Variable: CFInc\")"
   ]
  },
  {
   "cell_type": "code",
   "execution_count": 112,
   "metadata": {
    "vscode": {
     "languageId": "r"
    }
   },
   "outputs": [
    {
     "name": "stdout",
     "output_type": "stream",
     "text": [
      "\n",
      "Income on Third+ Generational Status\n",
      "=====================================================================================================================================================================\n",
      "                                                                                   Dependent variable:                                                               \n",
      "                    -------------------------------------------------------------------------------------------------------------------------------------------------\n",
      "                                                                                Dependent Variable: CFInc                                                            \n",
      "                                (1)                         (2)                          (3)                           (4)                           (5)             \n",
      "---------------------------------------------------------------------------------------------------------------------------------------------------------------------\n",
      "third_gen                    0.481***                    0.477***                     0.991***                      0.946***                      0.200***           \n",
      "                              (0.021)                     (0.021)                      (0.021)                       (0.021)                       (0.042)           \n",
      "                                                                                                                                                                     \n",
      "Gender                                                    0.052**                     0.350***                      0.682***                      0.619***           \n",
      "                                                          (0.021)                      (0.021)                       (0.021)                       (0.021)           \n",
      "                                                                                                                                                                     \n",
      "agegrp                                                   0.088***                     0.061***                      0.025***                      0.030***           \n",
      "                                                          (0.003)                      (0.003)                       (0.003)                       (0.003)           \n",
      "                                                                                                                                                                     \n",
      "hdgree                                                                                0.390***                      0.278***                      0.263***           \n",
      "                                                                                       (0.003)                       (0.003)                       (0.003)           \n",
      "                                                                                                                                                                     \n",
      "NOC21                                                                                                               -0.139***                     -0.131***          \n",
      "                                                                                                                     (0.001)                       (0.001)           \n",
      "                                                                                                                                                                     \n",
      "pr                                                                                                                                                0.017***           \n",
      "                                                                                                                                                   (0.001)           \n",
      "                                                                                                                                                                     \n",
      "genstat                                                                                                                                           0.275***           \n",
      "                                                                                                                                                   (0.015)           \n",
      "                                                                                                                                                                     \n",
      "lfact                                                                                                                                             -0.241***          \n",
      "                                                                                                                                                   (0.007)           \n",
      "                                                                                                                                                                     \n",
      "genstat:lfact                                                                                                                                     0.014***           \n",
      "                                                                                                                                                   (0.002)           \n",
      "                                                                                                                                                                     \n",
      "Constant                     23.147***                   22.011***                    19.411***                     21.855***                     21.287***          \n",
      "                              (0.016)                     (0.054)                      (0.057)                       (0.062)                       (0.076)           \n",
      "                                                                                                                                                                     \n",
      "---------------------------------------------------------------------------------------------------------------------------------------------------------------------\n",
      "Observations                  537,314                     537,314                      537,314                       537,314                       537,314           \n",
      "R2                             0.001                       0.002                        0.033                         0.049                         0.057            \n",
      "Adjusted R2                    0.001                       0.002                        0.033                         0.049                         0.057            \n",
      "Residual Std. Error     7.687 (df = 537312)         7.683 (df = 537310)          7.564 (df = 537309)           7.501 (df = 537308)           7.467 (df = 537304)     \n",
      "F Statistic         514.074*** (df = 1; 537312) 387.689*** (df = 3; 537310) 4,562.162*** (df = 4; 537309) 5,520.040*** (df = 5; 537308) 3,631.172*** (df = 9; 537304)\n",
      "=====================================================================================================================================================================\n",
      "Note:                                                                                                                                     *p<0.1; **p<0.05; ***p<0.01\n"
     ]
    }
   ],
   "source": [
    "# income for third gen immegrants only\n",
    "model1 <- lm(CFInc ~ third_gen, data = data)\n",
    "model2 <- lm(CFInc ~ third_gen + Gender + agegrp, data = data)\n",
    "model3 <- lm(CFInc ~ third_gen + Gender + agegrp + hdgree, data = data)\n",
    "model4 <- lm(CFInc ~ third_gen + Gender + agegrp + hdgree + NOC21, data = data)\n",
    "model5 <- lm(CFInc ~ third_gen + Gender + agegrp + hdgree + NOC21 + pr + genstat * lfact, data = data)\n",
    "\n",
    "# Stargazer Table Output\n",
    "stargazer(model1, model2, model3, model4,model5,\n",
    "        type = \"text\", \n",
    "          title = \"Income on Third+ Generational Status\",\n",
    "          dep.var.labels = \"Dependent Variable: CFInc\")"
   ]
  },
  {
   "cell_type": "code",
   "execution_count": 113,
   "metadata": {
    "jupyter": {
     "source_hidden": true
    },
    "vscode": {
     "languageId": "r"
    }
   },
   "outputs": [],
   "source": [
    "mod_A <- lm(CFInc ~ first_gen + Gender + agegrp + hdgree, data = data)\n",
    "mod_B <- lm(CFInc ~ first_gen + Gender + agegrp + hdgree, data = data)\n",
    "mod_C <- lm(CFInc ~ first_gen + Gender + agegrp + hdgree, data = data)\n"
   ]
  },
  {
   "cell_type": "code",
   "execution_count": 114,
   "metadata": {
    "vscode": {
     "languageId": "r"
    }
   },
   "outputs": [],
   "source": [
    "#dummy for in labour force\n",
    "data <- data %>%\n",
    "  mutate(lfact_dummy = ifelse(lfact %in% c(11,12,13,14), 1, 0))\n",
    "\n"
   ]
  },
  {
   "cell_type": "code",
   "execution_count": 117,
   "metadata": {
    "jupyter": {
     "source_hidden": true
    },
    "vscode": {
     "languageId": "r"
    }
   },
   "outputs": [
    {
     "ename": "ERROR",
     "evalue": "Error in eval(predvars, data, env): object 'employed_dummy' not found\n",
     "output_type": "error",
     "traceback": [
      "Error in eval(predvars, data, env): object 'employed_dummy' not found\nTraceback:\n",
      "1. eval(mf, parent.frame())",
      "2. eval(mf, parent.frame())",
      "3. stats::model.frame(formula = bachelors_degree ~ third_gen + Gender + \n .     agegrp + employed_dummy * agegrp_dummy, data = data, drop.unused.levels = TRUE)",
      "4. model.frame.default(formula = bachelors_degree ~ third_gen + \n .     Gender + agegrp + employed_dummy * agegrp_dummy, data = data, \n .     drop.unused.levels = TRUE)",
      "5. eval(predvars, data, env)",
      "6. eval(predvars, data, env)",
      "7. .handleSimpleError(function (cnd) \n . {\n .     watcher$capture_plot_and_output()\n .     cnd <- sanitize_call(cnd)\n .     watcher$push(cnd)\n .     switch(on_error, continue = invokeRestart(\"eval_continue\"), \n .         stop = invokeRestart(\"eval_stop\"), error = NULL)\n . }, \"object 'employed_dummy' not found\", base::quote(eval(predvars, \n .     data, env)))"
     ]
    }
   ],
   "source": [
    "#degree status on genstat \n",
    "# should be careful, meaning of hdgree is problematic \n",
    "model1 <- lm(bachelors_degree ~ third_gen, data = data)\n",
    "model2 <- lm(bachelors_degree ~ third_gen + Gender, data = data)\n",
    "model3 <- lm(bachelors_degree ~ third_gen + Gender + agegrp, data = data)\n",
    "model4 <- lm(bachelors_degree ~ third_gen + Gender + agegrp + employed_dummy*agegrp_dummy, data = data)\n",
    "\n",
    "# Stargazer Table Output\n",
    "stargazer(model1, model2, model3, model4, \n",
    "          type = \"text\", \n",
    "          title = \"Degree on Third Generational Status\",\n",
    "          dep.var.labels = \"Dependent Variable: bachelors_degree\",\n",
    "          out = \"degree_table4.html\")\n"
   ]
  },
  {
   "cell_type": "code",
   "execution_count": 118,
   "metadata": {
    "jupyter": {
     "source_hidden": true
    },
    "scrolled": true,
    "vscode": {
     "languageId": "r"
    }
   },
   "outputs": [
    {
     "name": "stdout",
     "output_type": "stream",
     "text": [
      "\n",
      "Degree on First Generational Status\n",
      "===========================================================================================================================================\n",
      "                                                                      Dependent variable:                                                  \n",
      "                    -----------------------------------------------------------------------------------------------------------------------\n",
      "                                                                 Dependent Variable: bachelors                                             \n",
      "                                 (1)                           (2)                           (3)                           (4)             \n",
      "-------------------------------------------------------------------------------------------------------------------------------------------\n",
      "first_gen                     0.091***                      0.091***                      0.093***                      0.084***           \n",
      "                               (0.001)                       (0.001)                       (0.001)                       (0.001)           \n",
      "                                                                                                                                           \n",
      "Gender                                                      -0.060***                     -0.060***                     -0.060***          \n",
      "                                                             (0.001)                       (0.001)                       (0.001)           \n",
      "                                                                                                                                           \n",
      "agegrp                                                                                    -0.005***                     -0.013***          \n",
      "                                                                                          (0.0002)                      (0.0002)           \n",
      "                                                                                                                                           \n",
      "lfact                                                                                                                   -0.006***          \n",
      "                                                                                                                        (0.0002)           \n",
      "                                                                                                                                           \n",
      "agegrp_dummy                                                                                                            -0.290***          \n",
      "                                                                                                                         (0.004)           \n",
      "                                                                                                                                           \n",
      "lfact:agegrp_dummy                                                                                                      0.005***           \n",
      "                                                                                                                         (0.001)           \n",
      "                                                                                                                                           \n",
      "Constant                      0.184***                      0.276***                      0.330***                      0.456***           \n",
      "                               (0.001)                       (0.002)                       (0.003)                       (0.003)           \n",
      "                                                                                                                                           \n",
      "-------------------------------------------------------------------------------------------------------------------------------------------\n",
      "Observations                   537,314                       537,314                       537,314                       537,314           \n",
      "R2                              0.010                         0.015                         0.017                         0.037            \n",
      "Adjusted R2                     0.010                         0.015                         0.017                         0.037            \n",
      "Residual Std. Error      0.404 (df = 537312)           0.403 (df = 537311)           0.403 (df = 537310)           0.399 (df = 537307)     \n",
      "F Statistic         5,362.282*** (df = 1; 537312) 4,191.523*** (df = 2; 537311) 3,013.412*** (df = 3; 537310) 3,415.033*** (df = 6; 537307)\n",
      "===========================================================================================================================================\n",
      "Note:                                                                                                           *p<0.1; **p<0.05; ***p<0.01\n"
     ]
    }
   ],
   "source": [
    "#degree status on genstat \n",
    "# should be careful, meaning of hdgree is problematic \n",
    "model1 <- lm(bachelors_degree ~ first_gen, data = data)\n",
    "model2 <- lm(bachelors_degree ~ first_gen + Gender, data = data)\n",
    "model3 <- lm(bachelors_degree ~ first_gen + Gender + agegrp, data = data)\n",
    "model4 <- lm(bachelors_degree ~ first_gen + Gender + agegrp + lfact*agegrp_dummy, data = data)\n",
    "\n",
    "# Stargazer Table Output\n",
    "stargazer(model1, model2, model3, model4, \n",
    "          type = \"text\", \n",
    "          title = \"Degree on First Generational Status\",\n",
    "          dep.var.labels = \"Dependent Variable: bachelors_degree\",\n",
    "          out = \"degree_table4.html\")\n"
   ]
  },
  {
   "cell_type": "code",
   "execution_count": 119,
   "metadata": {
    "jupyter": {
     "source_hidden": true
    },
    "vscode": {
     "languageId": "r"
    }
   },
   "outputs": [
    {
     "data": {
      "image/png": "[encoded data removed]",
      "text/plain": [
       "plot without title"
      ]
     },
     "metadata": {
      "image/png": {
       "height": 420,
       "width": 420
      }
     },
     "output_type": "display_data"
    }
   ],
   "source": [
    "#Plots of income distrabution for first seocnd and third gen immegrants overlapping \n",
    "fitted_A <- predict(mod_A)\n",
    "fitted_B <- predict(mod_B)\n",
    "fitted_C <- predict(mod_C)\n",
    "\n",
    "# Get residual SD\n",
    "sigma_A <- summary(mod_A)$sigma\n",
    "sigma_B <- summary(mod_B)$sigma\n",
    "sigma_C <- summary(mod_C)$sigma\n",
    "\n",
    "# Simulate predicted outcomes around the fitted values\n",
    "set.seed(123)\n",
    "sim_A <- rnorm(length(fitted_A), mean = fitted_A, sd = sigma_A)\n",
    "sim_B <- rnorm(length(fitted_B), mean = fitted_B, sd = sigma_B)\n",
    "sim_C <- rnorm(length(fitted_C), mean = fitted_C, sd = sigma_C)\n",
    "\n",
    "# Combine for plotting\n",
    "df_plot <- data.frame(\n",
    "  outcome = c(sim_A, sim_B, sim_C),\n",
    "  group = factor(c(\n",
    "    rep(\"A\", length(sim_A)),\n",
    "    rep(\"B\", length(sim_B)),\n",
    "    rep(\"C\", length(sim_C))\n",
    "  ))\n",
    ")\n",
    "\n",
    "# Plot\n",
    "ggplot(df_plot, aes(x = outcome, fill = group)) +\n",
    "  geom_density(alpha = 0.5) +\n",
    "  labs(title = \"Predicted Income Distrabution by Generational Immigrant Status\",\n",
    "       x = \"Simulated Outcome\", y = \"Density\") +\n",
    "  theme_minimal()\n"
   ]
  },
  {
   "cell_type": "code",
   "execution_count": 120,
   "metadata": {
    "jupyter": {
     "source_hidden": true
    },
    "scrolled": true,
    "vscode": {
     "languageId": "r"
    }
   },
   "outputs": [
    {
     "name": "stdout",
     "output_type": "stream",
     "text": [
      "\n",
      "Degree on First Second Generational Status\n",
      "=========================================================================================================================================\n",
      "                                                                     Dependent variable:                                                 \n",
      "                    ---------------------------------------------------------------------------------------------------------------------\n",
      "                                                                Dependent Variable: bachelors                                            \n",
      "                                (1)                          (2)                           (3)                           (4)             \n",
      "-----------------------------------------------------------------------------------------------------------------------------------------\n",
      "sec_gen                      0.042***                     0.042***                      0.040***                      0.042***           \n",
      "                              (0.002)                      (0.002)                       (0.002)                       (0.002)           \n",
      "                                                                                                                                         \n",
      "Gender                                                    -0.060***                     -0.059***                     -0.059***          \n",
      "                                                           (0.001)                       (0.001)                       (0.001)           \n",
      "                                                                                                                                         \n",
      "agegrp                                                                                  -0.004***                     -0.012***          \n",
      "                                                                                        (0.0002)                      (0.0002)           \n",
      "                                                                                                                                         \n",
      "lfact                                                                                                                 -0.006***          \n",
      "                                                                                                                      (0.0002)           \n",
      "                                                                                                                                         \n",
      "agegrp_dummy                                                                                                          -0.303***          \n",
      "                                                                                                                       (0.004)           \n",
      "                                                                                                                                         \n",
      "lfact:agegrp_dummy                                                                                                    0.005***           \n",
      "                                                                                                                       (0.001)           \n",
      "                                                                                                                                         \n",
      "Constant                     0.202***                     0.293***                      0.337***                      0.467***           \n",
      "                              (0.001)                      (0.002)                       (0.003)                       (0.003)           \n",
      "                                                                                                                                         \n",
      "-----------------------------------------------------------------------------------------------------------------------------------------\n",
      "Observations                  537,314                      537,314                       537,314                       537,314           \n",
      "R2                             0.001                        0.007                         0.008                         0.030            \n",
      "Adjusted R2                    0.001                        0.007                         0.008                         0.030            \n",
      "Residual Std. Error     0.406 (df = 537312)          0.405 (df = 537311)           0.405 (df = 537310)           0.400 (df = 537307)     \n",
      "F Statistic         757.985*** (df = 1; 537312) 1,830.794*** (df = 2; 537311) 1,359.420*** (df = 3; 537310) 2,749.895*** (df = 6; 537307)\n",
      "=========================================================================================================================================\n",
      "Note:                                                                                                         *p<0.1; **p<0.05; ***p<0.01\n"
     ]
    }
   ],
   "source": [
    "#degree status on genstat \n",
    "# should be careful, meaning of hdgree is problematic \n",
    "model1 <- lm(bachelors_degree ~ sec_gen, data = data)\n",
    "model2 <- lm(bachelors_degree ~ sec_gen + Gender, data = data)\n",
    "model3 <- lm(bachelors_degree ~ sec_gen + Gender + agegrp, data = data)\n",
    "model4 <- lm(bachelors_degree ~ sec_gen + Gender + agegrp + lfact*agegrp_dummy, data = data)\n",
    "\n",
    "# Stargazer Table Output\n",
    "stargazer(model1, model2, model3, model4, \n",
    "          type = \"text\", \n",
    "          title = \"Degree on First Second Generational Status\",\n",
    "          dep.var.labels = \"Dependent Variable: bachelors_degree\",\n",
    "          out = \"degree_table4.html\")\n"
   ]
  },
  {
   "cell_type": "code",
   "execution_count": 121,
   "metadata": {
    "vscode": {
     "languageId": "r"
    }
   },
   "outputs": [
    {
     "name": "stdout",
     "output_type": "stream",
     "text": [
      "\n",
      "<table style=\"text-align:center\"><caption><strong>Bachelors Degree on Generational Status</strong></caption>\n",
      "<tr><td colspan=\"5\" style=\"border-bottom: 1px solid black\"></td></tr><tr><td style=\"text-align:left\"></td><td colspan=\"4\"><em>Dependent variable:</em></td></tr>\n",
      "<tr><td></td><td colspan=\"4\" style=\"border-bottom: 1px solid black\"></td></tr>\n",
      "<tr><td style=\"text-align:left\"></td><td colspan=\"4\">Dependent Variable: bachelors</td></tr>\n",
      "<tr><td style=\"text-align:left\"></td><td>(1)</td><td>(2)</td><td>(3)</td><td>(4)</td></tr>\n",
      "<tr><td colspan=\"5\" style=\"border-bottom: 1px solid black\"></td></tr><tr><td style=\"text-align:left\">genstat</td><td>-0.028<sup>***</sup></td><td>-0.028<sup>***</sup></td><td>-0.029<sup>***</sup></td><td>-0.026<sup>***</sup></td></tr>\n",
      "<tr><td style=\"text-align:left\"></td><td>(0.0004)</td><td>(0.0004)</td><td>(0.0004)</td><td>(0.0004)</td></tr>\n",
      "<tr><td style=\"text-align:left\"></td><td></td><td></td><td></td><td></td></tr>\n",
      "<tr><td style=\"text-align:left\">Gender</td><td></td><td>-0.060<sup>***</sup></td><td>-0.060<sup>***</sup></td><td>-0.060<sup>***</sup></td></tr>\n",
      "<tr><td style=\"text-align:left\"></td><td></td><td>(0.001)</td><td>(0.001)</td><td>(0.001)</td></tr>\n",
      "<tr><td style=\"text-align:left\"></td><td></td><td></td><td></td><td></td></tr>\n",
      "<tr><td style=\"text-align:left\">agegrp</td><td></td><td></td><td>-0.004<sup>***</sup></td><td>-0.012<sup>***</sup></td></tr>\n",
      "<tr><td style=\"text-align:left\"></td><td></td><td></td><td>(0.0002)</td><td>(0.0002)</td></tr>\n",
      "<tr><td style=\"text-align:left\"></td><td></td><td></td><td></td><td></td></tr>\n",
      "<tr><td style=\"text-align:left\">lfact_dummy</td><td></td><td></td><td></td><td>-0.043<sup>***</sup></td></tr>\n",
      "<tr><td style=\"text-align:left\"></td><td></td><td></td><td></td><td>(0.002)</td></tr>\n",
      "<tr><td style=\"text-align:left\"></td><td></td><td></td><td></td><td></td></tr>\n",
      "<tr><td style=\"text-align:left\">agegrp_dummy</td><td></td><td></td><td></td><td>-0.282<sup>***</sup></td></tr>\n",
      "<tr><td style=\"text-align:left\"></td><td></td><td></td><td></td><td>(0.003)</td></tr>\n",
      "<tr><td style=\"text-align:left\"></td><td></td><td></td><td></td><td></td></tr>\n",
      "<tr><td style=\"text-align:left\">lfact_dummy:agegrp_dummy</td><td></td><td></td><td></td><td>0.041<sup>***</sup></td></tr>\n",
      "<tr><td style=\"text-align:left\"></td><td></td><td></td><td></td><td>(0.006)</td></tr>\n",
      "<tr><td style=\"text-align:left\"></td><td></td><td></td><td></td><td></td></tr>\n",
      "<tr><td style=\"text-align:left\">Constant</td><td>0.294<sup>***</sup></td><td>0.386<sup>***</sup></td><td>0.437<sup>***</sup></td><td>0.545<sup>***</sup></td></tr>\n",
      "<tr><td style=\"text-align:left\"></td><td>(0.001)</td><td>(0.002)</td><td>(0.003)</td><td>(0.003)</td></tr>\n",
      "<tr><td style=\"text-align:left\"></td><td></td><td></td><td></td><td></td></tr>\n",
      "<tr><td colspan=\"5\" style=\"border-bottom: 1px solid black\"></td></tr><tr><td style=\"text-align:left\">Observations</td><td>537,314</td><td>537,314</td><td>537,314</td><td>537,314</td></tr>\n",
      "<tr><td style=\"text-align:left\">R<sup>2</sup></td><td>0.011</td><td>0.016</td><td>0.017</td><td>0.037</td></tr>\n",
      "<tr><td style=\"text-align:left\">Adjusted R<sup>2</sup></td><td>0.011</td><td>0.016</td><td>0.017</td><td>0.037</td></tr>\n",
      "<tr><td style=\"text-align:left\">Residual Std. Error</td><td>0.404 (df = 537312)</td><td>0.403 (df = 537311)</td><td>0.403 (df = 537310)</td><td>0.399 (df = 537307)</td></tr>\n",
      "<tr><td style=\"text-align:left\">F Statistic</td><td>5,791.188<sup>***</sup> (df = 1; 537312)</td><td>4,408.899<sup>***</sup> (df = 2; 537311)</td><td>3,123.186<sup>***</sup> (df = 3; 537310)</td><td>3,415.823<sup>***</sup> (df = 6; 537307)</td></tr>\n",
      "<tr><td colspan=\"5\" style=\"border-bottom: 1px solid black\"></td></tr><tr><td style=\"text-align:left\"><em>Note:</em></td><td colspan=\"4\" style=\"text-align:right\"><sup>*</sup>p<0.1; <sup>**</sup>p<0.05; <sup>***</sup>p<0.01</td></tr>\n",
      "</table>\n"
     ]
    }
   ],
   "source": [
    "#degree status on genstat \n",
    "# should be careful, meaning of hdgree is problematic \n",
    "model1 <- lm(bachelors_degree ~ genstat, data = data)\n",
    "model2 <- lm(bachelors_degree ~ genstat + Gender, data = data)\n",
    "model3 <- lm(bachelors_degree ~ genstat + Gender + agegrp, data = data)\n",
    "model4 <- lm(bachelors_degree ~ genstat + Gender + agegrp + lfact_dummy*agegrp_dummy, data = data)\n",
    "\n",
    "# Stargazer Table Output\n",
    "stargazer(model1, model2, model3, model4, \n",
    "          type = \"html\", \n",
    "          title = \"Bachelors Degree on Generational Status\",\n",
    "          dep.var.labels = \"Dependent Variable: bachelors_degree\",\n",
    "          out = \"degree_table4.html\")\n"
   ]
  },
  {
   "cell_type": "code",
   "execution_count": null,
   "metadata": {
    "vscode": {
     "languageId": "r"
    }
   },
   "outputs": [],
   "source": []
  }
 ],
 "metadata": {
  "kernelspec": {
   "display_name": "R",
   "language": "R",
   "name": "ir"
  },
  "language_info": {
   "codemirror_mode": "r",
   "file_extension": ".r",
   "mimetype": "text/x-r-source",
   "name": "R",
   "pygments_lexer": "r",
   "version": "4.4.2"
  }
 },
 "nbformat": 4,
 "nbformat_minor": 4
}
