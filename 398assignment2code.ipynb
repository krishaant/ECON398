{
 "cells": [
  {
   "cell_type": "code",
   "execution_count": 2,
   "id": "c0e92507-3728-45ec-be78-eb1a7753156a",
   "metadata": {
    "editable": true,
    "slideshow": {
     "slide_type": ""
    },
    "tags": []
   },
   "outputs": [
    {
     "data": {
      "text/html": [
       "<style>\n",
       ".list-inline {list-style: none; margin:0; padding: 0}\n",
       ".list-inline>li {display: inline-block}\n",
       ".list-inline>li:not(:last-child)::after {content: \"\\00b7\"; padding: 0 .5ex}\n",
       "</style>\n",
       "<ol class=list-inline><li>'398assignment2code.ipynb'</li><li>'cen_ind_2021_pumf_v2.dta'</li><li>'census_2021_indiv_Stata_dta_v2.zip'</li><li>'hdl_11272.1_AB2_1WTDOP-census_2021_indiv_Stata_dta_v2.zip-endnote.xml'</li></ol>\n"
      ],
      "text/latex": [
       "\\begin{enumerate*}\n",
       "\\item '398assignment2code.ipynb'\n",
       "\\item 'cen\\_ind\\_2021\\_pumf\\_v2.dta'\n",
       "\\item 'census\\_2021\\_indiv\\_Stata\\_dta\\_v2.zip'\n",
       "\\item 'hdl\\_11272.1\\_AB2\\_1WTDOP-census\\_2021\\_indiv\\_Stata\\_dta\\_v2.zip-endnote.xml'\n",
       "\\end{enumerate*}\n"
      ],
      "text/markdown": [
       "1. '398assignment2code.ipynb'\n",
       "2. 'cen_ind_2021_pumf_v2.dta'\n",
       "3. 'census_2021_indiv_Stata_dta_v2.zip'\n",
       "4. 'hdl_11272.1_AB2_1WTDOP-census_2021_indiv_Stata_dta_v2.zip-endnote.xml'\n",
       "\n",
       "\n"
      ],
      "text/plain": [
       "[1] \"398assignment2code.ipynb\"                                             \n",
       "[2] \"cen_ind_2021_pumf_v2.dta\"                                             \n",
       "[3] \"census_2021_indiv_Stata_dta_v2.zip\"                                   \n",
       "[4] \"hdl_11272.1_AB2_1WTDOP-census_2021_indiv_Stata_dta_v2.zip-endnote.xml\""
      ]
     },
     "metadata": {},
     "output_type": "display_data"
    }
   ],
   "source": [
    "list.files()\n"
   ]
  },
  {
   "cell_type": "code",
   "execution_count": 3,
   "id": "964a6b15-a520-499c-a89e-9272832b9dfc",
   "metadata": {},
   "outputs": [
    {
     "name": "stderr",
     "output_type": "stream",
     "text": [
      "── \u001b[1mAttaching core tidyverse packages\u001b[22m ──────────────────────── tidyverse 2.0.0 ──\n",
      "\u001b[32m✔\u001b[39m \u001b[34mdplyr    \u001b[39m 1.1.4     \u001b[32m✔\u001b[39m \u001b[34mreadr    \u001b[39m 2.1.5\n",
      "\u001b[32m✔\u001b[39m \u001b[34mforcats  \u001b[39m 1.0.0     \u001b[32m✔\u001b[39m \u001b[34mstringr  \u001b[39m 1.5.1\n",
      "\u001b[32m✔\u001b[39m \u001b[34mggplot2  \u001b[39m 3.5.1     \u001b[32m✔\u001b[39m \u001b[34mtibble   \u001b[39m 3.2.1\n",
      "\u001b[32m✔\u001b[39m \u001b[34mlubridate\u001b[39m 1.9.3     \u001b[32m✔\u001b[39m \u001b[34mtidyr    \u001b[39m 1.3.1\n",
      "\u001b[32m✔\u001b[39m \u001b[34mpurrr    \u001b[39m 1.0.2     \n",
      "── \u001b[1mConflicts\u001b[22m ────────────────────────────────────────── tidyverse_conflicts() ──\n",
      "\u001b[31m✖\u001b[39m \u001b[34mdplyr\u001b[39m::\u001b[32mfilter()\u001b[39m masks \u001b[34mstats\u001b[39m::filter()\n",
      "\u001b[31m✖\u001b[39m \u001b[34mdplyr\u001b[39m::\u001b[32mlag()\u001b[39m    masks \u001b[34mstats\u001b[39m::lag()\n",
      "\u001b[36mℹ\u001b[39m Use the conflicted package (\u001b[3m\u001b[34m<http://conflicted.r-lib.org/>\u001b[39m\u001b[23m) to force all conflicts to become errors\n"
     ]
    }
   ],
   "source": [
    "library(tidyverse)\n",
    "library(haven)"
   ]
  },
  {
   "cell_type": "code",
   "execution_count": 4,
   "id": "aa6e10cf-33e2-423a-b058-b26f8c0dd1ac",
   "metadata": {},
   "outputs": [],
   "source": [
    "data=unzip(\"census_2021_indiv_Stata_dta_v2.zip\", list = FALSE)\n"
   ]
  },
  {
   "cell_type": "code",
   "execution_count": 5,
   "id": "d6661d93-c77b-4136-9cea-b7bea4c2692c",
   "metadata": {},
   "outputs": [
    {
     "name": "stdout",
     "output_type": "stream",
     "text": [
      " chr \"./cen_ind_2021_pumf_v2.dta\"\n"
     ]
    },
    {
     "data": {
      "text/html": [
       "'./cen_ind_2021_pumf_v2.dta'"
      ],
      "text/latex": [
       "'./cen\\_ind\\_2021\\_pumf\\_v2.dta'"
      ],
      "text/markdown": [
       "'./cen_ind_2021_pumf_v2.dta'"
      ],
      "text/plain": [
       "[1] \"./cen_ind_2021_pumf_v2.dta\""
      ]
     },
     "metadata": {},
     "output_type": "display_data"
    }
   ],
   "source": [
    "str(data)   # View data structure\n",
    "head(data) \n"
   ]
  },
  {
   "cell_type": "code",
   "execution_count": 6,
   "id": "fad1f982-57a3-4832-bb9e-0907b6efbcab",
   "metadata": {},
   "outputs": [],
   "source": [
    "cenus_data <- read_dta(\"./cen_ind_2021_pumf_v2.dta\")"
   ]
  },
  {
   "cell_type": "code",
   "execution_count": 16,
   "id": "3a629eb5-cbc0-46ff-af3a-390241ae399b",
   "metadata": {},
   "outputs": [
    {
     "data": {
      "text/html": [
       "<style>\n",
       ".list-inline {list-style: none; margin:0; padding: 0}\n",
       ".list-inline>li {display: inline-block}\n",
       ".list-inline>li:not(:last-child)::after {content: \"\\00b7\"; padding: 0 .5ex}\n",
       "</style>\n",
       "<ol class=list-inline><li>'cenus_data'</li><li>'data'</li></ol>\n"
      ],
      "text/latex": [
       "\\begin{enumerate*}\n",
       "\\item 'cenus\\_data'\n",
       "\\item 'data'\n",
       "\\end{enumerate*}\n"
      ],
      "text/markdown": [
       "1. 'cenus_data'\n",
       "2. 'data'\n",
       "\n",
       "\n"
      ],
      "text/plain": [
       "[1] \"cenus_data\" \"data\"      "
      ]
     },
     "metadata": {},
     "output_type": "display_data"
    }
   ],
   "source": [
    "ls()\n"
   ]
  },
  {
   "cell_type": "code",
   "execution_count": 19,
   "id": "28ace760-5e97-48af-9549-2873726bd361",
   "metadata": {},
   "outputs": [
    {
     "data": {
      "text/html": [
       "<style>\n",
       ".list-inline {list-style: none; margin:0; padding: 0}\n",
       ".list-inline>li {display: inline-block}\n",
       ".list-inline>li:not(:last-child)::after {content: \"\\00b7\"; padding: 0 .5ex}\n",
       "</style>\n",
       "<ol class=list-inline><li>'ppsort'</li><li>'aboid'</li><li>'agegrp'</li><li>'ageimm'</li><li>'attsch'</li><li>'bfnmemb'</li><li>'bedrm'</li><li>'CFInc'</li><li>'CFInc_AT'</li><li>'cfstat'</li><li>'chdbn'</li><li>'CIP2021'</li><li>'CIP2021_STEM_SUM'</li><li>'cma'</li><li>'condo'</li><li>'COVID_ERB'</li><li>'cow'</li><li>'cqppb'</li><li>'CapGn'</li><li>'CfSize'</li><li>'ChldC'</li><li>'CitOth'</li><li>'Citizen'</li><li>'dist'</li><li>'dpgrsum'</li><li>'dtype'</li><li>'EFDecile'</li><li>'EFInc'</li><li>'EFInc_AT'</li><li>'eicbn'</li><li>'ethder'</li><li>'EfDIMBM_2018'</li><li>'EfSize'</li><li>'EmpIn'</li><li>'fol'</li><li>'fptwk'</li><li>'Gender'</li><li>'genstat'</li><li>'GovtI'</li><li>'GTRfs'</li><li>'HCORENEED_IND'</li><li>'hdgree'</li><li>'HHInc'</li><li>'HHInc_AT'</li><li>'hhmrkinc'</li><li>'hhsize'</li><li>'hhtype'</li><li>'hlmosten'</li><li>'hlmostfr'</li><li>'hlmostno'</li><li>'hlregen'</li><li>'hlregfr'</li><li>'hlregno'</li><li>'IMMCAT5'</li><li>'immstat'</li><li>'IncTax'</li><li>'Invst'</li><li>'jobperm'</li><li>'kol'</li><li>'lfact'</li><li>'LICO_BT'</li><li>'LICO_AT'</li><li>'liprogtype'</li><li>'LI_ELIG_OML_U18'</li><li>'locstud'</li><li>'LOC_ST_RES'</li><li>'lstwrk'</li><li>'lwmosten'</li><li>'lwmostfr'</li><li>'lwmostno'</li><li>'lwregen'</li><li>'lwregfr'</li><li>'lwregno'</li><li>'LoLIMA'</li><li>'LoLIMB'</li><li>'LOMBM_2018'</li><li>'mode'</li><li>'MTNEn'</li><li>'MTNFr'</li><li>'mtnno'</li><li>'marsth'</li><li>'Mob1'</li><li>'Mob5'</li><li>'MrkInc'</li><li>'naics'</li><li>'NOC21'</li><li>'nol'</li><li>'nos'</li><li>'oasgi'</li><li>'OtInc'</li><li>'PKID25'</li><li>'PKID0_1'</li><li>'PKID15_24'</li><li>'PKID2_5'</li><li>'PKID6_14'</li><li>'pkids'</li><li>'pob'</li><li>'POBPAR1'</li><li>'POBPAR2'</li><li>'powst'</li><li>'pr'</li><li>'PR1'</li><li>'PR5'</li><li>'presmortg'</li><li>'prihm'</li><li>'pwdur'</li><li>'pwleave'</li><li>'pwocc'</li><li>'pwpr'</li><li>'regind'</li><li>'relig'</li><li>'repair'</li><li>'room'</li><li>'Retir'</li><li>'shelco'</li><li>'ssgrad'</li><li>'subsidy'</li><li>'SempI'</li><li>'tenur'</li><li>'TotInc'</li><li>'TotInc_AT'</li><li>'vismin'</li><li>'Value'</li><li>'wkswrk'</li><li>'wrkact'</li><li>'Wages'</li><li>'yrim'</li><li>'weight'</li><li>'WT1'</li><li>'WT2'</li><li>'WT3'</li><li>'WT4'</li><li>'WT5'</li><li>'WT6'</li><li>'WT7'</li><li>'WT8'</li><li>'WT9'</li><li>'WT10'</li><li>'WT11'</li><li>'WT12'</li><li>'WT13'</li><li>'WT14'</li><li>'WT15'</li><li>'WT16'</li></ol>\n"
      ],
      "text/latex": [
       "\\begin{enumerate*}\n",
       "\\item 'ppsort'\n",
       "\\item 'aboid'\n",
       "\\item 'agegrp'\n",
       "\\item 'ageimm'\n",
       "\\item 'attsch'\n",
       "\\item 'bfnmemb'\n",
       "\\item 'bedrm'\n",
       "\\item 'CFInc'\n",
       "\\item 'CFInc\\_AT'\n",
       "\\item 'cfstat'\n",
       "\\item 'chdbn'\n",
       "\\item 'CIP2021'\n",
       "\\item 'CIP2021\\_STEM\\_SUM'\n",
       "\\item 'cma'\n",
       "\\item 'condo'\n",
       "\\item 'COVID\\_ERB'\n",
       "\\item 'cow'\n",
       "\\item 'cqppb'\n",
       "\\item 'CapGn'\n",
       "\\item 'CfSize'\n",
       "\\item 'ChldC'\n",
       "\\item 'CitOth'\n",
       "\\item 'Citizen'\n",
       "\\item 'dist'\n",
       "\\item 'dpgrsum'\n",
       "\\item 'dtype'\n",
       "\\item 'EFDecile'\n",
       "\\item 'EFInc'\n",
       "\\item 'EFInc\\_AT'\n",
       "\\item 'eicbn'\n",
       "\\item 'ethder'\n",
       "\\item 'EfDIMBM\\_2018'\n",
       "\\item 'EfSize'\n",
       "\\item 'EmpIn'\n",
       "\\item 'fol'\n",
       "\\item 'fptwk'\n",
       "\\item 'Gender'\n",
       "\\item 'genstat'\n",
       "\\item 'GovtI'\n",
       "\\item 'GTRfs'\n",
       "\\item 'HCORENEED\\_IND'\n",
       "\\item 'hdgree'\n",
       "\\item 'HHInc'\n",
       "\\item 'HHInc\\_AT'\n",
       "\\item 'hhmrkinc'\n",
       "\\item 'hhsize'\n",
       "\\item 'hhtype'\n",
       "\\item 'hlmosten'\n",
       "\\item 'hlmostfr'\n",
       "\\item 'hlmostno'\n",
       "\\item 'hlregen'\n",
       "\\item 'hlregfr'\n",
       "\\item 'hlregno'\n",
       "\\item 'IMMCAT5'\n",
       "\\item 'immstat'\n",
       "\\item 'IncTax'\n",
       "\\item 'Invst'\n",
       "\\item 'jobperm'\n",
       "\\item 'kol'\n",
       "\\item 'lfact'\n",
       "\\item 'LICO\\_BT'\n",
       "\\item 'LICO\\_AT'\n",
       "\\item 'liprogtype'\n",
       "\\item 'LI\\_ELIG\\_OML\\_U18'\n",
       "\\item 'locstud'\n",
       "\\item 'LOC\\_ST\\_RES'\n",
       "\\item 'lstwrk'\n",
       "\\item 'lwmosten'\n",
       "\\item 'lwmostfr'\n",
       "\\item 'lwmostno'\n",
       "\\item 'lwregen'\n",
       "\\item 'lwregfr'\n",
       "\\item 'lwregno'\n",
       "\\item 'LoLIMA'\n",
       "\\item 'LoLIMB'\n",
       "\\item 'LOMBM\\_2018'\n",
       "\\item 'mode'\n",
       "\\item 'MTNEn'\n",
       "\\item 'MTNFr'\n",
       "\\item 'mtnno'\n",
       "\\item 'marsth'\n",
       "\\item 'Mob1'\n",
       "\\item 'Mob5'\n",
       "\\item 'MrkInc'\n",
       "\\item 'naics'\n",
       "\\item 'NOC21'\n",
       "\\item 'nol'\n",
       "\\item 'nos'\n",
       "\\item 'oasgi'\n",
       "\\item 'OtInc'\n",
       "\\item 'PKID25'\n",
       "\\item 'PKID0\\_1'\n",
       "\\item 'PKID15\\_24'\n",
       "\\item 'PKID2\\_5'\n",
       "\\item 'PKID6\\_14'\n",
       "\\item 'pkids'\n",
       "\\item 'pob'\n",
       "\\item 'POBPAR1'\n",
       "\\item 'POBPAR2'\n",
       "\\item 'powst'\n",
       "\\item 'pr'\n",
       "\\item 'PR1'\n",
       "\\item 'PR5'\n",
       "\\item 'presmortg'\n",
       "\\item 'prihm'\n",
       "\\item 'pwdur'\n",
       "\\item 'pwleave'\n",
       "\\item 'pwocc'\n",
       "\\item 'pwpr'\n",
       "\\item 'regind'\n",
       "\\item 'relig'\n",
       "\\item 'repair'\n",
       "\\item 'room'\n",
       "\\item 'Retir'\n",
       "\\item 'shelco'\n",
       "\\item 'ssgrad'\n",
       "\\item 'subsidy'\n",
       "\\item 'SempI'\n",
       "\\item 'tenur'\n",
       "\\item 'TotInc'\n",
       "\\item 'TotInc\\_AT'\n",
       "\\item 'vismin'\n",
       "\\item 'Value'\n",
       "\\item 'wkswrk'\n",
       "\\item 'wrkact'\n",
       "\\item 'Wages'\n",
       "\\item 'yrim'\n",
       "\\item 'weight'\n",
       "\\item 'WT1'\n",
       "\\item 'WT2'\n",
       "\\item 'WT3'\n",
       "\\item 'WT4'\n",
       "\\item 'WT5'\n",
       "\\item 'WT6'\n",
       "\\item 'WT7'\n",
       "\\item 'WT8'\n",
       "\\item 'WT9'\n",
       "\\item 'WT10'\n",
       "\\item 'WT11'\n",
       "\\item 'WT12'\n",
       "\\item 'WT13'\n",
       "\\item 'WT14'\n",
       "\\item 'WT15'\n",
       "\\item 'WT16'\n",
       "\\end{enumerate*}\n"
      ],
      "text/markdown": [
       "1. 'ppsort'\n",
       "2. 'aboid'\n",
       "3. 'agegrp'\n",
       "4. 'ageimm'\n",
       "5. 'attsch'\n",
       "6. 'bfnmemb'\n",
       "7. 'bedrm'\n",
       "8. 'CFInc'\n",
       "9. 'CFInc_AT'\n",
       "10. 'cfstat'\n",
       "11. 'chdbn'\n",
       "12. 'CIP2021'\n",
       "13. 'CIP2021_STEM_SUM'\n",
       "14. 'cma'\n",
       "15. 'condo'\n",
       "16. 'COVID_ERB'\n",
       "17. 'cow'\n",
       "18. 'cqppb'\n",
       "19. 'CapGn'\n",
       "20. 'CfSize'\n",
       "21. 'ChldC'\n",
       "22. 'CitOth'\n",
       "23. 'Citizen'\n",
       "24. 'dist'\n",
       "25. 'dpgrsum'\n",
       "26. 'dtype'\n",
       "27. 'EFDecile'\n",
       "28. 'EFInc'\n",
       "29. 'EFInc_AT'\n",
       "30. 'eicbn'\n",
       "31. 'ethder'\n",
       "32. 'EfDIMBM_2018'\n",
       "33. 'EfSize'\n",
       "34. 'EmpIn'\n",
       "35. 'fol'\n",
       "36. 'fptwk'\n",
       "37. 'Gender'\n",
       "38. 'genstat'\n",
       "39. 'GovtI'\n",
       "40. 'GTRfs'\n",
       "41. 'HCORENEED_IND'\n",
       "42. 'hdgree'\n",
       "43. 'HHInc'\n",
       "44. 'HHInc_AT'\n",
       "45. 'hhmrkinc'\n",
       "46. 'hhsize'\n",
       "47. 'hhtype'\n",
       "48. 'hlmosten'\n",
       "49. 'hlmostfr'\n",
       "50. 'hlmostno'\n",
       "51. 'hlregen'\n",
       "52. 'hlregfr'\n",
       "53. 'hlregno'\n",
       "54. 'IMMCAT5'\n",
       "55. 'immstat'\n",
       "56. 'IncTax'\n",
       "57. 'Invst'\n",
       "58. 'jobperm'\n",
       "59. 'kol'\n",
       "60. 'lfact'\n",
       "61. 'LICO_BT'\n",
       "62. 'LICO_AT'\n",
       "63. 'liprogtype'\n",
       "64. 'LI_ELIG_OML_U18'\n",
       "65. 'locstud'\n",
       "66. 'LOC_ST_RES'\n",
       "67. 'lstwrk'\n",
       "68. 'lwmosten'\n",
       "69. 'lwmostfr'\n",
       "70. 'lwmostno'\n",
       "71. 'lwregen'\n",
       "72. 'lwregfr'\n",
       "73. 'lwregno'\n",
       "74. 'LoLIMA'\n",
       "75. 'LoLIMB'\n",
       "76. 'LOMBM_2018'\n",
       "77. 'mode'\n",
       "78. 'MTNEn'\n",
       "79. 'MTNFr'\n",
       "80. 'mtnno'\n",
       "81. 'marsth'\n",
       "82. 'Mob1'\n",
       "83. 'Mob5'\n",
       "84. 'MrkInc'\n",
       "85. 'naics'\n",
       "86. 'NOC21'\n",
       "87. 'nol'\n",
       "88. 'nos'\n",
       "89. 'oasgi'\n",
       "90. 'OtInc'\n",
       "91. 'PKID25'\n",
       "92. 'PKID0_1'\n",
       "93. 'PKID15_24'\n",
       "94. 'PKID2_5'\n",
       "95. 'PKID6_14'\n",
       "96. 'pkids'\n",
       "97. 'pob'\n",
       "98. 'POBPAR1'\n",
       "99. 'POBPAR2'\n",
       "100. 'powst'\n",
       "101. 'pr'\n",
       "102. 'PR1'\n",
       "103. 'PR5'\n",
       "104. 'presmortg'\n",
       "105. 'prihm'\n",
       "106. 'pwdur'\n",
       "107. 'pwleave'\n",
       "108. 'pwocc'\n",
       "109. 'pwpr'\n",
       "110. 'regind'\n",
       "111. 'relig'\n",
       "112. 'repair'\n",
       "113. 'room'\n",
       "114. 'Retir'\n",
       "115. 'shelco'\n",
       "116. 'ssgrad'\n",
       "117. 'subsidy'\n",
       "118. 'SempI'\n",
       "119. 'tenur'\n",
       "120. 'TotInc'\n",
       "121. 'TotInc_AT'\n",
       "122. 'vismin'\n",
       "123. 'Value'\n",
       "124. 'wkswrk'\n",
       "125. 'wrkact'\n",
       "126. 'Wages'\n",
       "127. 'yrim'\n",
       "128. 'weight'\n",
       "129. 'WT1'\n",
       "130. 'WT2'\n",
       "131. 'WT3'\n",
       "132. 'WT4'\n",
       "133. 'WT5'\n",
       "134. 'WT6'\n",
       "135. 'WT7'\n",
       "136. 'WT8'\n",
       "137. 'WT9'\n",
       "138. 'WT10'\n",
       "139. 'WT11'\n",
       "140. 'WT12'\n",
       "141. 'WT13'\n",
       "142. 'WT14'\n",
       "143. 'WT15'\n",
       "144. 'WT16'\n",
       "\n",
       "\n"
      ],
      "text/plain": [
       "  [1] \"ppsort\"           \"aboid\"            \"agegrp\"          \n",
       "  [4] \"ageimm\"           \"attsch\"           \"bfnmemb\"         \n",
       "  [7] \"bedrm\"            \"CFInc\"            \"CFInc_AT\"        \n",
       " [10] \"cfstat\"           \"chdbn\"            \"CIP2021\"         \n",
       " [13] \"CIP2021_STEM_SUM\" \"cma\"              \"condo\"           \n",
       " [16] \"COVID_ERB\"        \"cow\"              \"cqppb\"           \n",
       " [19] \"CapGn\"            \"CfSize\"           \"ChldC\"           \n",
       " [22] \"CitOth\"           \"Citizen\"          \"dist\"            \n",
       " [25] \"dpgrsum\"          \"dtype\"            \"EFDecile\"        \n",
       " [28] \"EFInc\"            \"EFInc_AT\"         \"eicbn\"           \n",
       " [31] \"ethder\"           \"EfDIMBM_2018\"     \"EfSize\"          \n",
       " [34] \"EmpIn\"            \"fol\"              \"fptwk\"           \n",
       " [37] \"Gender\"           \"genstat\"          \"GovtI\"           \n",
       " [40] \"GTRfs\"            \"HCORENEED_IND\"    \"hdgree\"          \n",
       " [43] \"HHInc\"            \"HHInc_AT\"         \"hhmrkinc\"        \n",
       " [46] \"hhsize\"           \"hhtype\"           \"hlmosten\"        \n",
       " [49] \"hlmostfr\"         \"hlmostno\"         \"hlregen\"         \n",
       " [52] \"hlregfr\"          \"hlregno\"          \"IMMCAT5\"         \n",
       " [55] \"immstat\"          \"IncTax\"           \"Invst\"           \n",
       " [58] \"jobperm\"          \"kol\"              \"lfact\"           \n",
       " [61] \"LICO_BT\"          \"LICO_AT\"          \"liprogtype\"      \n",
       " [64] \"LI_ELIG_OML_U18\"  \"locstud\"          \"LOC_ST_RES\"      \n",
       " [67] \"lstwrk\"           \"lwmosten\"         \"lwmostfr\"        \n",
       " [70] \"lwmostno\"         \"lwregen\"          \"lwregfr\"         \n",
       " [73] \"lwregno\"          \"LoLIMA\"           \"LoLIMB\"          \n",
       " [76] \"LOMBM_2018\"       \"mode\"             \"MTNEn\"           \n",
       " [79] \"MTNFr\"            \"mtnno\"            \"marsth\"          \n",
       " [82] \"Mob1\"             \"Mob5\"             \"MrkInc\"          \n",
       " [85] \"naics\"            \"NOC21\"            \"nol\"             \n",
       " [88] \"nos\"              \"oasgi\"            \"OtInc\"           \n",
       " [91] \"PKID25\"           \"PKID0_1\"          \"PKID15_24\"       \n",
       " [94] \"PKID2_5\"          \"PKID6_14\"         \"pkids\"           \n",
       " [97] \"pob\"              \"POBPAR1\"          \"POBPAR2\"         \n",
       "[100] \"powst\"            \"pr\"               \"PR1\"             \n",
       "[103] \"PR5\"              \"presmortg\"        \"prihm\"           \n",
       "[106] \"pwdur\"            \"pwleave\"          \"pwocc\"           \n",
       "[109] \"pwpr\"             \"regind\"           \"relig\"           \n",
       "[112] \"repair\"           \"room\"             \"Retir\"           \n",
       "[115] \"shelco\"           \"ssgrad\"           \"subsidy\"         \n",
       "[118] \"SempI\"            \"tenur\"            \"TotInc\"          \n",
       "[121] \"TotInc_AT\"        \"vismin\"           \"Value\"           \n",
       "[124] \"wkswrk\"           \"wrkact\"           \"Wages\"           \n",
       "[127] \"yrim\"             \"weight\"           \"WT1\"             \n",
       "[130] \"WT2\"              \"WT3\"              \"WT4\"             \n",
       "[133] \"WT5\"              \"WT6\"              \"WT7\"             \n",
       "[136] \"WT8\"              \"WT9\"              \"WT10\"            \n",
       "[139] \"WT11\"             \"WT12\"             \"WT13\"            \n",
       "[142] \"WT14\"             \"WT15\"             \"WT16\"            "
      ]
     },
     "metadata": {},
     "output_type": "display_data"
    }
   ],
   "source": [
    "colnames(cenus_data)\n"
   ]
  },
  {
   "cell_type": "code",
   "execution_count": 7,
   "id": "ccaf0f23-fbe3-4c2d-bafc-14090649fcf8",
   "metadata": {},
   "outputs": [],
   "source": [
    "cenus_data <- cenus_data %>%\n",
    "  filter(!is.na(Wages), !is.na(hdgree)) %>%\n",
    "  mutate(hdgree = as.character(hdgree),  # Convert labeled variable\n",
    "         uni_edu = ifelse(hdgree == \"University\", 1, 0))\n"
   ]
  },
  {
   "cell_type": "code",
   "execution_count": 22,
   "id": "e4bb4496-8483-4def-b102-ebfe64004dbe",
   "metadata": {},
   "outputs": [
    {
     "data": {
      "text/html": [
       "<style>\n",
       ".list-inline {list-style: none; margin:0; padding: 0}\n",
       ".list-inline>li {display: inline-block}\n",
       ".list-inline>li:not(:last-child)::after {content: \"\\00b7\"; padding: 0 .5ex}\n",
       "</style>\n",
       "<ol class=list-inline><li>'7'</li><li>'2'</li><li>'5'</li><li>'9'</li><li>'12'</li><li>'6'</li><li>'99'</li><li>'1'</li><li>'8'</li><li>'4'</li><li>'3'</li><li>'10'</li><li>'11'</li><li>'13'</li><li>'88'</li></ol>\n"
      ],
      "text/latex": [
       "\\begin{enumerate*}\n",
       "\\item '7'\n",
       "\\item '2'\n",
       "\\item '5'\n",
       "\\item '9'\n",
       "\\item '12'\n",
       "\\item '6'\n",
       "\\item '99'\n",
       "\\item '1'\n",
       "\\item '8'\n",
       "\\item '4'\n",
       "\\item '3'\n",
       "\\item '10'\n",
       "\\item '11'\n",
       "\\item '13'\n",
       "\\item '88'\n",
       "\\end{enumerate*}\n"
      ],
      "text/markdown": [
       "1. '7'\n",
       "2. '2'\n",
       "3. '5'\n",
       "4. '9'\n",
       "5. '12'\n",
       "6. '6'\n",
       "7. '99'\n",
       "8. '1'\n",
       "9. '8'\n",
       "10. '4'\n",
       "11. '3'\n",
       "12. '10'\n",
       "13. '11'\n",
       "14. '13'\n",
       "15. '88'\n",
       "\n",
       "\n"
      ],
      "text/plain": [
       " [1] \"7\"  \"2\"  \"5\"  \"9\"  \"12\" \"6\"  \"99\" \"1\"  \"8\"  \"4\"  \"3\"  \"10\" \"11\" \"13\" \"88\""
      ]
     },
     "metadata": {},
     "output_type": "display_data"
    }
   ],
   "source": [
    "unique(cenus_data$hdgree)\n"
   ]
  },
  {
   "cell_type": "code",
   "execution_count": 23,
   "id": "e136f549-d53c-4abf-afd3-766a75435345",
   "metadata": {},
   "outputs": [
    {
     "name": "stdout",
     "output_type": "stream",
     "text": [
      " chr [1:980868] \"7\" \"7\" \"2\" \"5\" \"2\" \"2\" \"9\" \"12\" \"6\" \"2\" \"6\" \"9\" \"2\" \"2\" ...\n"
     ]
    }
   ],
   "source": [
    "str(cenus_data$hdgree)\n"
   ]
  },
  {
   "cell_type": "code",
   "execution_count": 25,
   "id": "fee7ae5e-c542-401c-8da0-af6635cad90e",
   "metadata": {},
   "outputs": [
    {
     "data": {
      "text/html": [
       "<style>\n",
       ".list-inline {list-style: none; margin:0; padding: 0}\n",
       ".list-inline>li {display: inline-block}\n",
       ".list-inline>li:not(:last-child)::after {content: \"\\00b7\"; padding: 0 .5ex}\n",
       "</style>\n",
       "<ol class=list-inline><li>7</li><li>2</li><li>5</li><li>9</li><li>12</li><li>6</li><li>99</li><li>1</li><li>8</li><li>4</li><li>3</li><li>10</li><li>11</li><li>13</li><li>88</li></ol>\n",
       "\n",
       "<details>\n",
       "\t<summary style=display:list-item;cursor:pointer>\n",
       "\t\t<strong>Levels</strong>:\n",
       "\t</summary>\n",
       "\t<style>\n",
       "\t.list-inline {list-style: none; margin:0; padding: 0}\n",
       "\t.list-inline>li {display: inline-block}\n",
       "\t.list-inline>li:not(:last-child)::after {content: \"\\00b7\"; padding: 0 .5ex}\n",
       "\t</style>\n",
       "\t<ol class=list-inline><li>'7'</li><li>'2'</li><li>'5'</li><li>'9'</li><li>'12'</li><li>'6'</li><li>'99'</li><li>'1'</li><li>'8'</li><li>'4'</li><li>'3'</li><li>'10'</li><li>'11'</li><li>'13'</li><li>'88'</li></ol>\n",
       "</details>"
      ],
      "text/latex": [
       "\\begin{enumerate*}\n",
       "\\item 7\n",
       "\\item 2\n",
       "\\item 5\n",
       "\\item 9\n",
       "\\item 12\n",
       "\\item 6\n",
       "\\item 99\n",
       "\\item 1\n",
       "\\item 8\n",
       "\\item 4\n",
       "\\item 3\n",
       "\\item 10\n",
       "\\item 11\n",
       "\\item 13\n",
       "\\item 88\n",
       "\\end{enumerate*}\n",
       "\n",
       "\\emph{Levels}: \\begin{enumerate*}\n",
       "\\item '7'\n",
       "\\item '2'\n",
       "\\item '5'\n",
       "\\item '9'\n",
       "\\item '12'\n",
       "\\item '6'\n",
       "\\item '99'\n",
       "\\item '1'\n",
       "\\item '8'\n",
       "\\item '4'\n",
       "\\item '3'\n",
       "\\item '10'\n",
       "\\item '11'\n",
       "\\item '13'\n",
       "\\item '88'\n",
       "\\end{enumerate*}\n"
      ],
      "text/markdown": [
       "1. 7\n",
       "2. 2\n",
       "3. 5\n",
       "4. 9\n",
       "5. 12\n",
       "6. 6\n",
       "7. 99\n",
       "8. 1\n",
       "9. 8\n",
       "10. 4\n",
       "11. 3\n",
       "12. 10\n",
       "13. 11\n",
       "14. 13\n",
       "15. 88\n",
       "\n",
       "\n",
       "\n",
       "**Levels**: 1. '7'\n",
       "2. '2'\n",
       "3. '5'\n",
       "4. '9'\n",
       "5. '12'\n",
       "6. '6'\n",
       "7. '99'\n",
       "8. '1'\n",
       "9. '8'\n",
       "10. '4'\n",
       "11. '3'\n",
       "12. '10'\n",
       "13. '11'\n",
       "14. '13'\n",
       "15. '88'\n",
       "\n",
       "\n"
      ],
      "text/plain": [
       " [1] 7  2  5  9  12 6  99 1  8  4  3  10 11 13 88\n",
       "Levels: 7 2 5 9 12 6 99 1 8 4 3 10 11 13 88"
      ]
     },
     "metadata": {},
     "output_type": "display_data"
    }
   ],
   "source": [
    "cenus_data$hdgree <- as_factor(cenus_data$hdgree)\n",
    "unique(cenus_data$hdgree)  \n"
   ]
  },
  {
   "cell_type": "code",
   "execution_count": 26,
   "id": "c4e322db-b1f5-46b2-9015-2b1fd2793c31",
   "metadata": {},
   "outputs": [],
   "source": [
    "cenus_data$hdgree <- recode(cenus_data$hdgree,\n",
    "  \"1\" = \"No certificate, diploma or degree\",\n",
    "  \"2\" = \"High school diploma or equivalency certificate\",\n",
    "  \"3\" = \"Non-apprenticeship trades\",\n",
    "  \"4\" = \"Apprenticeship certificate\",\n",
    "  \"5\" = \"Program of 3 months to less than 1 year (College, CEGEP, and other non-university certificates or diplomas)\",\n",
    "  \"6\" = \"Program of 1 to 2 years (College, CEGEP, and other non-university certificates or diplomas)\",\n",
    "  \"7\" = \"Program of more than 2 years (College, CEGEP, and other non-university certificates or diplomas)\",\n",
    "  \"8\" = \"University certificate or diploma below bachelor level\",\n",
    "  \"9\" = \"Bachelor’s degree\",\n",
    "  \"10\" = \"University certificate or diploma above bachelor level\",\n",
    "  \"11\" = \"Degree in medicine, dentistry, veterinary medicine or optometry\",\n",
    "  \"12\" = \"Master’s degree\",\n",
    "  \"13\" = \"Earned doctorate\",\n",
    "  \"88\" = \"Not available\",\n",
    "  \"99\" = \"Not applicable\"\n",
    ")\n",
    "\n",
    "                             \n",
    "                             "
   ]
  },
  {
   "cell_type": "code",
   "execution_count": 27,
   "id": "9e6ea72d-c485-416d-9c72-6e91501471c6",
   "metadata": {},
   "outputs": [],
   "source": [
    "cenus_data <- cenus_data %>%\n",
    "  mutate(university_educated = ifelse(hdgree %in% c(\"Bachelor’s degree\", \n",
    "                                                    \"University certificate or diploma above bachelor level\", \n",
    "                                                    \"Degree in medicine, dentistry, veterinary medicine or optometry\", \n",
    "                                                    \"Master’s degree\", \n",
    "                                                    \"Earned doctorate\"), 1, 0))\n"
   ]
  },
  {
   "cell_type": "code",
   "execution_count": 28,
   "id": "e3a3149f-a9f1-4e82-bfa6-451a2f18f9bc",
   "metadata": {},
   "outputs": [
    {
     "name": "stdout",
     "output_type": "stream",
     "text": [
      "\u001b[90m# A tibble: 2 × 4\u001b[39m\n",
      "  university_educated mean_wage median_wage  count\n",
      "                \u001b[3m\u001b[90m<dbl>\u001b[39m\u001b[23m     \u001b[3m\u001b[90m<dbl>\u001b[39m\u001b[23m       \u001b[3m\u001b[90m<dbl>\u001b[39m\u001b[23m  \u001b[3m\u001b[90m<int>\u001b[39m\u001b[23m\n",
      "\u001b[90m1\u001b[39m                   0 52\u001b[4m7\u001b[24m\u001b[4m5\u001b[24m\u001b[4m8\u001b[24m659.    99\u001b[4m9\u001b[24m\u001b[4m9\u001b[24m\u001b[4m9\u001b[24m999 \u001b[4m7\u001b[24m\u001b[4m6\u001b[24m\u001b[4m5\u001b[24m122\n",
      "\u001b[90m2\u001b[39m                   1 26\u001b[4m2\u001b[24m\u001b[4m4\u001b[24m\u001b[4m7\u001b[24m054.       \u001b[4m8\u001b[24m\u001b[4m5\u001b[24m000 \u001b[4m2\u001b[24m\u001b[4m1\u001b[24m\u001b[4m5\u001b[24m746\n"
     ]
    }
   ],
   "source": [
    "summary_by_edu <- cenus_data %>%\n",
    "  group_by(university_educated) %>%\n",
    "  summarise(mean_wage = mean(Wages, na.rm = TRUE),\n",
    "            median_wage = median(Wages, na.rm = TRUE),\n",
    "            count = n())\n",
    "\n",
    "print(summary_by_edu)\n"
   ]
  },
  {
   "cell_type": "code",
   "execution_count": 29,
   "id": "e4241cd7-d389-4971-95b1-d5917cec5890",
   "metadata": {},
   "outputs": [
    {
     "data": {
      "text/plain": [
       "\n",
       "\tWelch Two Sample t-test\n",
       "\n",
       "data:  Wages by university_educated\n",
       "t = 240.18, df = 386886, p-value < 2.2e-16\n",
       "alternative hypothesis: true difference in means between group 0 and group 1 is not equal to 0\n",
       "95 percent confidence interval:\n",
       " 26295261 26727948\n",
       "sample estimates:\n",
       "mean in group 0 mean in group 1 \n",
       "       52758659        26247054 \n"
      ]
     },
     "metadata": {},
     "output_type": "display_data"
    }
   ],
   "source": [
    "t.test(Wages ~ university_educated, data = cenus_data)\n",
    "\n"
   ]
  },
  {
   "cell_type": "code",
   "execution_count": 60,
   "id": "f00418f8-ddb0-4ed7-bdee-9887e17f123d",
   "metadata": {},
   "outputs": [],
   "source": [
    "cenus_data$Wages <- ifelse(cenus_data$Wages == 99999999, NA, cenus_data$Wages)\n"
   ]
  },
  {
   "cell_type": "code",
   "execution_count": 62,
   "id": "b36feea2-2f0e-4487-b75b-dbfb24b7fae4",
   "metadata": {},
   "outputs": [],
   "source": [
    "cenus_data <- cenus_data %>%\n",
    "  mutate(Wages = ifelse(Wages == 99999999, NA, Wages))\n"
   ]
  },
  {
   "cell_type": "code",
   "execution_count": 61,
   "id": "ff0524e8-250a-4faf-af0a-0d179645cd8b",
   "metadata": {},
   "outputs": [],
   "source": [
    "cenus_data <- cenus_data %>%\n",
    "  mutate(immstat = ifelse(immstat == 88, NA, immstat))\n"
   ]
  },
  {
   "cell_type": "code",
   "execution_count": 55,
   "id": "918da2f6-688b-4b16-a28b-47f0dd259af3",
   "metadata": {},
   "outputs": [
    {
     "name": "stdout",
     "output_type": "stream",
     "text": [
      "\u001b[90m# A tibble: 2 × 6\u001b[39m\n",
      "  university_educated mean_age proportion_male proportion_female\n",
      "                \u001b[3m\u001b[90m<dbl>\u001b[39m\u001b[23m    \u001b[3m\u001b[90m<dbl>\u001b[39m\u001b[23m           \u001b[3m\u001b[90m<dbl>\u001b[39m\u001b[23m             \u001b[3m\u001b[90m<dbl>\u001b[39m\u001b[23m\n",
      "\u001b[90m1\u001b[39m                   0     11.3           0.495             0.505\n",
      "\u001b[90m2\u001b[39m                   1     13.0           0.545             0.455\n",
      "\u001b[90m# ℹ 2 more variables: proportion_immigrant <dbl>,\u001b[39m\n",
      "\u001b[90m#   proportion_non_immigrant <dbl>\u001b[39m\n"
     ]
    }
   ],
   "source": [
    "balance_check <- census_data %>%\n",
    "  group_by(university_educated) %>%\n",
    "  summarise(\n",
    "    mean_age = mean(agegrp, na.rm = TRUE),\n",
    "    proportion_male = mean(Gender == 1, na.rm = TRUE),\n",
    "    proportion_female = mean(Gender == 2, na.rm = TRUE),\n",
    "    proportion_immigrant = mean(immstat == 2, na.rm = TRUE),\n",
    "    proportion_non_immigrant = mean(immstat == 1, na.rm = TRUE)\n",
    "  )\n",
    "\n",
    "print(balance_check)\n"
   ]
  },
  {
   "cell_type": "code",
   "execution_count": 56,
   "id": "49fc6503-259b-4e54-bd97-369cd1c5e594",
   "metadata": {},
   "outputs": [
    {
     "name": "stdout",
     "output_type": "stream",
     "text": [
      "\u001b[90m# A tibble: 2 × 6\u001b[39m\n",
      "  university_educated mean_age proportion_male proportion_female\n",
      "                \u001b[3m\u001b[90m<dbl>\u001b[39m\u001b[23m    \u001b[3m\u001b[90m<dbl>\u001b[39m\u001b[23m           \u001b[3m\u001b[90m<dbl>\u001b[39m\u001b[23m             \u001b[3m\u001b[90m<dbl>\u001b[39m\u001b[23m\n",
      "\u001b[90m1\u001b[39m                   0     11.3           0.495             0.505\n",
      "\u001b[90m2\u001b[39m                   1     13.0           0.545             0.455\n",
      "  proportion_immigrant proportion_non_immigrant\n",
      "                 \u001b[3m\u001b[90m<dbl>\u001b[39m\u001b[23m                    \u001b[3m\u001b[90m<dbl>\u001b[39m\u001b[23m\n",
      "\u001b[90m1\u001b[39m                0.192                    0.790\n",
      "\u001b[90m2\u001b[39m                0.366                    0.586\n"
     ]
    }
   ],
   "source": [
    "print(balance_check, width = Inf)\n"
   ]
  },
  {
   "cell_type": "code",
   "execution_count": 40,
   "id": "c85bdfbb-3df4-49be-b366-489427b00510",
   "metadata": {},
   "outputs": [
    {
     "data": {
      "text/plain": [
       "<labelled<double>[6]>: Immigration: Immigrant status\n",
       "[1] 88  2  1  1  1  1\n",
       "\n",
       "Labels:\n",
       " value                   label\n",
       "     1          Non-immigrants\n",
       "     2              Immigrants\n",
       "     3 Non-permanent residents\n",
       "    88           Not available"
      ]
     },
     "metadata": {},
     "output_type": "display_data"
    }
   ],
   "source": [
    "head(cenus_data$immstat)"
   ]
  },
  {
   "cell_type": "code",
   "execution_count": 1,
   "id": "2e4c6c05-821b-4782-83ff-7492dcb6a142",
   "metadata": {},
   "outputs": [
    {
     "ename": "ERROR",
     "evalue": "Error in eval(mf, parent.frame()): object 'census_data' not found\n",
     "output_type": "error",
     "traceback": [
      "Error in eval(mf, parent.frame()): object 'census_data' not found\nTraceback:\n",
      "1. eval(mf, parent.frame())",
      "2. eval(mf, parent.frame())",
      "3. stats::model.frame(formula = university_educated ~ agegrp + Gender + \n .     immstat, data = census_data, drop.unused.levels = TRUE)",
      "4. model.frame.default(formula = university_educated ~ agegrp + \n .     Gender + immstat, data = census_data, drop.unused.levels = TRUE)",
      "5. is.data.frame(data)",
      "6. .handleSimpleError(function (cnd) \n . {\n .     watcher$capture_plot_and_output()\n .     cnd <- sanitize_call(cnd)\n .     watcher$push(cnd)\n .     switch(on_error, continue = invokeRestart(\"eval_continue\"), \n .         stop = invokeRestart(\"eval_stop\"), error = NULL)\n . }, \"object 'census_data' not found\", base::quote(eval(mf, parent.frame())))"
     ]
    }
   ],
   "source": [
    "Regression <- glm(university_educated ~ agegrp + Gender + immstat, \n",
    "                   data = census_data, \n",
    "                   family = binomial)\n",
    "\n",
    "summary(Regression)\n",
    "\n"
   ]
  },
  {
   "cell_type": "code",
   "execution_count": 66,
   "id": "2a590750-15e3-479b-946a-2aada6831e09",
   "metadata": {},
   "outputs": [
    {
     "data": {
      "text/plain": [
       "\n",
       "Call:\n",
       "lm(formula = Wages ~ university_educated + agegrp + Gender + \n",
       "    NOC21, data = cenus_data)\n",
       "\n",
       "Residuals:\n",
       "     Min       1Q   Median       3Q      Max \n",
       "-7441223  -618796  -363462  -191164 88998990 \n",
       "\n",
       "Coefficients:\n",
       "                     Estimate Std. Error t value Pr(>|t|)    \n",
       "(Intercept)         -606221.1    25718.4 -23.571  < 2e-16 ***\n",
       "university_educated  -37776.5    20752.6  -1.820   0.0687 .  \n",
       "agegrp                74132.0     1595.5  46.463  < 2e-16 ***\n",
       "Gender2             -105337.2    18894.6  -5.575 2.48e-08 ***\n",
       "NOC21                 15392.2      368.5  41.768  < 2e-16 ***\n",
       "---\n",
       "Signif. codes:  0 ‘***’ 0.001 ‘**’ 0.01 ‘*’ 0.05 ‘.’ 0.1 ‘ ’ 1\n",
       "\n",
       "Residual standard error: 6806000 on 523610 degrees of freedom\n",
       "  (457253 observations deleted due to missingness)\n",
       "Multiple R-squared:  0.008452,\tAdjusted R-squared:  0.008445 \n",
       "F-statistic:  1116 on 4 and 523610 DF,  p-value: < 2.2e-16\n"
      ]
     },
     "metadata": {},
     "output_type": "display_data"
    }
   ],
   "source": [
    "model <- lm(Wages ~ university_educated + agegrp + Gender + NOC21, data = cenus_data)\n",
    "summary(model)\n"
   ]
  },
  {
   "cell_type": "code",
   "execution_count": null,
   "id": "9d18f23e-727a-4175-b26d-ec4b0ea3d50f",
   "metadata": {},
   "outputs": [],
   "source": []
  }
 ],
 "metadata": {
  "kernelspec": {
   "display_name": "R",
   "language": "R",
   "name": "ir"
  },
  "language_info": {
   "codemirror_mode": "r",
   "file_extension": ".r",
   "mimetype": "text/x-r-source",
   "name": "R",
   "pygments_lexer": "r",
   "version": "4.3.3"
  }
 },
 "nbformat": 4,
 "nbformat_minor": 5
}
